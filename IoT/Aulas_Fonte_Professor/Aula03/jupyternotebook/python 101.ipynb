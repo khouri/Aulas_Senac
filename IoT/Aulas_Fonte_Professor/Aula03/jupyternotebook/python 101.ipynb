{
 "cells": [
  {
   "cell_type": "markdown",
   "metadata": {
    "ExecuteTime": {
     "end_time": "2019-11-08T13:58:54.315894Z",
     "start_time": "2019-11-08T13:58:54.311891Z"
    }
   },
   "source": [
    "Tutorial obtido em: [Python 101](https://python101.pythonlibrary.org/chapter2_strings.html). Para instalar o juyter notebook:"
   ]
  },
  {
   "cell_type": "markdown",
   "metadata": {},
   "source": [
    "```bash\n",
    "pip3 install jupyter\n",
    "```"
   ]
  },
  {
   "cell_type": "markdown",
   "metadata": {},
   "source": [
    "# Python 101"
   ]
  },
  {
   "cell_type": "code",
   "execution_count": null,
   "metadata": {
    "ExecuteTime": {
     "end_time": "2019-11-08T13:58:25.970057Z",
     "start_time": "2019-11-08T13:58:25.955707Z"
    }
   },
   "outputs": [],
   "source": [
    "string  = \"\"\"Ai 'is the' new! á electricity\"\"\"\n",
    "display(string)\n",
    "\n",
    "outraString = \"\"\"O número de alunos na classe é {0} cada aluno tem um salário de {1} dólares\"\"\".format(45, 100000.35)\n",
    "display(outraString)\n",
    "\n",
    "display(outraString.upper())\n",
    "\n",
    "display(outraString.lower())\n"
   ]
  },
  {
   "cell_type": "markdown",
   "metadata": {},
   "source": [
    "# Como saber os métodos de um objeto?"
   ]
  },
  {
   "cell_type": "code",
   "execution_count": null,
   "metadata": {
    "ExecuteTime": {
     "end_time": "2019-11-08T13:56:16.938321Z",
     "start_time": "2019-11-08T13:56:16.932938Z"
    }
   },
   "outputs": [],
   "source": [
    "display(dir(outraString))"
   ]
  },
  {
   "cell_type": "markdown",
   "metadata": {},
   "source": [
    "# Como saber o que o método faz?"
   ]
  },
  {
   "cell_type": "code",
   "execution_count": null,
   "metadata": {
    "ExecuteTime": {
     "end_time": "2019-11-08T13:56:57.773253Z",
     "start_time": "2019-11-08T13:56:57.765293Z"
    }
   },
   "outputs": [],
   "source": [
    "display(help(outraString.capitalize))\n"
   ]
  },
  {
   "cell_type": "markdown",
   "metadata": {},
   "source": [
    "# Exemplo de lista em python"
   ]
  },
  {
   "cell_type": "code",
   "execution_count": null,
   "metadata": {
    "ExecuteTime": {
     "end_time": "2019-11-08T14:08:00.180736Z",
     "start_time": "2019-11-08T14:08:00.175033Z"
    }
   },
   "outputs": [],
   "source": [
    "my_list2 = [\"z\", \"a\", \"b\", \"c\"]\n",
    "print(my_list2)\n",
    "\n",
    "# Comentário em python - pergunta, quais métodos tem o objeto list?\n",
    "\n",
    "my_list_gambiarra = [\"a\", 1, \"Python\", 5]\n",
    "print(my_list_gambiarra)\n",
    "\n",
    "combo_list = [] #posso fazer isso senhores?\n",
    "combo_list = my_list2 + my_list_gambiarra\n",
    "print(combo_list)\n",
    "\n",
    "\n",
    "my_list_to_be_sorted = [2,4,5,1,4,12,45,0]\n",
    "my_list_to_be_sorted.sort() # o que é um método inplace?\n",
    "print(my_list_to_be_sorted)\n",
    "\n"
   ]
  },
  {
   "cell_type": "code",
   "execution_count": null,
   "metadata": {
    "ExecuteTime": {
     "end_time": "2019-11-08T14:03:19.765054Z",
     "start_time": "2019-11-08T14:03:19.760870Z"
    }
   },
   "outputs": [],
   "source": [
    "#Qual a diferenca de tupla e lista?\n",
    "\n",
    "my_tuple = (1, 2, 3, 4, 5)\n",
    "print(my_tuple)"
   ]
  },
  {
   "cell_type": "markdown",
   "metadata": {},
   "source": [
    "# O que é um dicionário?"
   ]
  },
  {
   "cell_type": "code",
   "execution_count": null,
   "metadata": {
    "ExecuteTime": {
     "end_time": "2019-11-08T14:13:34.087724Z",
     "start_time": "2019-11-08T14:13:34.082850Z"
    }
   },
   "outputs": [],
   "source": [
    "# Dicionários são como tabelas hash em python - que é isso professor?\n",
    "\n",
    "\n",
    "dictionary = dict()\n",
    "my_other_dict = {\"one\":1, \"two\":2, \"three\":3}\n",
    "print(my_other_dict)\n",
    "print(my_other_dict[\"one\"])\n",
    "print(\"one\" in my_other_dict)\n",
    "\n",
    "print(1 in my_other_dict)\n",
    "\n",
    "#Quais sao os métodos de dicionario?\n"
   ]
  },
  {
   "cell_type": "code",
   "execution_count": null,
   "metadata": {},
   "outputs": [],
   "source": []
  },
  {
   "cell_type": "markdown",
   "metadata": {},
   "source": [
    "# Condicionais "
   ]
  },
  {
   "cell_type": "code",
   "execution_count": null,
   "metadata": {
    "ExecuteTime": {
     "end_time": "2019-11-08T14:16:44.980003Z",
     "start_time": "2019-11-08T14:16:44.972961Z"
    }
   },
   "outputs": [],
   "source": [
    "#precisa de identação professor? Sei lá cara testa sem e tenta 'compilar'\n",
    "if 2 > 1:\n",
    "    print(\"Xgboost\")\n",
    "    \n",
    "    \n",
    "value = 10\n",
    "#professor tem dois operadores \"menores ou igual\"\n",
    "if value <= 10:\n",
    "    print(\"That's a great deal!\")\n",
    "elif 10 <= value <= 20:\n",
    "    print(\"I'd still pay that...\")\n",
    "else:\n",
    "    print(\"Wow! That's too much!\")\n"
   ]
  },
  {
   "cell_type": "code",
   "execution_count": null,
   "metadata": {
    "ExecuteTime": {
     "end_time": "2019-11-08T14:17:28.021975Z",
     "start_time": "2019-11-08T14:17:28.017301Z"
    }
   },
   "outputs": [],
   "source": [
    "# negação\n",
    "my_list = [1, 2, 3, 4]\n",
    "x = 10\n",
    "if x not in my_list:\n",
    "    print(\"'x' is not in the list, so this is True!\")\n"
   ]
  },
  {
   "cell_type": "code",
   "execution_count": null,
   "metadata": {
    "ExecuteTime": {
     "end_time": "2019-11-08T14:17:34.216286Z",
     "start_time": "2019-11-08T14:17:34.211761Z"
    }
   },
   "outputs": [],
   "source": [
    "# E\n",
    "x = 10\n",
    "y = 10\n",
    "if x == 10 and y == 15:\n",
    "    print(\"This statement was True\")\n",
    "else:\n",
    "    print(\"The statement was False!\")"
   ]
  },
  {
   "cell_type": "code",
   "execution_count": null,
   "metadata": {
    "ExecuteTime": {
     "end_time": "2019-11-08T14:18:14.045420Z",
     "start_time": "2019-11-08T14:18:14.040980Z"
    }
   },
   "outputs": [],
   "source": [
    "#valores especiais\n",
    "empty_list = []\n",
    "empty_tuple = ()\n",
    "empty_string = \"\"\n",
    "nothing = None\n",
    "\n",
    "if empty_list == []:\n",
    "    print(\"It's an empty list!\")\n",
    "\n",
    "if empty_tuple:\n",
    "    print(\"It's not an empty tuple!\")\n",
    "\n",
    "if not empty_string:\n",
    "    print(\"This is an empty string!\")\n",
    "\n",
    "if not nothing:\n",
    "    print(\"Then it's nothing!\")"
   ]
  },
  {
   "cell_type": "markdown",
   "metadata": {},
   "source": [
    "# Caracteres Especiais"
   ]
  },
  {
   "cell_type": "code",
   "execution_count": null,
   "metadata": {
    "ExecuteTime": {
     "end_time": "2019-11-08T14:18:59.797008Z",
     "start_time": "2019-11-08T14:18:59.792445Z"
    }
   },
   "outputs": [],
   "source": [
    "print(\"I have a \\n new line in the middle\")"
   ]
  },
  {
   "cell_type": "code",
   "execution_count": null,
   "metadata": {
    "ExecuteTime": {
     "end_time": "2019-11-08T14:20:36.172243Z",
     "start_time": "2019-11-08T14:20:36.168967Z"
    }
   },
   "outputs": [],
   "source": [
    "print(\"This is a backslash \\\\\") # funciona com uma barra só professor?"
   ]
  },
  {
   "cell_type": "code",
   "execution_count": null,
   "metadata": {
    "ExecuteTime": {
     "end_time": "2019-11-08T14:21:11.786505Z",
     "start_time": "2019-11-08T14:21:11.782907Z"
    }
   },
   "outputs": [],
   "source": [
    "if __name__ == \"__main__\":\n",
    "    print(\"Exemplo de main para colocar em scripts python, aqui não precisa\")\n"
   ]
  },
  {
   "cell_type": "code",
   "execution_count": null,
   "metadata": {},
   "outputs": [],
   "source": []
  },
  {
   "cell_type": "markdown",
   "metadata": {},
   "source": [
    "# Repetições"
   ]
  },
  {
   "cell_type": "code",
   "execution_count": null,
   "metadata": {
    "ExecuteTime": {
     "end_time": "2019-11-08T14:24:11.342070Z",
     "start_time": "2019-11-08T14:24:11.337082Z"
    }
   },
   "outputs": [],
   "source": [
    "list(range(1, 10, 2)) # o que faz esse método professor? Cade o print?"
   ]
  },
  {
   "cell_type": "code",
   "execution_count": null,
   "metadata": {
    "ExecuteTime": {
     "end_time": "2019-11-08T14:26:51.066346Z",
     "start_time": "2019-11-08T14:26:51.056477Z"
    }
   },
   "outputs": [],
   "source": [
    "for number in range(1,10,2):\n",
    "    print(number)\n",
    "print(\"----------------------------\")\n",
    "for number in [0, 1, 2, 3, 4]:\n",
    "       print(number)\n",
    "print(\"----------------------------\")\n",
    "a_dict = {\"one\":1, \"two\":2, \"three\":3}\n",
    "for key in a_dict:\n",
    "    print(key)\n",
    "    print(a_dict[key])"
   ]
  },
  {
   "cell_type": "code",
   "execution_count": null,
   "metadata": {
    "ExecuteTime": {
     "end_time": "2019-11-08T14:31:09.565595Z",
     "start_time": "2019-11-08T14:31:09.558972Z"
    }
   },
   "outputs": [],
   "source": [
    "i = 0\n",
    "while i < 10:\n",
    "        print(i)#a identação esta errada professor!\n",
    "        i = i + 1"
   ]
  },
  {
   "cell_type": "markdown",
   "metadata": {},
   "source": [
    "# Exceptions"
   ]
  },
  {
   "cell_type": "code",
   "execution_count": null,
   "metadata": {
    "ExecuteTime": {
     "end_time": "2019-11-09T13:18:51.953654Z",
     "start_time": "2019-11-09T13:18:51.948970Z"
    }
   },
   "outputs": [],
   "source": [
    "my_dict = {\"a\":1, \"b\":2, \"c\":3}\n",
    "\n",
    "try:#bloco que pode lançar uma exception\n",
    "    value = my_dict[\"d\"]\n",
    "except KeyError:#Exception aser tratada\n",
    "    print(\"A KeyError occurred!\")\n",
    "finally:#Sempre executa\n",
    "    print(\"The finally statement has executed!\")\n",
    "\n"
   ]
  },
  {
   "cell_type": "markdown",
   "metadata": {},
   "source": [
    "# Leitura de arquivos"
   ]
  },
  {
   "cell_type": "code",
   "execution_count": null,
   "metadata": {
    "ExecuteTime": {
     "end_time": "2019-11-09T13:23:08.865282Z",
     "start_time": "2019-11-09T13:23:08.849590Z"
    }
   },
   "outputs": [],
   "source": [
    "handle = open(\"dataType.txt\", \"r\")\n",
    "data = handle.read()\n",
    "print(data)\n",
    "handle.close()#Faltou alguma coisa aqui senhores?"
   ]
  },
  {
   "cell_type": "code",
   "execution_count": null,
   "metadata": {
    "ExecuteTime": {
     "end_time": "2019-11-09T13:24:34.555880Z",
     "start_time": "2019-11-09T13:24:34.493394Z"
    }
   },
   "outputs": [],
   "source": [
    "handle = open(\"dataType.txt\", \"r\")\n",
    "\n",
    "for line in handle:\n",
    "    print(line)\n",
    "\n",
    "handle.close()#É igual professor?"
   ]
  },
  {
   "cell_type": "code",
   "execution_count": null,
   "metadata": {
    "ExecuteTime": {
     "end_time": "2019-11-09T13:25:57.566011Z",
     "start_time": "2019-11-09T13:25:57.551049Z"
    }
   },
   "outputs": [],
   "source": [
    "handle = open(\"dataType.txt\", \"r\")\n",
    "\n",
    "while True:\n",
    "    data = handle.read(1024)#le um pedaco em bytes do arquivo por vez\n",
    "    print(data)\n",
    "    if not data:\n",
    "        break"
   ]
  },
  {
   "cell_type": "code",
   "execution_count": null,
   "metadata": {
    "ExecuteTime": {
     "end_time": "2019-11-09T13:29:53.006875Z",
     "start_time": "2019-11-09T13:29:35.700513Z"
    }
   },
   "outputs": [],
   "source": [
    "# handle = open(\"teste.pdf\", \"rb\")\n",
    "with open(\"teste.pdf\", \"rb\") as f:\n",
    "    byte = f.read(1)\n",
    "    while byte != b\"\":\n",
    "        # Do stuff with byte.\n",
    "        byte = f.read(1)\n",
    "        print(byte)"
   ]
  },
  {
   "cell_type": "code",
   "execution_count": null,
   "metadata": {
    "ExecuteTime": {
     "end_time": "2019-11-09T13:30:20.240133Z",
     "start_time": "2019-11-09T13:30:20.234569Z"
    }
   },
   "outputs": [],
   "source": [
    "handle = open(\"testEscrita.txt\", \"w\")\n",
    "handle.write(\"This is a test!\")\n",
    "handle.close()\n"
   ]
  },
  {
   "cell_type": "code",
   "execution_count": null,
   "metadata": {
    "ExecuteTime": {
     "end_time": "2019-11-09T13:32:00.876699Z",
     "start_time": "2019-11-09T13:32:00.807902Z"
    }
   },
   "outputs": [],
   "source": [
    "with open(\"dataType.txt\") as file_handler: #o que seria with?\n",
    "    for line in file_handler:\n",
    "        print(line)"
   ]
  },
  {
   "cell_type": "markdown",
   "metadata": {},
   "source": [
    "# E se tivermos algum problema?"
   ]
  },
  {
   "cell_type": "code",
   "execution_count": null,
   "metadata": {},
   "outputs": [],
   "source": []
  },
  {
   "cell_type": "code",
   "execution_count": null,
   "metadata": {
    "ExecuteTime": {
     "end_time": "2019-11-09T13:32:21.411774Z",
     "start_time": "2019-11-09T13:32:21.405322Z"
    }
   },
   "outputs": [],
   "source": [
    "try:\n",
    "    file_handler = open(\"test.txt\")\n",
    "    for line in file_handler:\n",
    "        print(line)\n",
    "except IOError:\n",
    "    print(\"An IOError has occurred!\")\n",
    "finally:\n",
    "    file_handler.close()"
   ]
  },
  {
   "cell_type": "code",
   "execution_count": null,
   "metadata": {},
   "outputs": [],
   "source": []
  },
  {
   "cell_type": "markdown",
   "metadata": {},
   "source": [
    "# Como usar bibliotecas?"
   ]
  },
  {
   "cell_type": "code",
   "execution_count": 5,
   "metadata": {
    "ExecuteTime": {
     "end_time": "2019-11-09T13:38:38.449195Z",
     "start_time": "2019-11-09T13:38:38.446734Z"
    }
   },
   "outputs": [],
   "source": [
    "import this "
   ]
  },
  {
   "cell_type": "code",
   "execution_count": 4,
   "metadata": {
    "ExecuteTime": {
     "end_time": "2019-11-09T13:38:37.662531Z",
     "start_time": "2019-11-09T13:38:37.658095Z"
    }
   },
   "outputs": [
    {
     "data": {
      "text/plain": [
       "2.0"
      ]
     },
     "execution_count": 4,
     "metadata": {},
     "output_type": "execute_result"
    }
   ],
   "source": [
    "import math\n",
    "math.sqrt(4)"
   ]
  },
  {
   "cell_type": "code",
   "execution_count": null,
   "metadata": {
    "ExecuteTime": {
     "end_time": "2019-11-09T13:37:05.294894Z",
     "start_time": "2019-11-09T13:37:05.289260Z"
    }
   },
   "outputs": [],
   "source": [
    "from math import sqrt\n",
    "sqrt(16)"
   ]
  },
  {
   "cell_type": "code",
   "execution_count": 1,
   "metadata": {
    "ExecuteTime": {
     "end_time": "2019-11-09T13:38:29.209575Z",
     "start_time": "2019-11-09T13:38:29.196756Z"
    }
   },
   "outputs": [
    {
     "data": {
      "text/plain": [
       "4.0"
      ]
     },
     "execution_count": 1,
     "metadata": {},
     "output_type": "execute_result"
    }
   ],
   "source": [
    "from math import *\n",
    "sqrt(16)"
   ]
  },
  {
   "cell_type": "markdown",
   "metadata": {},
   "source": [
    "# Funções Python"
   ]
  },
  {
   "cell_type": "code",
   "execution_count": 49,
   "metadata": {
    "ExecuteTime": {
     "end_time": "2019-11-09T14:56:09.068663Z",
     "start_time": "2019-11-09T14:56:09.063356Z"
    }
   },
   "outputs": [
    {
     "data": {
      "text/plain": [
       "6"
      ]
     },
     "metadata": {},
     "output_type": "display_data"
    }
   ],
   "source": [
    "def mixed_function(a, b=2, c=3):# o que sao esse parametros bizarros professor?\n",
    "        return a+b+c\n",
    "\n",
    "display(mixed_function(1))"
   ]
  },
  {
   "cell_type": "markdown",
   "metadata": {},
   "source": [
    "# Professor, eu preciso de infinitos argumentos na minha função"
   ]
  },
  {
   "cell_type": "markdown",
   "metadata": {},
   "source": [
    "Temos as palavras *args e **kwargs para isso"
   ]
  },
  {
   "cell_type": "code",
   "execution_count": 13,
   "metadata": {
    "ExecuteTime": {
     "end_time": "2019-11-09T13:44:06.025505Z",
     "start_time": "2019-11-09T13:44:06.020470Z"
    }
   },
   "outputs": [
    {
     "name": "stdout",
     "output_type": "stream",
     "text": [
      "(1, 2, 3)\n",
      "{'name': 'Mike', 'job': 'programmer'}\n"
     ]
    }
   ],
   "source": [
    "def many(*args, **kwargs):\n",
    "        print(args)\n",
    "        print(kwargs)\n",
    "\n",
    "many(1, 2, 3, name=\"Mike\", job=\"programmer\")"
   ]
  },
  {
   "cell_type": "code",
   "execution_count": 18,
   "metadata": {
    "ExecuteTime": {
     "end_time": "2019-11-09T13:48:04.236017Z",
     "start_time": "2019-11-09T13:48:04.228006Z"
    }
   },
   "outputs": [
    {
     "name": "stdout",
     "output_type": "stream",
     "text": [
      "blue\n",
      "red\n"
     ]
    }
   ],
   "source": [
    "\n",
    "class Vehicle(object):\n",
    "    \"\"\"docstring\"\"\"\n",
    "\n",
    "    def __init__(self, color, doors, tires): # O que é self?\n",
    "        \"\"\"Constructor\"\"\"\n",
    "        self.color = color\n",
    "        self.doors = doors\n",
    "        self.tires = tires\n",
    "\n",
    "    def brake(self):\n",
    "        \"\"\"\n",
    "        Stop the car\n",
    "        \"\"\"\n",
    "        return \"Braking\"\n",
    "\n",
    "    def drive(self):\n",
    "        \"\"\"\n",
    "        Drive the car\n",
    "        \"\"\"\n",
    "        return \"I'm driving!\"\n",
    "    \n",
    "#O que e esse 'if' horrivel?\n",
    "# garante que o codigo não sera executado se importado em outro arquivo\n",
    "if __name__ == \"__main__\":\n",
    "    car = Vehicle(\"blue\", 5, 4)\n",
    "    print(car.color)\n",
    "\n",
    "    truck = Vehicle(\"red\", 3, 6)\n",
    "    print(truck.color)    "
   ]
  },
  {
   "cell_type": "code",
   "execution_count": 20,
   "metadata": {
    "ExecuteTime": {
     "end_time": "2019-11-09T13:49:10.523078Z",
     "start_time": "2019-11-09T13:49:10.514245Z"
    }
   },
   "outputs": [
    {
     "data": {
      "text/plain": [
       "str"
      ]
     },
     "metadata": {},
     "output_type": "display_data"
    },
    {
     "data": {
      "text/plain": [
       "int"
      ]
     },
     "metadata": {},
     "output_type": "display_data"
    },
    {
     "data": {
      "text/plain": [
       "NoneType"
      ]
     },
     "metadata": {},
     "output_type": "display_data"
    }
   ],
   "source": [
    "#linguagme nao tipada\n",
    "x = \"test\"\n",
    "y = 7\n",
    "z = None\n",
    "\n",
    "display(type(x))\n",
    "display(type(y))\n",
    "display(type(z))\n"
   ]
  },
  {
   "cell_type": "code",
   "execution_count": 21,
   "metadata": {
    "ExecuteTime": {
     "end_time": "2019-11-09T14:32:30.621889Z",
     "start_time": "2019-11-09T14:32:30.609408Z"
    }
   },
   "outputs": [
    {
     "data": {
      "text/plain": [
       "['__add__',\n",
       " '__class__',\n",
       " '__contains__',\n",
       " '__delattr__',\n",
       " '__dir__',\n",
       " '__doc__',\n",
       " '__eq__',\n",
       " '__format__',\n",
       " '__ge__',\n",
       " '__getattribute__',\n",
       " '__getitem__',\n",
       " '__getnewargs__',\n",
       " '__gt__',\n",
       " '__hash__',\n",
       " '__init__',\n",
       " '__init_subclass__',\n",
       " '__iter__',\n",
       " '__le__',\n",
       " '__len__',\n",
       " '__lt__',\n",
       " '__mod__',\n",
       " '__mul__',\n",
       " '__ne__',\n",
       " '__new__',\n",
       " '__reduce__',\n",
       " '__reduce_ex__',\n",
       " '__repr__',\n",
       " '__rmod__',\n",
       " '__rmul__',\n",
       " '__setattr__',\n",
       " '__sizeof__',\n",
       " '__str__',\n",
       " '__subclasshook__',\n",
       " 'capitalize',\n",
       " 'casefold',\n",
       " 'center',\n",
       " 'count',\n",
       " 'encode',\n",
       " 'endswith',\n",
       " 'expandtabs',\n",
       " 'find',\n",
       " 'format',\n",
       " 'format_map',\n",
       " 'index',\n",
       " 'isalnum',\n",
       " 'isalpha',\n",
       " 'isdecimal',\n",
       " 'isdigit',\n",
       " 'isidentifier',\n",
       " 'islower',\n",
       " 'isnumeric',\n",
       " 'isprintable',\n",
       " 'isspace',\n",
       " 'istitle',\n",
       " 'isupper',\n",
       " 'join',\n",
       " 'ljust',\n",
       " 'lower',\n",
       " 'lstrip',\n",
       " 'maketrans',\n",
       " 'partition',\n",
       " 'replace',\n",
       " 'rfind',\n",
       " 'rindex',\n",
       " 'rjust',\n",
       " 'rpartition',\n",
       " 'rsplit',\n",
       " 'rstrip',\n",
       " 'split',\n",
       " 'splitlines',\n",
       " 'startswith',\n",
       " 'strip',\n",
       " 'swapcase',\n",
       " 'title',\n",
       " 'translate',\n",
       " 'upper',\n",
       " 'zfill']"
      ]
     },
     "execution_count": 21,
     "metadata": {},
     "output_type": "execute_result"
    }
   ],
   "source": [
    "dir(\"test\")"
   ]
  },
  {
   "cell_type": "markdown",
   "metadata": {},
   "source": [
    "# OS"
   ]
  },
  {
   "cell_type": "code",
   "execution_count": 30,
   "metadata": {
    "ExecuteTime": {
     "end_time": "2019-11-09T14:34:45.624834Z",
     "start_time": "2019-11-09T14:34:45.620287Z"
    }
   },
   "outputs": [
    {
     "name": "stdout",
     "output_type": "stream",
     "text": [
      "darwin\n"
     ]
    }
   ],
   "source": [
    "import sys\n",
    "dir(sys)\n",
    "# sys.plataform\n",
    "print(sys.platform) #OS"
   ]
  },
  {
   "cell_type": "code",
   "execution_count": 31,
   "metadata": {
    "ExecuteTime": {
     "end_time": "2019-11-09T14:35:35.015443Z",
     "start_time": "2019-11-09T14:35:35.010724Z"
    }
   },
   "outputs": [
    {
     "data": {
      "text/plain": [
       "'posix'"
      ]
     },
     "execution_count": 31,
     "metadata": {},
     "output_type": "execute_result"
    }
   ],
   "source": [
    "import os\n",
    "os.name"
   ]
  },
  {
   "cell_type": "code",
   "execution_count": 33,
   "metadata": {
    "ExecuteTime": {
     "end_time": "2019-11-09T14:36:12.341934Z",
     "start_time": "2019-11-09T14:36:12.338561Z"
    }
   },
   "outputs": [],
   "source": [
    "os.environ\n"
   ]
  },
  {
   "cell_type": "code",
   "execution_count": 39,
   "metadata": {
    "ExecuteTime": {
     "end_time": "2019-11-09T14:37:36.524218Z",
     "start_time": "2019-11-09T14:37:36.519270Z"
    }
   },
   "outputs": [
    {
     "name": "stdout",
     "output_type": "stream",
     "text": [
      "/Users/adilsonlopeskhouri/Desktop/aulas/Aulas_Senac/IoT/Aulas_Fonte_Professor/Aula03/jupyternotebook\n",
      "/Users/adilsonlopeskhouri/Desktop/aulas/Aulas_Senac/IoT/Aulas_Fonte_Professor/Aula03\n"
     ]
    }
   ],
   "source": [
    "print(os.getcwd())\n",
    "os.chdir(\"/Users/adilsonlopeskhouri/Desktop/aulas/Aulas_Senac/IoT/Aulas_Fonte_Professor/Aula03/\")\n",
    "print(os.getcwd())\n",
    "os.chdir(\"/Users/adilsonlopeskhouri/Desktop/aulas/Aulas_Senac/IoT/Aulas_Fonte_Professor/Aula03/jupyternotebook\")"
   ]
  },
  {
   "cell_type": "code",
   "execution_count": 40,
   "metadata": {
    "ExecuteTime": {
     "end_time": "2019-11-09T14:44:16.881992Z",
     "start_time": "2019-11-09T14:44:16.873149Z"
    }
   },
   "outputs": [],
   "source": [
    "os.mkdir(\"test\")"
   ]
  },
  {
   "cell_type": "code",
   "execution_count": 43,
   "metadata": {
    "ExecuteTime": {
     "end_time": "2019-11-09T14:45:45.504604Z",
     "start_time": "2019-11-09T14:45:45.500361Z"
    }
   },
   "outputs": [],
   "source": [
    "path = \"/Users/adilsonlopeskhouri/Desktop/aulas/Aulas_Senac/IoT/Aulas_Fonte_Professor/Aula03/jupyternotebook/test/1/2/3/4/5/6/7/8\"\n",
    "os.makedirs(path)"
   ]
  },
  {
   "cell_type": "code",
   "execution_count": null,
   "metadata": {},
   "outputs": [],
   "source": [
    "os.remove(\"testAAAA.txt\") # REMOVE ARQUIVOS\n",
    "os.rmdir(\"pytest\") #REMOVE DIRETÓRIO\n",
    "os.startfile(r'C:\\Users\\mike\\Documents\\labels.pdf')#ABRE ARQUIVO COM O PROGRAMA ASSOCIADO\n",
    "\n"
   ]
  },
  {
   "cell_type": "code",
   "execution_count": 46,
   "metadata": {
    "ExecuteTime": {
     "end_time": "2019-11-09T14:52:41.484722Z",
     "start_time": "2019-11-09T14:52:41.472721Z"
    }
   },
   "outputs": [
    {
     "name": "stdout",
     "output_type": "stream",
     "text": [
      "/Users/adilsonlopeskhouri/Desktop/aulas/Aulas_Senac/IoT/Aulas_Fonte_Professor/Aula03/\n",
      "/Users/adilsonlopeskhouri/Desktop/aulas/Aulas_Senac/IoT/Aulas_Fonte_Professor/Aula03/test\n",
      "/Users/adilsonlopeskhouri/Desktop/aulas/Aulas_Senac/IoT/Aulas_Fonte_Professor/Aula03/test/1\n",
      "/Users/adilsonlopeskhouri/Desktop/aulas/Aulas_Senac/IoT/Aulas_Fonte_Professor/Aula03/test/1/2\n",
      "/Users/adilsonlopeskhouri/Desktop/aulas/Aulas_Senac/IoT/Aulas_Fonte_Professor/Aula03/test/1/2/3\n",
      "/Users/adilsonlopeskhouri/Desktop/aulas/Aulas_Senac/IoT/Aulas_Fonte_Professor/Aula03/test/1/2/3/4\n",
      "/Users/adilsonlopeskhouri/Desktop/aulas/Aulas_Senac/IoT/Aulas_Fonte_Professor/Aula03/test/1/2/3/4/5\n",
      "/Users/adilsonlopeskhouri/Desktop/aulas/Aulas_Senac/IoT/Aulas_Fonte_Professor/Aula03/test/1/2/3/4/5/6\n",
      "/Users/adilsonlopeskhouri/Desktop/aulas/Aulas_Senac/IoT/Aulas_Fonte_Professor/Aula03/test/1/2/3/4/5/6/7\n",
      "/Users/adilsonlopeskhouri/Desktop/aulas/Aulas_Senac/IoT/Aulas_Fonte_Professor/Aula03/test/1/2/3/4/5/6/7/8\n",
      "/Users/adilsonlopeskhouri/Desktop/aulas/Aulas_Senac/IoT/Aulas_Fonte_Professor/Aula03/secoes\n",
      "/Users/adilsonlopeskhouri/Desktop/aulas/Aulas_Senac/IoT/Aulas_Fonte_Professor/Aula03/secoes/EDA\n",
      "/Users/adilsonlopeskhouri/Desktop/aulas/Aulas_Senac/IoT/Aulas_Fonte_Professor/Aula03/secoes/Cronograma\n",
      "/Users/adilsonlopeskhouri/Desktop/aulas/Aulas_Senac/IoT/Aulas_Fonte_Professor/Aula03/PDF\n",
      "/Users/adilsonlopeskhouri/Desktop/aulas/Aulas_Senac/IoT/Aulas_Fonte_Professor/Aula03/jupyternotebook\n",
      "/Users/adilsonlopeskhouri/Desktop/aulas/Aulas_Senac/IoT/Aulas_Fonte_Professor/Aula03/jupyternotebook/test\n",
      "/Users/adilsonlopeskhouri/Desktop/aulas/Aulas_Senac/IoT/Aulas_Fonte_Professor/Aula03/jupyternotebook/test/1\n",
      "/Users/adilsonlopeskhouri/Desktop/aulas/Aulas_Senac/IoT/Aulas_Fonte_Professor/Aula03/jupyternotebook/test/1/2\n",
      "/Users/adilsonlopeskhouri/Desktop/aulas/Aulas_Senac/IoT/Aulas_Fonte_Professor/Aula03/jupyternotebook/test/1/2/3\n",
      "/Users/adilsonlopeskhouri/Desktop/aulas/Aulas_Senac/IoT/Aulas_Fonte_Professor/Aula03/jupyternotebook/test/1/2/3/4\n",
      "/Users/adilsonlopeskhouri/Desktop/aulas/Aulas_Senac/IoT/Aulas_Fonte_Professor/Aula03/jupyternotebook/test/1/2/3/4/5\n",
      "/Users/adilsonlopeskhouri/Desktop/aulas/Aulas_Senac/IoT/Aulas_Fonte_Professor/Aula03/jupyternotebook/test/1/2/3/4/5/6\n",
      "/Users/adilsonlopeskhouri/Desktop/aulas/Aulas_Senac/IoT/Aulas_Fonte_Professor/Aula03/jupyternotebook/test/1/2/3/4/5/6/7\n",
      "/Users/adilsonlopeskhouri/Desktop/aulas/Aulas_Senac/IoT/Aulas_Fonte_Professor/Aula03/jupyternotebook/test/1/2/3/4/5/6/7/8\n",
      "/Users/adilsonlopeskhouri/Desktop/aulas/Aulas_Senac/IoT/Aulas_Fonte_Professor/Aula03/jupyternotebook/.ipynb_checkpoints\n",
      "/Users/adilsonlopeskhouri/Desktop/aulas/Aulas_Senac/IoT/Aulas_Fonte_Professor/Aula03/pic\n"
     ]
    }
   ],
   "source": [
    "#ITERACAO RECURSIVA POR DIRETORIOS\n",
    "path = \"/Users/adilsonlopeskhouri/Desktop/aulas/Aulas_Senac/IoT/Aulas_Fonte_Professor/Aula03/\"\n",
    "for root, dirs, files in os.walk(path):\n",
    "    print(root)\n"
   ]
  },
  {
   "cell_type": "code",
   "execution_count": 53,
   "metadata": {
    "ExecuteTime": {
     "end_time": "2019-11-09T15:02:14.822375Z",
     "start_time": "2019-11-09T15:02:14.815878Z"
    }
   },
   "outputs": [
    {
     "data": {
      "text/plain": [
       "'dataType.txt'"
      ]
     },
     "execution_count": 53,
     "metadata": {},
     "output_type": "execute_result"
    }
   ],
   "source": [
    "os.path.basename(\"/Users/adilsonlopeskhouri/Desktop/aulas/Aulas_Senac/IoT/Aulas_Fonte_Professor/Aula03/jupyternotebook/dataType.txt\")"
   ]
  },
  {
   "cell_type": "code",
   "execution_count": 54,
   "metadata": {
    "ExecuteTime": {
     "end_time": "2019-11-09T15:02:21.369258Z",
     "start_time": "2019-11-09T15:02:21.364327Z"
    }
   },
   "outputs": [
    {
     "data": {
      "text/plain": [
       "'/Users/adilsonlopeskhouri/Desktop/aulas/Aulas_Senac/IoT/Aulas_Fonte_Professor/Aula03/jupyternotebook'"
      ]
     },
     "execution_count": 54,
     "metadata": {},
     "output_type": "execute_result"
    }
   ],
   "source": [
    "os.path.dirname(\"/Users/adilsonlopeskhouri/Desktop/aulas/Aulas_Senac/IoT/Aulas_Fonte_Professor/Aula03/jupyternotebook/dataType.txt\")"
   ]
  },
  {
   "cell_type": "code",
   "execution_count": 55,
   "metadata": {
    "ExecuteTime": {
     "end_time": "2019-11-09T15:02:39.868976Z",
     "start_time": "2019-11-09T15:02:39.863491Z"
    }
   },
   "outputs": [
    {
     "data": {
      "text/plain": [
       "True"
      ]
     },
     "execution_count": 55,
     "metadata": {},
     "output_type": "execute_result"
    }
   ],
   "source": [
    "os.path.exists(\"/Users/adilsonlopeskhouri/Desktop/aulas/Aulas_Senac/IoT/Aulas_Fonte_Professor/Aula03/jupyternotebook/dataType.txt\")"
   ]
  },
  {
   "cell_type": "code",
   "execution_count": 56,
   "metadata": {
    "ExecuteTime": {
     "end_time": "2019-11-09T15:04:46.902070Z",
     "start_time": "2019-11-09T15:04:46.896351Z"
    }
   },
   "outputs": [
    {
     "data": {
      "text/plain": [
       "True"
      ]
     },
     "execution_count": 56,
     "metadata": {},
     "output_type": "execute_result"
    }
   ],
   "source": [
    "os.path.isfile(\"/Users/adilsonlopeskhouri/Desktop/aulas/Aulas_Senac/IoT/Aulas_Fonte_Professor/Aula03/jupyternotebook/dataType.txt\")"
   ]
  },
  {
   "cell_type": "code",
   "execution_count": 57,
   "metadata": {
    "ExecuteTime": {
     "end_time": "2019-11-09T15:04:55.691407Z",
     "start_time": "2019-11-09T15:04:55.686194Z"
    }
   },
   "outputs": [
    {
     "data": {
      "text/plain": [
       "True"
      ]
     },
     "execution_count": 57,
     "metadata": {},
     "output_type": "execute_result"
    }
   ],
   "source": [
    "os.path.isdir(\"/Users/adilsonlopeskhouri/Desktop/aulas/Aulas_Senac/IoT/Aulas_Fonte_Professor/Aula03/jupyternotebook/\")"
   ]
  },
  {
   "cell_type": "code",
   "execution_count": 81,
   "metadata": {
    "ExecuteTime": {
     "end_time": "2019-11-09T15:10:43.042324Z",
     "start_time": "2019-11-09T15:10:43.037630Z"
    }
   },
   "outputs": [
    {
     "data": {
      "text/plain": [
       "'/Users/adilsonlopeskhouri/Desktop/aulas/Aulas_Senac/IoT/Aulas_Fonte_Professor/Aula03/jupyternotebook/dataType/'"
      ]
     },
     "execution_count": 81,
     "metadata": {},
     "output_type": "execute_result"
    }
   ],
   "source": [
    "os.path.join(\"/Users/adilsonlopeskhouri/Desktop/aulas/Aulas_Senac/IoT/Aulas_Fonte_Professor/Aula03/jupyternotebook/\", \"dataType/\")"
   ]
  },
  {
   "cell_type": "code",
   "execution_count": 83,
   "metadata": {
    "ExecuteTime": {
     "end_time": "2019-11-09T15:11:37.656741Z",
     "start_time": "2019-11-09T15:11:37.650575Z"
    }
   },
   "outputs": [
    {
     "data": {
      "text/plain": [
       "('/Users/adilsonlopeskhouri/Desktop/aulas/Aulas_Senac/IoT/Aulas_Fonte_Professor/Aula03/jupyternotebook',\n",
       " 'dataType.txt')"
      ]
     },
     "execution_count": 83,
     "metadata": {},
     "output_type": "execute_result"
    }
   ],
   "source": [
    "os.path.split(\"/Users/adilsonlopeskhouri/Desktop/aulas/Aulas_Senac/IoT/Aulas_Fonte_Professor/Aula03/jupyternotebook/dataType.txt\")"
   ]
  },
  {
   "cell_type": "markdown",
   "metadata": {},
   "source": [
    "# Tempo"
   ]
  },
  {
   "cell_type": "code",
   "execution_count": 90,
   "metadata": {
    "ExecuteTime": {
     "end_time": "2019-11-09T15:15:25.063172Z",
     "start_time": "2019-11-09T15:15:25.057648Z"
    }
   },
   "outputs": [
    {
     "data": {
      "text/plain": [
       "datetime.datetime(2014, 3, 5, 0, 0)"
      ]
     },
     "execution_count": 90,
     "metadata": {},
     "output_type": "execute_result"
    }
   ],
   "source": [
    "datetime.datetime(2014, 3, 5) #por que isso deu erro senhores? por que funciona agora? isso é bruxaria professor?"
   ]
  },
  {
   "cell_type": "code",
   "execution_count": null,
   "metadata": {},
   "outputs": [],
   "source": []
  },
  {
   "cell_type": "code",
   "execution_count": null,
   "metadata": {},
   "outputs": [],
   "source": []
  },
  {
   "cell_type": "code",
   "execution_count": null,
   "metadata": {},
   "outputs": [],
   "source": []
  },
  {
   "cell_type": "code",
   "execution_count": 98,
   "metadata": {
    "ExecuteTime": {
     "end_time": "2019-11-09T15:17:44.065176Z",
     "start_time": "2019-11-09T15:17:44.058809Z"
    }
   },
   "outputs": [
    {
     "name": "stdout",
     "output_type": "stream",
     "text": [
      "2014-03-05 11:23:45\n",
      "5\n",
      "3\n",
      "2014\n",
      "45\n",
      "23\n",
      "11\n"
     ]
    }
   ],
   "source": [
    "import datetime\n",
    "minhaDAtaMinhaVida = datetime.datetime(2014, 3, 5, 11, 23, 45) #por que isso deu erro senhores?\n",
    "print(minhaDAtaMinhaVida)\n",
    "print(minhaDAtaMinhaVida.day)\n",
    "print(minhaDAtaMinhaVida.month)\n",
    "print(minhaDAtaMinhaVida.year)\n",
    "\n",
    "print(minhaDAtaMinhaVida.second)\n",
    "print(minhaDAtaMinhaVida.minute)\n",
    "print(minhaDAtaMinhaVida.hour)\n"
   ]
  },
  {
   "cell_type": "code",
   "execution_count": 92,
   "metadata": {
    "ExecuteTime": {
     "end_time": "2019-11-09T15:15:58.511217Z",
     "start_time": "2019-11-09T15:15:58.506539Z"
    }
   },
   "outputs": [
    {
     "name": "stdout",
     "output_type": "stream",
     "text": [
      "2019-11-09\n"
     ]
    }
   ],
   "source": [
    "print(datetime.date.today())"
   ]
  },
  {
   "cell_type": "code",
   "execution_count": 93,
   "metadata": {
    "ExecuteTime": {
     "end_time": "2019-11-09T15:16:16.407739Z",
     "start_time": "2019-11-09T15:16:16.401783Z"
    }
   },
   "outputs": [
    {
     "name": "stdout",
     "output_type": "stream",
     "text": [
      "2019-11-09 12:16:16.404298\n"
     ]
    }
   ],
   "source": [
    "print(datetime.datetime.now())"
   ]
  },
  {
   "cell_type": "markdown",
   "metadata": {},
   "source": [
    "# professor, a data é muito feia (formato fora de padrão)"
   ]
  },
  {
   "cell_type": "code",
   "execution_count": 100,
   "metadata": {
    "ExecuteTime": {
     "end_time": "2019-11-09T15:18:39.383221Z",
     "start_time": "2019-11-09T15:18:39.377614Z"
    }
   },
   "outputs": [
    {
     "data": {
      "text/plain": [
       "'2019-11-09'"
      ]
     },
     "execution_count": 100,
     "metadata": {},
     "output_type": "execute_result"
    }
   ],
   "source": [
    "datetime.datetime.today().strftime(\"%Y-%m-%d\")"
   ]
  },
  {
   "cell_type": "code",
   "execution_count": 103,
   "metadata": {
    "ExecuteTime": {
     "end_time": "2019-11-09T15:19:12.845863Z",
     "start_time": "2019-11-09T15:19:12.840915Z"
    }
   },
   "outputs": [
    {
     "data": {
      "text/plain": [
       "'2019-11-09-12.19.12'"
      ]
     },
     "execution_count": 103,
     "metadata": {},
     "output_type": "execute_result"
    }
   ],
   "source": [
    "datetime.datetime.today().strftime(\"%Y-%m-%d-%H.%M.%S\")"
   ]
  },
  {
   "cell_type": "markdown",
   "metadata": {},
   "source": [
    "# timedelta"
   ]
  },
  {
   "cell_type": "code",
   "execution_count": 112,
   "metadata": {
    "ExecuteTime": {
     "end_time": "2019-11-09T15:22:17.170601Z",
     "start_time": "2019-11-09T15:22:17.165792Z"
    }
   },
   "outputs": [
    {
     "name": "stdout",
     "output_type": "stream",
     "text": [
      "2019-11-09 12:22:17.167687\n",
      "2\n",
      "44537\n"
     ]
    }
   ],
   "source": [
    "now = datetime.datetime.now()\n",
    "print(now)\n",
    "then = datetime.datetime(2019, 11, 7)\n",
    "delta = now - then\n",
    "type(delta)\n",
    "\n",
    "print(delta.days)\n",
    "\n",
    "print(delta.seconds)"
   ]
  },
  {
   "cell_type": "markdown",
   "metadata": {},
   "source": [
    "# Epoca"
   ]
  },
  {
   "cell_type": "code",
   "execution_count": 113,
   "metadata": {
    "ExecuteTime": {
     "end_time": "2019-11-09T15:22:45.999766Z",
     "start_time": "2019-11-09T15:22:45.996325Z"
    }
   },
   "outputs": [],
   "source": [
    "import time"
   ]
  },
  {
   "cell_type": "code",
   "execution_count": null,
   "metadata": {},
   "outputs": [],
   "source": []
  },
  {
   "cell_type": "markdown",
   "metadata": {},
   "source": [
    "# pandas"
   ]
  },
  {
   "cell_type": "code",
   "execution_count": 133,
   "metadata": {
    "ExecuteTime": {
     "end_time": "2019-11-09T15:50:50.768318Z",
     "start_time": "2019-11-09T15:50:50.748328Z"
    }
   },
   "outputs": [
    {
     "name": "stdout",
     "output_type": "stream",
     "text": [
      "(891, 12)\n"
     ]
    },
    {
     "data": {
      "text/html": [
       "<div>\n",
       "<style scoped>\n",
       "    .dataframe tbody tr th:only-of-type {\n",
       "        vertical-align: middle;\n",
       "    }\n",
       "\n",
       "    .dataframe tbody tr th {\n",
       "        vertical-align: top;\n",
       "    }\n",
       "\n",
       "    .dataframe thead th {\n",
       "        text-align: right;\n",
       "    }\n",
       "</style>\n",
       "<table border=\"1\" class=\"dataframe\">\n",
       "  <thead>\n",
       "    <tr style=\"text-align: right;\">\n",
       "      <th></th>\n",
       "      <th>PassengerId</th>\n",
       "      <th>Survived</th>\n",
       "      <th>Pclass</th>\n",
       "      <th>Name</th>\n",
       "      <th>Sex</th>\n",
       "      <th>Age</th>\n",
       "      <th>SibSp</th>\n",
       "      <th>Parch</th>\n",
       "      <th>Ticket</th>\n",
       "      <th>Fare</th>\n",
       "      <th>Cabin</th>\n",
       "      <th>Embarked</th>\n",
       "    </tr>\n",
       "  </thead>\n",
       "  <tbody>\n",
       "    <tr>\n",
       "      <th>1</th>\n",
       "      <td>2</td>\n",
       "      <td>1</td>\n",
       "      <td>1</td>\n",
       "      <td>Cumings, Mrs. John Bradley (Florence Briggs Th...</td>\n",
       "      <td>female</td>\n",
       "      <td>38.0</td>\n",
       "      <td>1</td>\n",
       "      <td>0</td>\n",
       "      <td>PC 17599</td>\n",
       "      <td>71.2833</td>\n",
       "      <td>C85</td>\n",
       "      <td>C</td>\n",
       "    </tr>\n",
       "  </tbody>\n",
       "</table>\n",
       "</div>"
      ],
      "text/plain": [
       "   PassengerId  Survived  Pclass  \\\n",
       "1            2         1       1   \n",
       "\n",
       "                                                Name     Sex   Age  SibSp  \\\n",
       "1  Cumings, Mrs. John Bradley (Florence Briggs Th...  female  38.0      1   \n",
       "\n",
       "   Parch    Ticket     Fare Cabin Embarked  \n",
       "1      0  PC 17599  71.2833   C85        C  "
      ]
     },
     "metadata": {},
     "output_type": "display_data"
    }
   ],
   "source": [
    "#libs científicas\n",
    "import pandas as pd\n",
    "import numpy as np\n",
    "\n",
    "#Leitura de dados\n",
    "train_df = pd.read_csv('train.csv')\n",
    "# display(train_df.head(n=3))\n",
    "\n",
    "print(train_df.shape)\n",
    "# print(train_df[\"PassengerId\"])\n",
    "\n",
    "display(train_df[1:2])\n"
   ]
  },
  {
   "cell_type": "code",
   "execution_count": null,
   "metadata": {},
   "outputs": [],
   "source": []
  },
  {
   "cell_type": "markdown",
   "metadata": {},
   "source": [
    "# Medidas de estatística descritiva"
   ]
  },
  {
   "cell_type": "markdown",
   "metadata": {},
   "source": [
    "## Média"
   ]
  },
  {
   "cell_type": "markdown",
   "metadata": {},
   "source": [
    "Medida de tendência central que indica onde estão concentrados os valores de um conjunto de dados. Vamos usar o dataset titanic para isso [datasetKaggle](https://www.kaggle.com/c/titanic/data)"
   ]
  },
  {
   "cell_type": "code",
   "execution_count": 144,
   "metadata": {
    "ExecuteTime": {
     "end_time": "2019-11-09T15:56:51.821079Z",
     "start_time": "2019-11-09T15:56:51.800575Z"
    }
   },
   "outputs": [
    {
     "name": "stdout",
     "output_type": "stream",
     "text": [
      "29.69911764705882\n",
      "28.0\n",
      "30.0\n",
      "29.5\n"
     ]
    }
   ],
   "source": [
    "# Libs científicas\n",
    "import pandas as pd\n",
    "import numpy as np\n",
    "\n",
    "# Leitura de dados\n",
    "train_df = pd.read_csv('train.csv')\n",
    "\n",
    "# print(train_df['Age'].values)\n",
    "print(train_df['Age'].mean())\n"
   ]
  },
  {
   "cell_type": "markdown",
   "metadata": {},
   "source": [
    "# Mediana"
   ]
  },
  {
   "cell_type": "code",
   "execution_count": 149,
   "metadata": {
    "ExecuteTime": {
     "end_time": "2019-11-09T16:01:06.088271Z",
     "start_time": "2019-11-09T16:01:06.079535Z"
    }
   },
   "outputs": [
    {
     "name": "stdout",
     "output_type": "stream",
     "text": [
      "28.0\n",
      "30.0\n",
      "29.5\n"
     ]
    }
   ],
   "source": [
    "print(train_df['Age'].median())\n",
    "\n",
    "# impar\n",
    "example_series =  pd.Series([1,5,10,15,30,32,40,45,50])\n",
    "print(example_series.median())\n",
    "\n",
    "# par\n",
    "example_series =  pd.Series([1,5,10,29,30,32,40,45])\n",
    "print(example_series.median())\n"
   ]
  },
  {
   "cell_type": "markdown",
   "metadata": {},
   "source": [
    "# Quantil"
   ]
  },
  {
   "cell_type": "markdown",
   "metadata": {
    "ExecuteTime": {
     "end_time": "2019-11-09T15:59:33.768699Z",
     "start_time": "2019-11-09T15:59:33.756213Z"
    }
   },
   "source": [
    "O quantil pode ser entendido como uma generalização da mediana. O quantil é o valor abaixo do qual está um certo percentual dos dados. No caso da mediana, esse percentual é de 50%. \n"
   ]
  },
  {
   "cell_type": "code",
   "execution_count": 153,
   "metadata": {
    "ExecuteTime": {
     "end_time": "2019-11-09T16:03:10.752269Z",
     "start_time": "2019-11-09T16:03:10.744809Z"
    }
   },
   "outputs": [
    {
     "name": "stdout",
     "output_type": "stream",
     "text": [
      "30.0\n",
      "10.0\n",
      "30.0\n"
     ]
    }
   ],
   "source": [
    "example_series =  pd.Series([1,5,10,15,30,32,40,45,50])\n",
    "\n",
    "# print(train_df['Age'].quantile())# o padrãoé 50%\n",
    "\n",
    "print(example_series.quantile())\n",
    "\n",
    "\n",
    "# print(train_df['Age'].quantile(q=0.25))\n",
    "\n",
    "print(example_series.quantile(q=0.25))\n",
    "print(example_series.quantile(q=0.50))\n",
    "\n"
   ]
  },
  {
   "cell_type": "markdown",
   "metadata": {},
   "source": [
    "# Moda"
   ]
  },
  {
   "cell_type": "markdown",
   "metadata": {},
   "source": [
    "O que é moda? Valor que mais se repete no conjunto de dados"
   ]
  },
  {
   "cell_type": "code",
   "execution_count": 156,
   "metadata": {
    "ExecuteTime": {
     "end_time": "2019-11-09T16:06:19.739873Z",
     "start_time": "2019-11-09T16:06:19.734237Z"
    }
   },
   "outputs": [
    {
     "name": "stdout",
     "output_type": "stream",
     "text": [
      "0    24.0\n",
      "dtype: float64\n",
      "0    30\n",
      "dtype: int64\n"
     ]
    }
   ],
   "source": [
    "print(train_df['Age'].mode())\n",
    "\n",
    "example_series =  pd.Series([1,5,10,15,30,30,40,45,50])\n",
    "\n",
    "print(example_series.mode())"
   ]
  },
  {
   "cell_type": "markdown",
   "metadata": {},
   "source": [
    "### Medidas de Dispersão"
   ]
  },
  {
   "cell_type": "markdown",
   "metadata": {},
   "source": [
    "#### Amplitude"
   ]
  },
  {
   "cell_type": "markdown",
   "metadata": {},
   "source": [
    "Máximo - Mínimo = $X$ "
   ]
  },
  {
   "cell_type": "code",
   "execution_count": 158,
   "metadata": {
    "ExecuteTime": {
     "end_time": "2019-11-09T16:12:41.413259Z",
     "start_time": "2019-11-09T16:12:41.408015Z"
    }
   },
   "outputs": [
    {
     "name": "stdout",
     "output_type": "stream",
     "text": [
      "79.58\n",
      "49\n"
     ]
    }
   ],
   "source": [
    "print(train_df['Age'].max() - train_df['Age'].min())\n",
    "print(example_series.max() - example_series.min())"
   ]
  },
  {
   "cell_type": "markdown",
   "metadata": {},
   "source": [
    "##### Variância"
   ]
  },
  {
   "cell_type": "markdown",
   "metadata": {},
   "source": [
    "A variância é uma medida que expressa quanto os dados de um conjunto estão afastados de seu valor esperado. Calculamos a variância no Pandas através da função $var()$:"
   ]
  },
  {
   "cell_type": "markdown",
   "metadata": {},
   "source": [
    "$var (x)=\\sum \\frac{(x_{i}-\\bar{x})^2}{n}$"
   ]
  },
  {
   "cell_type": "code",
   "execution_count": 163,
   "metadata": {
    "ExecuteTime": {
     "end_time": "2019-11-09T16:18:07.910539Z",
     "start_time": "2019-11-09T16:18:07.905745Z"
    }
   },
   "outputs": [
    {
     "name": "stdout",
     "output_type": "stream",
     "text": [
      "211.01912474630802\n",
      "325.1111111111111\n"
     ]
    }
   ],
   "source": [
    "print(train_df['Age'].var())\n",
    "print(example_series.var())"
   ]
  },
  {
   "cell_type": "markdown",
   "metadata": {},
   "source": [
    "# Desvio padrão"
   ]
  },
  {
   "cell_type": "markdown",
   "metadata": {},
   "source": [
    "A variância ao quadrado"
   ]
  },
  {
   "cell_type": "markdown",
   "metadata": {},
   "source": [
    "$ \\sigma =\\sqrt {\\sum \\frac{(x_{i}-\\bar{x})^2}{n}} $"
   ]
  },
  {
   "cell_type": "code",
   "execution_count": 166,
   "metadata": {
    "ExecuteTime": {
     "end_time": "2019-11-09T16:20:42.229552Z",
     "start_time": "2019-11-09T16:20:42.224232Z"
    }
   },
   "outputs": [
    {
     "name": "stdout",
     "output_type": "stream",
     "text": [
      "14.526497332334042\n",
      "18.03\n"
     ]
    }
   ],
   "source": [
    "print(train_df['Age'].std())\n",
    "print(round(example_series.std(), 2)) # round 1 figth! ;)   arredonda casas decimais"
   ]
  },
  {
   "cell_type": "code",
   "execution_count": null,
   "metadata": {},
   "outputs": [],
   "source": []
  },
  {
   "cell_type": "code",
   "execution_count": null,
   "metadata": {},
   "outputs": [],
   "source": []
  },
  {
   "cell_type": "code",
   "execution_count": null,
   "metadata": {},
   "outputs": [],
   "source": []
  },
  {
   "cell_type": "code",
   "execution_count": null,
   "metadata": {},
   "outputs": [],
   "source": []
  },
  {
   "cell_type": "code",
   "execution_count": null,
   "metadata": {},
   "outputs": [],
   "source": []
  },
  {
   "cell_type": "code",
   "execution_count": null,
   "metadata": {},
   "outputs": [],
   "source": []
  }
 ],
 "metadata": {
  "kernelspec": {
   "display_name": "Python 3",
   "language": "python",
   "name": "python3"
  },
  "language_info": {
   "codemirror_mode": {
    "name": "ipython",
    "version": 3
   },
   "file_extension": ".py",
   "mimetype": "text/x-python",
   "name": "python",
   "nbconvert_exporter": "python",
   "pygments_lexer": "ipython3",
   "version": "3.6.5"
  }
 },
 "nbformat": 4,
 "nbformat_minor": 2
}
