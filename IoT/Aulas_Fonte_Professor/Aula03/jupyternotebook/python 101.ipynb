{
 "cells": [
  {
   "cell_type": "markdown",
   "metadata": {
    "ExecuteTime": {
     "end_time": "2019-11-08T13:58:54.315894Z",
     "start_time": "2019-11-08T13:58:54.311891Z"
    }
   },
   "source": [
    "Tutorial obtido em: [Python 101](https://python101.pythonlibrary.org/chapter2_strings.html). Para instalar o juyter notebook:"
   ]
  },
  {
   "cell_type": "markdown",
   "metadata": {},
   "source": [
    "```bash\n",
    "pip3 install jupyter\n",
    "```"
   ]
  },
  {
   "cell_type": "markdown",
   "metadata": {},
   "source": [
    "# Python 101"
   ]
  },
  {
   "cell_type": "code",
   "execution_count": null,
   "metadata": {
    "ExecuteTime": {
     "end_time": "2019-11-08T13:58:25.970057Z",
     "start_time": "2019-11-08T13:58:25.955707Z"
    }
   },
   "outputs": [],
   "source": [
    "string  = \"\"\"Ai 'is the' new! á electricity\"\"\"\n",
    "display(string)\n",
    "\n",
    "outraString = \"\"\"O número de alunos na classe é {0} cada aluno tem um salário de {1} dólares\"\"\".format(45, 100000.35)\n",
    "display(outraString)\n",
    "\n",
    "display(outraString.upper())\n",
    "\n",
    "display(outraString.lower())\n"
   ]
  },
  {
   "cell_type": "markdown",
   "metadata": {},
   "source": [
    "# Como saber os métodos de um objeto?"
   ]
  },
  {
   "cell_type": "code",
   "execution_count": null,
   "metadata": {
    "ExecuteTime": {
     "end_time": "2019-11-08T13:56:16.938321Z",
     "start_time": "2019-11-08T13:56:16.932938Z"
    }
   },
   "outputs": [],
   "source": [
    "display(dir(outraString))"
   ]
  },
  {
   "cell_type": "markdown",
   "metadata": {},
   "source": [
    "# Como saber o que o método faz?"
   ]
  },
  {
   "cell_type": "code",
   "execution_count": null,
   "metadata": {
    "ExecuteTime": {
     "end_time": "2019-11-08T13:56:57.773253Z",
     "start_time": "2019-11-08T13:56:57.765293Z"
    }
   },
   "outputs": [],
   "source": [
    "display(help(outraString.capitalize))\n"
   ]
  },
  {
   "cell_type": "markdown",
   "metadata": {},
   "source": [
    "# Exemplo de lista em python"
   ]
  },
  {
   "cell_type": "code",
   "execution_count": null,
   "metadata": {
    "ExecuteTime": {
     "end_time": "2019-11-08T14:08:00.180736Z",
     "start_time": "2019-11-08T14:08:00.175033Z"
    }
   },
   "outputs": [],
   "source": [
    "my_list2 = [\"z\", \"a\", \"b\", \"c\"]\n",
    "print(my_list2)\n",
    "\n",
    "# Comentário em python - pergunta, quais métodos tem o objeto list?\n",
    "\n",
    "my_list_gambiarra = [\"a\", 1, \"Python\", 5]\n",
    "print(my_list_gambiarra)\n",
    "\n",
    "combo_list = [] #posso fazer isso senhores?\n",
    "combo_list = my_list2 + my_list_gambiarra\n",
    "print(combo_list)\n",
    "\n",
    "\n",
    "my_list_to_be_sorted = [2,4,5,1,4,12,45,0]\n",
    "my_list_to_be_sorted.sort() # o que é um método inplace?\n",
    "print(my_list_to_be_sorted)\n",
    "\n"
   ]
  },
  {
   "cell_type": "code",
   "execution_count": null,
   "metadata": {
    "ExecuteTime": {
     "end_time": "2019-11-08T14:03:19.765054Z",
     "start_time": "2019-11-08T14:03:19.760870Z"
    }
   },
   "outputs": [],
   "source": [
    "#Qual a diferenca de tupla e lista?\n",
    "\n",
    "my_tuple = (1, 2, 3, 4, 5)\n",
    "print(my_tuple)"
   ]
  },
  {
   "cell_type": "markdown",
   "metadata": {},
   "source": [
    "# O que é um dicionário?"
   ]
  },
  {
   "cell_type": "code",
   "execution_count": null,
   "metadata": {
    "ExecuteTime": {
     "end_time": "2019-11-08T14:13:34.087724Z",
     "start_time": "2019-11-08T14:13:34.082850Z"
    }
   },
   "outputs": [],
   "source": [
    "# Dicionários são como tabelas hash em python - que é isso professor?\n",
    "\n",
    "\n",
    "dictionary = dict()\n",
    "my_other_dict = {\"one\":1, \"two\":2, \"three\":3}\n",
    "print(my_other_dict)\n",
    "print(my_other_dict[\"one\"])\n",
    "print(\"one\" in my_other_dict)\n",
    "\n",
    "print(1 in my_other_dict)\n",
    "\n",
    "#Quais sao os métodos de dicionario?\n"
   ]
  },
  {
   "cell_type": "code",
   "execution_count": null,
   "metadata": {},
   "outputs": [],
   "source": []
  },
  {
   "cell_type": "markdown",
   "metadata": {},
   "source": [
    "# Condicionais "
   ]
  },
  {
   "cell_type": "code",
   "execution_count": null,
   "metadata": {
    "ExecuteTime": {
     "end_time": "2019-11-08T14:16:44.980003Z",
     "start_time": "2019-11-08T14:16:44.972961Z"
    }
   },
   "outputs": [],
   "source": [
    "#precisa de identação professor? Sei lá cara testa sem e tenta 'compilar'\n",
    "if 2 > 1:\n",
    "    print(\"Xgboost\")\n",
    "    \n",
    "    \n",
    "value = 10\n",
    "#professor tem dois operadores \"menores ou igual\"\n",
    "if value <= 10:\n",
    "    print(\"That's a great deal!\")\n",
    "elif 10 <= value <= 20:\n",
    "    print(\"I'd still pay that...\")\n",
    "else:\n",
    "    print(\"Wow! That's too much!\")\n"
   ]
  },
  {
   "cell_type": "code",
   "execution_count": null,
   "metadata": {
    "ExecuteTime": {
     "end_time": "2019-11-08T14:17:28.021975Z",
     "start_time": "2019-11-08T14:17:28.017301Z"
    }
   },
   "outputs": [],
   "source": [
    "# negação\n",
    "my_list = [1, 2, 3, 4]\n",
    "x = 10\n",
    "if x not in my_list:\n",
    "    print(\"'x' is not in the list, so this is True!\")\n"
   ]
  },
  {
   "cell_type": "code",
   "execution_count": null,
   "metadata": {
    "ExecuteTime": {
     "end_time": "2019-11-08T14:17:34.216286Z",
     "start_time": "2019-11-08T14:17:34.211761Z"
    }
   },
   "outputs": [],
   "source": [
    "# E\n",
    "x = 10\n",
    "y = 10\n",
    "if x == 10 and y == 15:\n",
    "    print(\"This statement was True\")\n",
    "else:\n",
    "    print(\"The statement was False!\")"
   ]
  },
  {
   "cell_type": "code",
   "execution_count": null,
   "metadata": {
    "ExecuteTime": {
     "end_time": "2019-11-08T14:18:14.045420Z",
     "start_time": "2019-11-08T14:18:14.040980Z"
    }
   },
   "outputs": [],
   "source": [
    "#valores especiais\n",
    "empty_list = []\n",
    "empty_tuple = ()\n",
    "empty_string = \"\"\n",
    "nothing = None\n",
    "\n",
    "if empty_list == []:\n",
    "    print(\"It's an empty list!\")\n",
    "\n",
    "if empty_tuple:\n",
    "    print(\"It's not an empty tuple!\")\n",
    "\n",
    "if not empty_string:\n",
    "    print(\"This is an empty string!\")\n",
    "\n",
    "if not nothing:\n",
    "    print(\"Then it's nothing!\")"
   ]
  },
  {
   "cell_type": "markdown",
   "metadata": {},
   "source": [
    "# Caracteres Especiais"
   ]
  },
  {
   "cell_type": "code",
   "execution_count": null,
   "metadata": {
    "ExecuteTime": {
     "end_time": "2019-11-08T14:18:59.797008Z",
     "start_time": "2019-11-08T14:18:59.792445Z"
    }
   },
   "outputs": [],
   "source": [
    "print(\"I have a \\n new line in the middle\")"
   ]
  },
  {
   "cell_type": "code",
   "execution_count": null,
   "metadata": {
    "ExecuteTime": {
     "end_time": "2019-11-08T14:20:36.172243Z",
     "start_time": "2019-11-08T14:20:36.168967Z"
    }
   },
   "outputs": [],
   "source": [
    "print(\"This is a backslash \\\\\") # funciona com uma barra só professor?"
   ]
  },
  {
   "cell_type": "code",
   "execution_count": null,
   "metadata": {
    "ExecuteTime": {
     "end_time": "2019-11-08T14:21:11.786505Z",
     "start_time": "2019-11-08T14:21:11.782907Z"
    }
   },
   "outputs": [],
   "source": [
    "if __name__ == \"__main__\":\n",
    "    print(\"Exemplo de main para colocar em scripts python, aqui não precisa\")\n"
   ]
  },
  {
   "cell_type": "code",
   "execution_count": null,
   "metadata": {},
   "outputs": [],
   "source": []
  },
  {
   "cell_type": "markdown",
   "metadata": {},
   "source": [
    "# Repetições"
   ]
  },
  {
   "cell_type": "code",
   "execution_count": null,
   "metadata": {
    "ExecuteTime": {
     "end_time": "2019-11-08T14:24:11.342070Z",
     "start_time": "2019-11-08T14:24:11.337082Z"
    }
   },
   "outputs": [],
   "source": [
    "list(range(1, 10, 2)) # o que faz esse método professor? Cade o print?"
   ]
  },
  {
   "cell_type": "code",
   "execution_count": null,
   "metadata": {
    "ExecuteTime": {
     "end_time": "2019-11-08T14:26:51.066346Z",
     "start_time": "2019-11-08T14:26:51.056477Z"
    }
   },
   "outputs": [],
   "source": [
    "for number in range(1,10,2):\n",
    "    print(number)\n",
    "print(\"----------------------------\")\n",
    "for number in [0, 1, 2, 3, 4]:\n",
    "       print(number)\n",
    "print(\"----------------------------\")\n",
    "a_dict = {\"one\":1, \"two\":2, \"three\":3}\n",
    "for key in a_dict:\n",
    "    print(key)\n",
    "    print(a_dict[key])"
   ]
  },
  {
   "cell_type": "code",
   "execution_count": null,
   "metadata": {
    "ExecuteTime": {
     "end_time": "2019-11-08T14:31:09.565595Z",
     "start_time": "2019-11-08T14:31:09.558972Z"
    }
   },
   "outputs": [],
   "source": [
    "i = 0\n",
    "while i < 10:\n",
    "        print(i)#a identação esta errada professor!\n",
    "        i = i + 1"
   ]
  },
  {
   "cell_type": "markdown",
   "metadata": {},
   "source": [
    "# Exceptions"
   ]
  },
  {
   "cell_type": "code",
   "execution_count": null,
   "metadata": {
    "ExecuteTime": {
     "end_time": "2019-11-09T13:18:51.953654Z",
     "start_time": "2019-11-09T13:18:51.948970Z"
    }
   },
   "outputs": [],
   "source": [
    "my_dict = {\"a\":1, \"b\":2, \"c\":3}\n",
    "\n",
    "try:#bloco que pode lançar uma exception\n",
    "    value = my_dict[\"d\"]\n",
    "except KeyError:#Exception aser tratada\n",
    "    print(\"A KeyError occurred!\")\n",
    "finally:#Sempre executa\n",
    "    print(\"The finally statement has executed!\")\n",
    "\n"
   ]
  },
  {
   "cell_type": "markdown",
   "metadata": {},
   "source": [
    "# Leitura de arquivos"
   ]
  },
  {
   "cell_type": "code",
   "execution_count": null,
   "metadata": {
    "ExecuteTime": {
     "end_time": "2019-11-09T13:23:08.865282Z",
     "start_time": "2019-11-09T13:23:08.849590Z"
    }
   },
   "outputs": [],
   "source": [
    "handle = open(\"dataType.txt\", \"r\")\n",
    "data = handle.read()\n",
    "print(data)\n",
    "handle.close()#Faltou alguma coisa aqui senhores?"
   ]
  },
  {
   "cell_type": "code",
   "execution_count": null,
   "metadata": {
    "ExecuteTime": {
     "end_time": "2019-11-09T13:24:34.555880Z",
     "start_time": "2019-11-09T13:24:34.493394Z"
    }
   },
   "outputs": [],
   "source": [
    "handle = open(\"dataType.txt\", \"r\")\n",
    "\n",
    "for line in handle:\n",
    "    print(line)\n",
    "\n",
    "handle.close()#É igual professor?"
   ]
  },
  {
   "cell_type": "code",
   "execution_count": null,
   "metadata": {
    "ExecuteTime": {
     "end_time": "2019-11-09T13:25:57.566011Z",
     "start_time": "2019-11-09T13:25:57.551049Z"
    }
   },
   "outputs": [],
   "source": [
    "handle = open(\"dataType.txt\", \"r\")\n",
    "\n",
    "while True:\n",
    "    data = handle.read(1024)#le um pedaco em bytes do arquivo por vez\n",
    "    print(data)\n",
    "    if not data:\n",
    "        break"
   ]
  },
  {
   "cell_type": "code",
   "execution_count": null,
   "metadata": {
    "ExecuteTime": {
     "end_time": "2019-11-09T13:29:53.006875Z",
     "start_time": "2019-11-09T13:29:35.700513Z"
    }
   },
   "outputs": [],
   "source": [
    "# handle = open(\"teste.pdf\", \"rb\")\n",
    "with open(\"teste.pdf\", \"rb\") as f:\n",
    "    byte = f.read(1)\n",
    "    while byte != b\"\":\n",
    "        # Do stuff with byte.\n",
    "        byte = f.read(1)\n",
    "        print(byte)"
   ]
  },
  {
   "cell_type": "code",
   "execution_count": null,
   "metadata": {
    "ExecuteTime": {
     "end_time": "2019-11-09T13:30:20.240133Z",
     "start_time": "2019-11-09T13:30:20.234569Z"
    }
   },
   "outputs": [],
   "source": [
    "handle = open(\"testEscrita.txt\", \"w\")\n",
    "handle.write(\"This is a test!\")\n",
    "handle.close()\n"
   ]
  },
  {
   "cell_type": "code",
   "execution_count": null,
   "metadata": {
    "ExecuteTime": {
     "end_time": "2019-11-09T13:32:00.876699Z",
     "start_time": "2019-11-09T13:32:00.807902Z"
    }
   },
   "outputs": [],
   "source": [
    "with open(\"dataType.txt\") as file_handler: #o que seria with?\n",
    "    for line in file_handler:\n",
    "        print(line)"
   ]
  },
  {
   "cell_type": "markdown",
   "metadata": {},
   "source": [
    "# E se tivermos algum problema?"
   ]
  },
  {
   "cell_type": "code",
   "execution_count": null,
   "metadata": {},
   "outputs": [],
   "source": []
  },
  {
   "cell_type": "code",
   "execution_count": null,
   "metadata": {
    "ExecuteTime": {
     "end_time": "2019-11-09T13:32:21.411774Z",
     "start_time": "2019-11-09T13:32:21.405322Z"
    }
   },
   "outputs": [],
   "source": [
    "try:\n",
    "    file_handler = open(\"test.txt\")\n",
    "    for line in file_handler:\n",
    "        print(line)\n",
    "except IOError:\n",
    "    print(\"An IOError has occurred!\")\n",
    "finally:\n",
    "    file_handler.close()"
   ]
  },
  {
   "cell_type": "code",
   "execution_count": null,
   "metadata": {},
   "outputs": [],
   "source": []
  },
  {
   "cell_type": "markdown",
   "metadata": {},
   "source": [
    "# Como usar bibliotecas?"
   ]
  },
  {
   "cell_type": "code",
   "execution_count": 5,
   "metadata": {
    "ExecuteTime": {
     "end_time": "2019-11-09T13:38:38.449195Z",
     "start_time": "2019-11-09T13:38:38.446734Z"
    }
   },
   "outputs": [],
   "source": [
    "import this "
   ]
  },
  {
   "cell_type": "code",
   "execution_count": 4,
   "metadata": {
    "ExecuteTime": {
     "end_time": "2019-11-09T13:38:37.662531Z",
     "start_time": "2019-11-09T13:38:37.658095Z"
    }
   },
   "outputs": [
    {
     "data": {
      "text/plain": [
       "2.0"
      ]
     },
     "execution_count": 4,
     "metadata": {},
     "output_type": "execute_result"
    }
   ],
   "source": [
    "import math\n",
    "math.sqrt(4)"
   ]
  },
  {
   "cell_type": "code",
   "execution_count": null,
   "metadata": {
    "ExecuteTime": {
     "end_time": "2019-11-09T13:37:05.294894Z",
     "start_time": "2019-11-09T13:37:05.289260Z"
    }
   },
   "outputs": [],
   "source": [
    "from math import sqrt\n",
    "sqrt(16)"
   ]
  },
  {
   "cell_type": "code",
   "execution_count": 1,
   "metadata": {
    "ExecuteTime": {
     "end_time": "2019-11-09T13:38:29.209575Z",
     "start_time": "2019-11-09T13:38:29.196756Z"
    }
   },
   "outputs": [
    {
     "data": {
      "text/plain": [
       "4.0"
      ]
     },
     "execution_count": 1,
     "metadata": {},
     "output_type": "execute_result"
    }
   ],
   "source": [
    "from math import *\n",
    "sqrt(16)"
   ]
  },
  {
   "cell_type": "markdown",
   "metadata": {},
   "source": [
    "# Funções Python"
   ]
  },
  {
   "cell_type": "code",
   "execution_count": 49,
   "metadata": {
    "ExecuteTime": {
     "end_time": "2019-11-09T14:56:09.068663Z",
     "start_time": "2019-11-09T14:56:09.063356Z"
    }
   },
   "outputs": [
    {
     "data": {
      "text/plain": [
       "6"
      ]
     },
     "metadata": {},
     "output_type": "display_data"
    }
   ],
   "source": [
    "def mixed_function(a, b=2, c=3):# o que sao esse parametros bizarros professor?\n",
    "        return a+b+c\n",
    "\n",
    "display(mixed_function(1))"
   ]
  },
  {
   "cell_type": "markdown",
   "metadata": {},
   "source": [
    "# Professor, eu preciso de infinitos argumentos na minha função"
   ]
  },
  {
   "cell_type": "markdown",
   "metadata": {},
   "source": [
    "Temos as palavras *args e **kwargs para isso"
   ]
  },
  {
   "cell_type": "code",
   "execution_count": 13,
   "metadata": {
    "ExecuteTime": {
     "end_time": "2019-11-09T13:44:06.025505Z",
     "start_time": "2019-11-09T13:44:06.020470Z"
    }
   },
   "outputs": [
    {
     "name": "stdout",
     "output_type": "stream",
     "text": [
      "(1, 2, 3)\n",
      "{'name': 'Mike', 'job': 'programmer'}\n"
     ]
    }
   ],
   "source": [
    "def many(*args, **kwargs):\n",
    "        print(args)\n",
    "        print(kwargs)\n",
    "\n",
    "many(1, 2, 3, name=\"Mike\", job=\"programmer\")"
   ]
  },
  {
   "cell_type": "code",
   "execution_count": 18,
   "metadata": {
    "ExecuteTime": {
     "end_time": "2019-11-09T13:48:04.236017Z",
     "start_time": "2019-11-09T13:48:04.228006Z"
    }
   },
   "outputs": [
    {
     "name": "stdout",
     "output_type": "stream",
     "text": [
      "blue\n",
      "red\n"
     ]
    }
   ],
   "source": [
    "\n",
    "class Vehicle(object):\n",
    "    \"\"\"docstring\"\"\"\n",
    "\n",
    "    def __init__(self, color, doors, tires): # O que é self?\n",
    "        \"\"\"Constructor\"\"\"\n",
    "        self.color = color\n",
    "        self.doors = doors\n",
    "        self.tires = tires\n",
    "\n",
    "    def brake(self):\n",
    "        \"\"\"\n",
    "        Stop the car\n",
    "        \"\"\"\n",
    "        return \"Braking\"\n",
    "\n",
    "    def drive(self):\n",
    "        \"\"\"\n",
    "        Drive the car\n",
    "        \"\"\"\n",
    "        return \"I'm driving!\"\n",
    "    \n",
    "#O que e esse 'if' horrivel?\n",
    "# garante que o codigo não sera executado se importado em outro arquivo\n",
    "if __name__ == \"__main__\":\n",
    "    car = Vehicle(\"blue\", 5, 4)\n",
    "    print(car.color)\n",
    "\n",
    "    truck = Vehicle(\"red\", 3, 6)\n",
    "    print(truck.color)    "
   ]
  },
  {
   "cell_type": "code",
   "execution_count": 20,
   "metadata": {
    "ExecuteTime": {
     "end_time": "2019-11-09T13:49:10.523078Z",
     "start_time": "2019-11-09T13:49:10.514245Z"
    }
   },
   "outputs": [
    {
     "data": {
      "text/plain": [
       "str"
      ]
     },
     "metadata": {},
     "output_type": "display_data"
    },
    {
     "data": {
      "text/plain": [
       "int"
      ]
     },
     "metadata": {},
     "output_type": "display_data"
    },
    {
     "data": {
      "text/plain": [
       "NoneType"
      ]
     },
     "metadata": {},
     "output_type": "display_data"
    }
   ],
   "source": [
    "#linguagme nao tipada\n",
    "x = \"test\"\n",
    "y = 7\n",
    "z = None\n",
    "\n",
    "display(type(x))\n",
    "display(type(y))\n",
    "display(type(z))\n"
   ]
  },
  {
   "cell_type": "code",
   "execution_count": 21,
   "metadata": {
    "ExecuteTime": {
     "end_time": "2019-11-09T14:32:30.621889Z",
     "start_time": "2019-11-09T14:32:30.609408Z"
    }
   },
   "outputs": [
    {
     "data": {
      "text/plain": [
       "['__add__',\n",
       " '__class__',\n",
       " '__contains__',\n",
       " '__delattr__',\n",
       " '__dir__',\n",
       " '__doc__',\n",
       " '__eq__',\n",
       " '__format__',\n",
       " '__ge__',\n",
       " '__getattribute__',\n",
       " '__getitem__',\n",
       " '__getnewargs__',\n",
       " '__gt__',\n",
       " '__hash__',\n",
       " '__init__',\n",
       " '__init_subclass__',\n",
       " '__iter__',\n",
       " '__le__',\n",
       " '__len__',\n",
       " '__lt__',\n",
       " '__mod__',\n",
       " '__mul__',\n",
       " '__ne__',\n",
       " '__new__',\n",
       " '__reduce__',\n",
       " '__reduce_ex__',\n",
       " '__repr__',\n",
       " '__rmod__',\n",
       " '__rmul__',\n",
       " '__setattr__',\n",
       " '__sizeof__',\n",
       " '__str__',\n",
       " '__subclasshook__',\n",
       " 'capitalize',\n",
       " 'casefold',\n",
       " 'center',\n",
       " 'count',\n",
       " 'encode',\n",
       " 'endswith',\n",
       " 'expandtabs',\n",
       " 'find',\n",
       " 'format',\n",
       " 'format_map',\n",
       " 'index',\n",
       " 'isalnum',\n",
       " 'isalpha',\n",
       " 'isdecimal',\n",
       " 'isdigit',\n",
       " 'isidentifier',\n",
       " 'islower',\n",
       " 'isnumeric',\n",
       " 'isprintable',\n",
       " 'isspace',\n",
       " 'istitle',\n",
       " 'isupper',\n",
       " 'join',\n",
       " 'ljust',\n",
       " 'lower',\n",
       " 'lstrip',\n",
       " 'maketrans',\n",
       " 'partition',\n",
       " 'replace',\n",
       " 'rfind',\n",
       " 'rindex',\n",
       " 'rjust',\n",
       " 'rpartition',\n",
       " 'rsplit',\n",
       " 'rstrip',\n",
       " 'split',\n",
       " 'splitlines',\n",
       " 'startswith',\n",
       " 'strip',\n",
       " 'swapcase',\n",
       " 'title',\n",
       " 'translate',\n",
       " 'upper',\n",
       " 'zfill']"
      ]
     },
     "execution_count": 21,
     "metadata": {},
     "output_type": "execute_result"
    }
   ],
   "source": [
    "dir(\"test\")"
   ]
  },
  {
   "cell_type": "markdown",
   "metadata": {},
   "source": [
    "# OS"
   ]
  },
  {
   "cell_type": "code",
   "execution_count": 30,
   "metadata": {
    "ExecuteTime": {
     "end_time": "2019-11-09T14:34:45.624834Z",
     "start_time": "2019-11-09T14:34:45.620287Z"
    }
   },
   "outputs": [
    {
     "name": "stdout",
     "output_type": "stream",
     "text": [
      "darwin\n"
     ]
    }
   ],
   "source": [
    "import sys\n",
    "dir(sys)\n",
    "# sys.plataform\n",
    "print(sys.platform) #OS"
   ]
  },
  {
   "cell_type": "code",
   "execution_count": 31,
   "metadata": {
    "ExecuteTime": {
     "end_time": "2019-11-09T14:35:35.015443Z",
     "start_time": "2019-11-09T14:35:35.010724Z"
    }
   },
   "outputs": [
    {
     "data": {
      "text/plain": [
       "'posix'"
      ]
     },
     "execution_count": 31,
     "metadata": {},
     "output_type": "execute_result"
    }
   ],
   "source": [
    "import os\n",
    "os.name"
   ]
  },
  {
   "cell_type": "code",
   "execution_count": 33,
   "metadata": {
    "ExecuteTime": {
     "end_time": "2019-11-09T14:36:12.341934Z",
     "start_time": "2019-11-09T14:36:12.338561Z"
    }
   },
   "outputs": [],
   "source": [
    "os.environ\n"
   ]
  },
  {
   "cell_type": "code",
   "execution_count": 39,
   "metadata": {
    "ExecuteTime": {
     "end_time": "2019-11-09T14:37:36.524218Z",
     "start_time": "2019-11-09T14:37:36.519270Z"
    }
   },
   "outputs": [
    {
     "name": "stdout",
     "output_type": "stream",
     "text": [
      "/Users/adilsonlopeskhouri/Desktop/aulas/Aulas_Senac/IoT/Aulas_Fonte_Professor/Aula03/jupyternotebook\n",
      "/Users/adilsonlopeskhouri/Desktop/aulas/Aulas_Senac/IoT/Aulas_Fonte_Professor/Aula03\n"
     ]
    }
   ],
   "source": [
    "print(os.getcwd())\n",
    "os.chdir(\"/Users/adilsonlopeskhouri/Desktop/aulas/Aulas_Senac/IoT/Aulas_Fonte_Professor/Aula03/\")\n",
    "print(os.getcwd())\n",
    "os.chdir(\"/Users/adilsonlopeskhouri/Desktop/aulas/Aulas_Senac/IoT/Aulas_Fonte_Professor/Aula03/jupyternotebook\")"
   ]
  },
  {
   "cell_type": "code",
   "execution_count": 40,
   "metadata": {
    "ExecuteTime": {
     "end_time": "2019-11-09T14:44:16.881992Z",
     "start_time": "2019-11-09T14:44:16.873149Z"
    }
   },
   "outputs": [],
   "source": [
    "os.mkdir(\"test\")"
   ]
  },
  {
   "cell_type": "code",
   "execution_count": 43,
   "metadata": {
    "ExecuteTime": {
     "end_time": "2019-11-09T14:45:45.504604Z",
     "start_time": "2019-11-09T14:45:45.500361Z"
    }
   },
   "outputs": [],
   "source": [
    "path = \"/Users/adilsonlopeskhouri/Desktop/aulas/Aulas_Senac/IoT/Aulas_Fonte_Professor/Aula03/jupyternotebook/test/1/2/3/4/5/6/7/8\"\n",
    "os.makedirs(path)"
   ]
  },
  {
   "cell_type": "code",
   "execution_count": null,
   "metadata": {},
   "outputs": [],
   "source": [
    "os.remove(\"testAAAA.txt\") # REMOVE ARQUIVOS\n",
    "os.rmdir(\"pytest\") #REMOVE DIRETÓRIO\n",
    "os.startfile(r'C:\\Users\\mike\\Documents\\labels.pdf')#ABRE ARQUIVO COM O PROGRAMA ASSOCIADO\n",
    "\n"
   ]
  },
  {
   "cell_type": "code",
   "execution_count": 46,
   "metadata": {
    "ExecuteTime": {
     "end_time": "2019-11-09T14:52:41.484722Z",
     "start_time": "2019-11-09T14:52:41.472721Z"
    }
   },
   "outputs": [
    {
     "name": "stdout",
     "output_type": "stream",
     "text": [
      "/Users/adilsonlopeskhouri/Desktop/aulas/Aulas_Senac/IoT/Aulas_Fonte_Professor/Aula03/\n",
      "/Users/adilsonlopeskhouri/Desktop/aulas/Aulas_Senac/IoT/Aulas_Fonte_Professor/Aula03/test\n",
      "/Users/adilsonlopeskhouri/Desktop/aulas/Aulas_Senac/IoT/Aulas_Fonte_Professor/Aula03/test/1\n",
      "/Users/adilsonlopeskhouri/Desktop/aulas/Aulas_Senac/IoT/Aulas_Fonte_Professor/Aula03/test/1/2\n",
      "/Users/adilsonlopeskhouri/Desktop/aulas/Aulas_Senac/IoT/Aulas_Fonte_Professor/Aula03/test/1/2/3\n",
      "/Users/adilsonlopeskhouri/Desktop/aulas/Aulas_Senac/IoT/Aulas_Fonte_Professor/Aula03/test/1/2/3/4\n",
      "/Users/adilsonlopeskhouri/Desktop/aulas/Aulas_Senac/IoT/Aulas_Fonte_Professor/Aula03/test/1/2/3/4/5\n",
      "/Users/adilsonlopeskhouri/Desktop/aulas/Aulas_Senac/IoT/Aulas_Fonte_Professor/Aula03/test/1/2/3/4/5/6\n",
      "/Users/adilsonlopeskhouri/Desktop/aulas/Aulas_Senac/IoT/Aulas_Fonte_Professor/Aula03/test/1/2/3/4/5/6/7\n",
      "/Users/adilsonlopeskhouri/Desktop/aulas/Aulas_Senac/IoT/Aulas_Fonte_Professor/Aula03/test/1/2/3/4/5/6/7/8\n",
      "/Users/adilsonlopeskhouri/Desktop/aulas/Aulas_Senac/IoT/Aulas_Fonte_Professor/Aula03/secoes\n",
      "/Users/adilsonlopeskhouri/Desktop/aulas/Aulas_Senac/IoT/Aulas_Fonte_Professor/Aula03/secoes/EDA\n",
      "/Users/adilsonlopeskhouri/Desktop/aulas/Aulas_Senac/IoT/Aulas_Fonte_Professor/Aula03/secoes/Cronograma\n",
      "/Users/adilsonlopeskhouri/Desktop/aulas/Aulas_Senac/IoT/Aulas_Fonte_Professor/Aula03/PDF\n",
      "/Users/adilsonlopeskhouri/Desktop/aulas/Aulas_Senac/IoT/Aulas_Fonte_Professor/Aula03/jupyternotebook\n",
      "/Users/adilsonlopeskhouri/Desktop/aulas/Aulas_Senac/IoT/Aulas_Fonte_Professor/Aula03/jupyternotebook/test\n",
      "/Users/adilsonlopeskhouri/Desktop/aulas/Aulas_Senac/IoT/Aulas_Fonte_Professor/Aula03/jupyternotebook/test/1\n",
      "/Users/adilsonlopeskhouri/Desktop/aulas/Aulas_Senac/IoT/Aulas_Fonte_Professor/Aula03/jupyternotebook/test/1/2\n",
      "/Users/adilsonlopeskhouri/Desktop/aulas/Aulas_Senac/IoT/Aulas_Fonte_Professor/Aula03/jupyternotebook/test/1/2/3\n",
      "/Users/adilsonlopeskhouri/Desktop/aulas/Aulas_Senac/IoT/Aulas_Fonte_Professor/Aula03/jupyternotebook/test/1/2/3/4\n",
      "/Users/adilsonlopeskhouri/Desktop/aulas/Aulas_Senac/IoT/Aulas_Fonte_Professor/Aula03/jupyternotebook/test/1/2/3/4/5\n",
      "/Users/adilsonlopeskhouri/Desktop/aulas/Aulas_Senac/IoT/Aulas_Fonte_Professor/Aula03/jupyternotebook/test/1/2/3/4/5/6\n",
      "/Users/adilsonlopeskhouri/Desktop/aulas/Aulas_Senac/IoT/Aulas_Fonte_Professor/Aula03/jupyternotebook/test/1/2/3/4/5/6/7\n",
      "/Users/adilsonlopeskhouri/Desktop/aulas/Aulas_Senac/IoT/Aulas_Fonte_Professor/Aula03/jupyternotebook/test/1/2/3/4/5/6/7/8\n",
      "/Users/adilsonlopeskhouri/Desktop/aulas/Aulas_Senac/IoT/Aulas_Fonte_Professor/Aula03/jupyternotebook/.ipynb_checkpoints\n",
      "/Users/adilsonlopeskhouri/Desktop/aulas/Aulas_Senac/IoT/Aulas_Fonte_Professor/Aula03/pic\n"
     ]
    }
   ],
   "source": [
    "#ITERACAO RECURSIVA POR DIRETORIOS\n",
    "path = \"/Users/adilsonlopeskhouri/Desktop/aulas/Aulas_Senac/IoT/Aulas_Fonte_Professor/Aula03/\"\n",
    "for root, dirs, files in os.walk(path):\n",
    "    print(root)\n"
   ]
  },
  {
   "cell_type": "code",
   "execution_count": 53,
   "metadata": {
    "ExecuteTime": {
     "end_time": "2019-11-09T15:02:14.822375Z",
     "start_time": "2019-11-09T15:02:14.815878Z"
    }
   },
   "outputs": [
    {
     "data": {
      "text/plain": [
       "'dataType.txt'"
      ]
     },
     "execution_count": 53,
     "metadata": {},
     "output_type": "execute_result"
    }
   ],
   "source": [
    "os.path.basename(\"/Users/adilsonlopeskhouri/Desktop/aulas/Aulas_Senac/IoT/Aulas_Fonte_Professor/Aula03/jupyternotebook/dataType.txt\")"
   ]
  },
  {
   "cell_type": "code",
   "execution_count": 54,
   "metadata": {
    "ExecuteTime": {
     "end_time": "2019-11-09T15:02:21.369258Z",
     "start_time": "2019-11-09T15:02:21.364327Z"
    }
   },
   "outputs": [
    {
     "data": {
      "text/plain": [
       "'/Users/adilsonlopeskhouri/Desktop/aulas/Aulas_Senac/IoT/Aulas_Fonte_Professor/Aula03/jupyternotebook'"
      ]
     },
     "execution_count": 54,
     "metadata": {},
     "output_type": "execute_result"
    }
   ],
   "source": [
    "os.path.dirname(\"/Users/adilsonlopeskhouri/Desktop/aulas/Aulas_Senac/IoT/Aulas_Fonte_Professor/Aula03/jupyternotebook/dataType.txt\")"
   ]
  },
  {
   "cell_type": "code",
   "execution_count": 55,
   "metadata": {
    "ExecuteTime": {
     "end_time": "2019-11-09T15:02:39.868976Z",
     "start_time": "2019-11-09T15:02:39.863491Z"
    }
   },
   "outputs": [
    {
     "data": {
      "text/plain": [
       "True"
      ]
     },
     "execution_count": 55,
     "metadata": {},
     "output_type": "execute_result"
    }
   ],
   "source": [
    "os.path.exists(\"/Users/adilsonlopeskhouri/Desktop/aulas/Aulas_Senac/IoT/Aulas_Fonte_Professor/Aula03/jupyternotebook/dataType.txt\")"
   ]
  },
  {
   "cell_type": "code",
   "execution_count": 56,
   "metadata": {
    "ExecuteTime": {
     "end_time": "2019-11-09T15:04:46.902070Z",
     "start_time": "2019-11-09T15:04:46.896351Z"
    }
   },
   "outputs": [
    {
     "data": {
      "text/plain": [
       "True"
      ]
     },
     "execution_count": 56,
     "metadata": {},
     "output_type": "execute_result"
    }
   ],
   "source": [
    "os.path.isfile(\"/Users/adilsonlopeskhouri/Desktop/aulas/Aulas_Senac/IoT/Aulas_Fonte_Professor/Aula03/jupyternotebook/dataType.txt\")"
   ]
  },
  {
   "cell_type": "code",
   "execution_count": 57,
   "metadata": {
    "ExecuteTime": {
     "end_time": "2019-11-09T15:04:55.691407Z",
     "start_time": "2019-11-09T15:04:55.686194Z"
    }
   },
   "outputs": [
    {
     "data": {
      "text/plain": [
       "True"
      ]
     },
     "execution_count": 57,
     "metadata": {},
     "output_type": "execute_result"
    }
   ],
   "source": [
    "os.path.isdir(\"/Users/adilsonlopeskhouri/Desktop/aulas/Aulas_Senac/IoT/Aulas_Fonte_Professor/Aula03/jupyternotebook/\")"
   ]
  },
  {
   "cell_type": "code",
   "execution_count": 81,
   "metadata": {
    "ExecuteTime": {
     "end_time": "2019-11-09T15:10:43.042324Z",
     "start_time": "2019-11-09T15:10:43.037630Z"
    }
   },
   "outputs": [
    {
     "data": {
      "text/plain": [
       "'/Users/adilsonlopeskhouri/Desktop/aulas/Aulas_Senac/IoT/Aulas_Fonte_Professor/Aula03/jupyternotebook/dataType/'"
      ]
     },
     "execution_count": 81,
     "metadata": {},
     "output_type": "execute_result"
    }
   ],
   "source": [
    "os.path.join(\"/Users/adilsonlopeskhouri/Desktop/aulas/Aulas_Senac/IoT/Aulas_Fonte_Professor/Aula03/jupyternotebook/\", \"dataType/\")"
   ]
  },
  {
   "cell_type": "code",
   "execution_count": 83,
   "metadata": {
    "ExecuteTime": {
     "end_time": "2019-11-09T15:11:37.656741Z",
     "start_time": "2019-11-09T15:11:37.650575Z"
    }
   },
   "outputs": [
    {
     "data": {
      "text/plain": [
       "('/Users/adilsonlopeskhouri/Desktop/aulas/Aulas_Senac/IoT/Aulas_Fonte_Professor/Aula03/jupyternotebook',\n",
       " 'dataType.txt')"
      ]
     },
     "execution_count": 83,
     "metadata": {},
     "output_type": "execute_result"
    }
   ],
   "source": [
    "os.path.split(\"/Users/adilsonlopeskhouri/Desktop/aulas/Aulas_Senac/IoT/Aulas_Fonte_Professor/Aula03/jupyternotebook/dataType.txt\")"
   ]
  },
  {
   "cell_type": "markdown",
   "metadata": {},
   "source": [
    "# Tempo"
   ]
  },
  {
   "cell_type": "code",
   "execution_count": 90,
   "metadata": {
    "ExecuteTime": {
     "end_time": "2019-11-09T15:15:25.063172Z",
     "start_time": "2019-11-09T15:15:25.057648Z"
    }
   },
   "outputs": [
    {
     "data": {
      "text/plain": [
       "datetime.datetime(2014, 3, 5, 0, 0)"
      ]
     },
     "execution_count": 90,
     "metadata": {},
     "output_type": "execute_result"
    }
   ],
   "source": [
    "datetime.datetime(2014, 3, 5) #por que isso deu erro senhores? por que funciona agora? isso é bruxaria professor?"
   ]
  },
  {
   "cell_type": "code",
   "execution_count": null,
   "metadata": {},
   "outputs": [],
   "source": []
  },
  {
   "cell_type": "code",
   "execution_count": null,
   "metadata": {},
   "outputs": [],
   "source": []
  },
  {
   "cell_type": "code",
   "execution_count": null,
   "metadata": {},
   "outputs": [],
   "source": []
  },
  {
   "cell_type": "code",
   "execution_count": 98,
   "metadata": {
    "ExecuteTime": {
     "end_time": "2019-11-09T15:17:44.065176Z",
     "start_time": "2019-11-09T15:17:44.058809Z"
    }
   },
   "outputs": [
    {
     "name": "stdout",
     "output_type": "stream",
     "text": [
      "2014-03-05 11:23:45\n",
      "5\n",
      "3\n",
      "2014\n",
      "45\n",
      "23\n",
      "11\n"
     ]
    }
   ],
   "source": [
    "import datetime\n",
    "minhaDAtaMinhaVida = datetime.datetime(2014, 3, 5, 11, 23, 45) #por que isso deu erro senhores?\n",
    "print(minhaDAtaMinhaVida)\n",
    "print(minhaDAtaMinhaVida.day)\n",
    "print(minhaDAtaMinhaVida.month)\n",
    "print(minhaDAtaMinhaVida.year)\n",
    "\n",
    "print(minhaDAtaMinhaVida.second)\n",
    "print(minhaDAtaMinhaVida.minute)\n",
    "print(minhaDAtaMinhaVida.hour)\n"
   ]
  },
  {
   "cell_type": "code",
   "execution_count": 92,
   "metadata": {
    "ExecuteTime": {
     "end_time": "2019-11-09T15:15:58.511217Z",
     "start_time": "2019-11-09T15:15:58.506539Z"
    }
   },
   "outputs": [
    {
     "name": "stdout",
     "output_type": "stream",
     "text": [
      "2019-11-09\n"
     ]
    }
   ],
   "source": [
    "print(datetime.date.today())"
   ]
  },
  {
   "cell_type": "code",
   "execution_count": 93,
   "metadata": {
    "ExecuteTime": {
     "end_time": "2019-11-09T15:16:16.407739Z",
     "start_time": "2019-11-09T15:16:16.401783Z"
    }
   },
   "outputs": [
    {
     "name": "stdout",
     "output_type": "stream",
     "text": [
      "2019-11-09 12:16:16.404298\n"
     ]
    }
   ],
   "source": [
    "print(datetime.datetime.now())"
   ]
  },
  {
   "cell_type": "markdown",
   "metadata": {},
   "source": [
    "# professor, a data é muito feia (formato fora de padrão)"
   ]
  },
  {
   "cell_type": "code",
   "execution_count": 100,
   "metadata": {
    "ExecuteTime": {
     "end_time": "2019-11-09T15:18:39.383221Z",
     "start_time": "2019-11-09T15:18:39.377614Z"
    }
   },
   "outputs": [
    {
     "data": {
      "text/plain": [
       "'2019-11-09'"
      ]
     },
     "execution_count": 100,
     "metadata": {},
     "output_type": "execute_result"
    }
   ],
   "source": [
    "datetime.datetime.today().strftime(\"%Y-%m-%d\")"
   ]
  },
  {
   "cell_type": "code",
   "execution_count": 103,
   "metadata": {
    "ExecuteTime": {
     "end_time": "2019-11-09T15:19:12.845863Z",
     "start_time": "2019-11-09T15:19:12.840915Z"
    }
   },
   "outputs": [
    {
     "data": {
      "text/plain": [
       "'2019-11-09-12.19.12'"
      ]
     },
     "execution_count": 103,
     "metadata": {},
     "output_type": "execute_result"
    }
   ],
   "source": [
    "datetime.datetime.today().strftime(\"%Y-%m-%d-%H.%M.%S\")"
   ]
  },
  {
   "cell_type": "markdown",
   "metadata": {},
   "source": [
    "# timedelta"
   ]
  },
  {
   "cell_type": "code",
   "execution_count": 112,
   "metadata": {
    "ExecuteTime": {
     "end_time": "2019-11-09T15:22:17.170601Z",
     "start_time": "2019-11-09T15:22:17.165792Z"
    }
   },
   "outputs": [
    {
     "name": "stdout",
     "output_type": "stream",
     "text": [
      "2019-11-09 12:22:17.167687\n",
      "2\n",
      "44537\n"
     ]
    }
   ],
   "source": [
    "now = datetime.datetime.now()\n",
    "print(now)\n",
    "then = datetime.datetime(2019, 11, 7)\n",
    "delta = now - then\n",
    "type(delta)\n",
    "\n",
    "print(delta.days)\n",
    "\n",
    "print(delta.seconds)"
   ]
  },
  {
   "cell_type": "markdown",
   "metadata": {},
   "source": [
    "# Epoca"
   ]
  },
  {
   "cell_type": "code",
   "execution_count": 113,
   "metadata": {
    "ExecuteTime": {
     "end_time": "2019-11-09T15:22:45.999766Z",
     "start_time": "2019-11-09T15:22:45.996325Z"
    }
   },
   "outputs": [],
   "source": [
    "import time"
   ]
  },
  {
   "cell_type": "code",
   "execution_count": null,
   "metadata": {},
   "outputs": [],
   "source": []
  },
  {
   "cell_type": "markdown",
   "metadata": {},
   "source": [
    "# Pandas"
   ]
  },
  {
   "cell_type": "code",
   "execution_count": 209,
   "metadata": {
    "ExecuteTime": {
     "end_time": "2019-11-09T19:43:52.328842Z",
     "start_time": "2019-11-09T19:43:52.298788Z"
    }
   },
   "outputs": [
    {
     "name": "stdout",
     "output_type": "stream",
     "text": [
      "(891, 12)\n"
     ]
    },
    {
     "data": {
      "text/html": [
       "<div>\n",
       "<style scoped>\n",
       "    .dataframe tbody tr th:only-of-type {\n",
       "        vertical-align: middle;\n",
       "    }\n",
       "\n",
       "    .dataframe tbody tr th {\n",
       "        vertical-align: top;\n",
       "    }\n",
       "\n",
       "    .dataframe thead th {\n",
       "        text-align: right;\n",
       "    }\n",
       "</style>\n",
       "<table border=\"1\" class=\"dataframe\">\n",
       "  <thead>\n",
       "    <tr style=\"text-align: right;\">\n",
       "      <th></th>\n",
       "      <th>PassengerId</th>\n",
       "      <th>Survived</th>\n",
       "      <th>Pclass</th>\n",
       "      <th>Name</th>\n",
       "      <th>Sex</th>\n",
       "      <th>Age</th>\n",
       "      <th>SibSp</th>\n",
       "      <th>Parch</th>\n",
       "      <th>Ticket</th>\n",
       "      <th>Fare</th>\n",
       "      <th>Cabin</th>\n",
       "      <th>Embarked</th>\n",
       "    </tr>\n",
       "  </thead>\n",
       "  <tbody>\n",
       "    <tr>\n",
       "      <th>1</th>\n",
       "      <td>2</td>\n",
       "      <td>1</td>\n",
       "      <td>1</td>\n",
       "      <td>Cumings, Mrs. John Bradley (Florence Briggs Th...</td>\n",
       "      <td>female</td>\n",
       "      <td>38.0</td>\n",
       "      <td>1</td>\n",
       "      <td>0</td>\n",
       "      <td>PC 17599</td>\n",
       "      <td>71.2833</td>\n",
       "      <td>C85</td>\n",
       "      <td>C</td>\n",
       "    </tr>\n",
       "  </tbody>\n",
       "</table>\n",
       "</div>"
      ],
      "text/plain": [
       "   PassengerId  Survived  Pclass  \\\n",
       "1            2         1       1   \n",
       "\n",
       "                                                Name     Sex   Age  SibSp  \\\n",
       "1  Cumings, Mrs. John Bradley (Florence Briggs Th...  female  38.0      1   \n",
       "\n",
       "   Parch    Ticket     Fare Cabin Embarked  \n",
       "1      0  PC 17599  71.2833   C85        C  "
      ]
     },
     "metadata": {},
     "output_type": "display_data"
    },
    {
     "data": {
      "text/plain": [
       "0      26.0\n",
       "1      42.0\n",
       "2      30.0\n",
       "3      39.0\n",
       "4      39.0\n",
       "5       NaN\n",
       "6      58.0\n",
       "7       6.0\n",
       "8      31.0\n",
       "9      18.0\n",
       "10      8.0\n",
       "11     62.0\n",
       "12     24.0\n",
       "13     43.0\n",
       "14     18.0\n",
       "15     59.0\n",
       "16      6.0\n",
       "17      NaN\n",
       "18     35.0\n",
       "19      NaN\n",
       "20     39.0\n",
       "21     38.0\n",
       "22     19.0\n",
       "23     32.0\n",
       "24     12.0\n",
       "25     42.0\n",
       "26      NaN\n",
       "27     23.0\n",
       "28      NaN\n",
       "29      NaN\n",
       "       ... \n",
       "861    25.0\n",
       "862    52.0\n",
       "863     NaN\n",
       "864    28.0\n",
       "865    46.0\n",
       "866    31.0\n",
       "867    35.0\n",
       "868     NaN\n",
       "869     8.0\n",
       "870    30.0\n",
       "871    51.0\n",
       "872    37.0\n",
       "873    51.0\n",
       "874    32.0\n",
       "875    19.0\n",
       "876    24.0\n",
       "877    23.0\n",
       "878     NaN\n",
       "879    60.0\n",
       "880    29.0\n",
       "881    37.0\n",
       "882    26.0\n",
       "883    32.0\n",
       "884    29.0\n",
       "885    43.0\n",
       "886    31.0\n",
       "887    23.0\n",
       "888     NaN\n",
       "889    30.0\n",
       "890    36.0\n",
       "Name: Age, Length: 891, dtype: float64"
      ]
     },
     "execution_count": 209,
     "metadata": {},
     "output_type": "execute_result"
    }
   ],
   "source": [
    "#libs científicas\n",
    "import pandas as pd\n",
    "import numpy as np\n",
    "import matplotlib.pyplot as plt\n",
    "\n",
    "%matplotlib inline\n",
    "\n",
    "#Leitura de dados\n",
    "train_df = pd.read_csv('train.csv')\n",
    "# display(train_df.head(n=3))\n",
    "\n",
    "print(train_df.shape)\n",
    "# print(train_df[\"PassengerId\"])\n",
    "\n",
    "display(train_df[1:2])\n",
    "\n",
    "#operacoes sao matriciais\n",
    "# display(train_df.Age**2)\n",
    "# display(train_df.Age+2)\n",
    "\n",
    "# np.power(train_df.Age, 2)\n",
    "np.add(train_df.Age, 4.0)"
   ]
  },
  {
   "cell_type": "code",
   "execution_count": 217,
   "metadata": {
    "ExecuteTime": {
     "end_time": "2019-11-09T19:44:54.672288Z",
     "start_time": "2019-11-09T19:44:54.645220Z"
    }
   },
   "outputs": [
    {
     "name": "stdout",
     "output_type": "stream",
     "text": [
      "     Aluno  Faltas  Prova  Seminário\n",
      "0  Wilfred       3      2        8.5\n",
      "1    Abbie       4      7        7.5\n",
      "2    Harry       2      5        9.0\n",
      "3    Julia       1     10        7.5\n",
      "4   Carrie       4      6        8.0\n",
      "______________________________\n",
      "Aluno         object\n",
      "Faltas         int64\n",
      "Prova          int64\n",
      "Seminário    float64\n",
      "dtype: object\n",
      "______________________________\n",
      "Index(['Aluno', 'Faltas', 'Prova', 'Seminário'], dtype='object')\n",
      "______________________________\n",
      "        Faltas      Prova  Seminário\n",
      "count  5.00000   5.000000    5.00000\n",
      "mean   2.80000   6.000000    8.10000\n",
      "std    1.30384   2.915476    0.65192\n",
      "min    1.00000   2.000000    7.50000\n",
      "25%    2.00000   5.000000    7.50000\n",
      "50%    3.00000   6.000000    8.00000\n",
      "75%    4.00000   7.000000    8.50000\n",
      "max    4.00000  10.000000    9.00000\n",
      "______________________________\n",
      "     Aluno  Faltas  Prova  Seminário\n",
      "1    Abbie       4      7        7.5\n",
      "3    Julia       1     10        7.5\n",
      "4   Carrie       4      6        8.0\n",
      "0  Wilfred       3      2        8.5\n",
      "2    Harry       2      5        9.0\n"
     ]
    }
   ],
   "source": [
    "# o que é um dataframe?\n",
    "df = pd.DataFrame({'Aluno' : [\"Wilfred\", \"Abbie\", \"Harry\", \"Julia\", \"Carrie\"],\n",
    "                   'Faltas' : [3,4,2,1,4],\n",
    "                   'Prova' : [2,7,5,10,6],\n",
    "                   'Seminário': [8.5,7.5,9.0,7.5,8.0]})\n",
    "print(df)\n",
    "print(\"______________________________\")\n",
    "print(df.dtypes)\n",
    "print(\"______________________________\")\n",
    "print(df.columns)\n",
    "print(\"______________________________\")\n",
    "print(df.describe())\n",
    "print(\"______________________________\")\n",
    "print(df.sort_values(by=\"Seminário\"))"
   ]
  },
  {
   "cell_type": "markdown",
   "metadata": {},
   "source": [
    "# indexar"
   ]
  },
  {
   "cell_type": "code",
   "execution_count": 218,
   "metadata": {
    "ExecuteTime": {
     "end_time": "2019-11-09T19:44:55.971731Z",
     "start_time": "2019-11-09T19:44:55.961708Z"
    }
   },
   "outputs": [
    {
     "data": {
      "text/html": [
       "<div>\n",
       "<style scoped>\n",
       "    .dataframe tbody tr th:only-of-type {\n",
       "        vertical-align: middle;\n",
       "    }\n",
       "\n",
       "    .dataframe tbody tr th {\n",
       "        vertical-align: top;\n",
       "    }\n",
       "\n",
       "    .dataframe thead th {\n",
       "        text-align: right;\n",
       "    }\n",
       "</style>\n",
       "<table border=\"1\" class=\"dataframe\">\n",
       "  <thead>\n",
       "    <tr style=\"text-align: right;\">\n",
       "      <th></th>\n",
       "      <th>Aluno</th>\n",
       "      <th>Faltas</th>\n",
       "      <th>Prova</th>\n",
       "      <th>Seminário</th>\n",
       "    </tr>\n",
       "  </thead>\n",
       "  <tbody>\n",
       "    <tr>\n",
       "      <th>0</th>\n",
       "      <td>Wilfred</td>\n",
       "      <td>3</td>\n",
       "      <td>2</td>\n",
       "      <td>8.5</td>\n",
       "    </tr>\n",
       "    <tr>\n",
       "      <th>1</th>\n",
       "      <td>Abbie</td>\n",
       "      <td>4</td>\n",
       "      <td>7</td>\n",
       "      <td>7.5</td>\n",
       "    </tr>\n",
       "    <tr>\n",
       "      <th>2</th>\n",
       "      <td>Harry</td>\n",
       "      <td>2</td>\n",
       "      <td>5</td>\n",
       "      <td>9.0</td>\n",
       "    </tr>\n",
       "    <tr>\n",
       "      <th>3</th>\n",
       "      <td>Julia</td>\n",
       "      <td>1</td>\n",
       "      <td>10</td>\n",
       "      <td>7.5</td>\n",
       "    </tr>\n",
       "    <tr>\n",
       "      <th>4</th>\n",
       "      <td>Carrie</td>\n",
       "      <td>4</td>\n",
       "      <td>6</td>\n",
       "      <td>8.0</td>\n",
       "    </tr>\n",
       "  </tbody>\n",
       "</table>\n",
       "</div>"
      ],
      "text/plain": [
       "     Aluno  Faltas  Prova  Seminário\n",
       "0  Wilfred       3      2        8.5\n",
       "1    Abbie       4      7        7.5\n",
       "2    Harry       2      5        9.0\n",
       "3    Julia       1     10        7.5\n",
       "4   Carrie       4      6        8.0"
      ]
     },
     "metadata": {},
     "output_type": "display_data"
    },
    {
     "name": "stdout",
     "output_type": "stream",
     "text": [
      "Aluno        Julia\n",
      "Faltas           1\n",
      "Prova           10\n",
      "Seminário      7.5\n",
      "Name: 3, dtype: object\n"
     ]
    }
   ],
   "source": [
    "display(df)\n",
    "print(df.loc[3])"
   ]
  },
  {
   "cell_type": "code",
   "execution_count": 219,
   "metadata": {
    "ExecuteTime": {
     "end_time": "2019-11-09T19:44:56.512639Z",
     "start_time": "2019-11-09T19:44:56.501269Z"
    }
   },
   "outputs": [
    {
     "data": {
      "text/html": [
       "<div>\n",
       "<style scoped>\n",
       "    .dataframe tbody tr th:only-of-type {\n",
       "        vertical-align: middle;\n",
       "    }\n",
       "\n",
       "    .dataframe tbody tr th {\n",
       "        vertical-align: top;\n",
       "    }\n",
       "\n",
       "    .dataframe thead th {\n",
       "        text-align: right;\n",
       "    }\n",
       "</style>\n",
       "<table border=\"1\" class=\"dataframe\">\n",
       "  <thead>\n",
       "    <tr style=\"text-align: right;\">\n",
       "      <th></th>\n",
       "      <th>Aluno</th>\n",
       "      <th>Faltas</th>\n",
       "      <th>Prova</th>\n",
       "      <th>Seminário</th>\n",
       "    </tr>\n",
       "  </thead>\n",
       "  <tbody>\n",
       "    <tr>\n",
       "      <th>0</th>\n",
       "      <td>Wilfred</td>\n",
       "      <td>3</td>\n",
       "      <td>2</td>\n",
       "      <td>8.5</td>\n",
       "    </tr>\n",
       "    <tr>\n",
       "      <th>2</th>\n",
       "      <td>Harry</td>\n",
       "      <td>2</td>\n",
       "      <td>5</td>\n",
       "      <td>9.0</td>\n",
       "    </tr>\n",
       "  </tbody>\n",
       "</table>\n",
       "</div>"
      ],
      "text/plain": [
       "     Aluno  Faltas  Prova  Seminário\n",
       "0  Wilfred       3      2        8.5\n",
       "2    Harry       2      5        9.0"
      ]
     },
     "execution_count": 219,
     "metadata": {},
     "output_type": "execute_result"
    }
   ],
   "source": [
    "#selecao por if\n",
    "df[df[\"Seminário\"] > 8.0]"
   ]
  },
  {
   "cell_type": "code",
   "execution_count": 220,
   "metadata": {
    "ExecuteTime": {
     "end_time": "2019-11-09T19:44:57.823743Z",
     "start_time": "2019-11-09T19:44:57.813704Z"
    }
   },
   "outputs": [
    {
     "data": {
      "text/html": [
       "<div>\n",
       "<style scoped>\n",
       "    .dataframe tbody tr th:only-of-type {\n",
       "        vertical-align: middle;\n",
       "    }\n",
       "\n",
       "    .dataframe tbody tr th {\n",
       "        vertical-align: top;\n",
       "    }\n",
       "\n",
       "    .dataframe thead th {\n",
       "        text-align: right;\n",
       "    }\n",
       "</style>\n",
       "<table border=\"1\" class=\"dataframe\">\n",
       "  <thead>\n",
       "    <tr style=\"text-align: right;\">\n",
       "      <th></th>\n",
       "      <th>Aluno</th>\n",
       "      <th>Faltas</th>\n",
       "      <th>Prova</th>\n",
       "      <th>Seminário</th>\n",
       "    </tr>\n",
       "  </thead>\n",
       "  <tbody>\n",
       "    <tr>\n",
       "      <th>2</th>\n",
       "      <td>Harry</td>\n",
       "      <td>2</td>\n",
       "      <td>5</td>\n",
       "      <td>9.0</td>\n",
       "    </tr>\n",
       "  </tbody>\n",
       "</table>\n",
       "</div>"
      ],
      "text/plain": [
       "   Aluno  Faltas  Prova  Seminário\n",
       "2  Harry       2      5        9.0"
      ]
     },
     "execution_count": 220,
     "metadata": {},
     "output_type": "execute_result"
    }
   ],
   "source": [
    "df[(df[\"Seminário\"] > 8.0) & (df[\"Prova\"] > 3)]"
   ]
  },
  {
   "cell_type": "code",
   "execution_count": 223,
   "metadata": {
    "ExecuteTime": {
     "end_time": "2019-11-09T19:45:24.658567Z",
     "start_time": "2019-11-09T19:45:24.647043Z"
    }
   },
   "outputs": [
    {
     "data": {
      "text/html": [
       "<div>\n",
       "<style scoped>\n",
       "    .dataframe tbody tr th:only-of-type {\n",
       "        vertical-align: middle;\n",
       "    }\n",
       "\n",
       "    .dataframe tbody tr th {\n",
       "        vertical-align: top;\n",
       "    }\n",
       "\n",
       "    .dataframe thead th {\n",
       "        text-align: right;\n",
       "    }\n",
       "</style>\n",
       "<table border=\"1\" class=\"dataframe\">\n",
       "  <thead>\n",
       "    <tr style=\"text-align: right;\">\n",
       "      <th></th>\n",
       "      <th>Aluno</th>\n",
       "      <th>Faltas</th>\n",
       "      <th>Prova</th>\n",
       "      <th>Seminário</th>\n",
       "    </tr>\n",
       "  </thead>\n",
       "  <tbody>\n",
       "    <tr>\n",
       "      <th>0</th>\n",
       "      <td>Wilfred</td>\n",
       "      <td>3</td>\n",
       "      <td>2</td>\n",
       "      <td>8.5</td>\n",
       "    </tr>\n",
       "    <tr>\n",
       "      <th>1</th>\n",
       "      <td>Abbie</td>\n",
       "      <td>4</td>\n",
       "      <td>7</td>\n",
       "      <td>7.5</td>\n",
       "    </tr>\n",
       "    <tr>\n",
       "      <th>2</th>\n",
       "      <td>Harry</td>\n",
       "      <td>2</td>\n",
       "      <td>5</td>\n",
       "      <td>9.0</td>\n",
       "    </tr>\n",
       "    <tr>\n",
       "      <th>3</th>\n",
       "      <td>Julia</td>\n",
       "      <td>1</td>\n",
       "      <td>10</td>\n",
       "      <td>7.5</td>\n",
       "    </tr>\n",
       "    <tr>\n",
       "      <th>4</th>\n",
       "      <td>Carrie</td>\n",
       "      <td>4</td>\n",
       "      <td>6</td>\n",
       "      <td>8.0</td>\n",
       "    </tr>\n",
       "  </tbody>\n",
       "</table>\n",
       "</div>"
      ],
      "text/plain": [
       "     Aluno  Faltas  Prova  Seminário\n",
       "0  Wilfred       3      2        8.5\n",
       "1    Abbie       4      7        7.5\n",
       "2    Harry       2      5        9.0\n",
       "3    Julia       1     10        7.5\n",
       "4   Carrie       4      6        8.0"
      ]
     },
     "metadata": {},
     "output_type": "display_data"
    },
    {
     "data": {
      "text/plain": [
       "array([3, 4, 2, 1])"
      ]
     },
     "execution_count": 223,
     "metadata": {},
     "output_type": "execute_result"
    }
   ],
   "source": [
    "display(df)\n",
    "df.Faltas.unique()"
   ]
  },
  {
   "cell_type": "code",
   "execution_count": 224,
   "metadata": {
    "ExecuteTime": {
     "end_time": "2019-11-09T19:45:42.116898Z",
     "start_time": "2019-11-09T19:45:42.103687Z"
    }
   },
   "outputs": [
    {
     "data": {
      "text/plain": [
       "4    2\n",
       "3    1\n",
       "2    1\n",
       "1    1\n",
       "Name: Faltas, dtype: int64"
      ]
     },
     "execution_count": 224,
     "metadata": {},
     "output_type": "execute_result"
    }
   ],
   "source": [
    "df[\"Faltas\"].value_counts()"
   ]
  },
  {
   "cell_type": "code",
   "execution_count": 226,
   "metadata": {
    "ExecuteTime": {
     "end_time": "2019-11-09T19:46:16.689486Z",
     "start_time": "2019-11-09T19:46:16.682618Z"
    }
   },
   "outputs": [
    {
     "data": {
      "text/plain": [
       "4    0.4\n",
       "3    0.2\n",
       "2    0.2\n",
       "1    0.2\n",
       "Name: Faltas, dtype: float64"
      ]
     },
     "execution_count": 226,
     "metadata": {},
     "output_type": "execute_result"
    }
   ],
   "source": [
    "df[\"Faltas\"].value_counts(normalize=True)"
   ]
  },
  {
   "cell_type": "code",
   "execution_count": 228,
   "metadata": {
    "ExecuteTime": {
     "end_time": "2019-11-09T19:47:17.066113Z",
     "start_time": "2019-11-09T19:47:17.053683Z"
    }
   },
   "outputs": [
    {
     "data": {
      "text/html": [
       "<div>\n",
       "<style scoped>\n",
       "    .dataframe tbody tr th:only-of-type {\n",
       "        vertical-align: middle;\n",
       "    }\n",
       "\n",
       "    .dataframe tbody tr th {\n",
       "        vertical-align: top;\n",
       "    }\n",
       "\n",
       "    .dataframe thead th {\n",
       "        text-align: right;\n",
       "    }\n",
       "</style>\n",
       "<table border=\"1\" class=\"dataframe\">\n",
       "  <thead>\n",
       "    <tr style=\"text-align: right;\">\n",
       "      <th></th>\n",
       "      <th>Prova</th>\n",
       "      <th>Seminário</th>\n",
       "    </tr>\n",
       "    <tr>\n",
       "      <th>Faltas</th>\n",
       "      <th></th>\n",
       "      <th></th>\n",
       "    </tr>\n",
       "  </thead>\n",
       "  <tbody>\n",
       "    <tr>\n",
       "      <th>1</th>\n",
       "      <td>10.0</td>\n",
       "      <td>7.50</td>\n",
       "    </tr>\n",
       "    <tr>\n",
       "      <th>2</th>\n",
       "      <td>5.0</td>\n",
       "      <td>9.00</td>\n",
       "    </tr>\n",
       "    <tr>\n",
       "      <th>3</th>\n",
       "      <td>2.0</td>\n",
       "      <td>8.50</td>\n",
       "    </tr>\n",
       "    <tr>\n",
       "      <th>4</th>\n",
       "      <td>6.5</td>\n",
       "      <td>7.75</td>\n",
       "    </tr>\n",
       "  </tbody>\n",
       "</table>\n",
       "</div>"
      ],
      "text/plain": [
       "        Prova  Seminário\n",
       "Faltas                  \n",
       "1        10.0       7.50\n",
       "2         5.0       9.00\n",
       "3         2.0       8.50\n",
       "4         6.5       7.75"
      ]
     },
     "execution_count": 228,
     "metadata": {},
     "output_type": "execute_result"
    }
   ],
   "source": [
    "df.groupby(\"Faltas\").mean() #groupby tipo o do SQL professor?"
   ]
  },
  {
   "cell_type": "code",
   "execution_count": 240,
   "metadata": {
    "ExecuteTime": {
     "end_time": "2019-11-09T22:43:48.758684Z",
     "start_time": "2019-11-09T22:43:48.749421Z"
    }
   },
   "outputs": [
    {
     "data": {
      "text/html": [
       "<div>\n",
       "<style scoped>\n",
       "    .dataframe tbody tr th:only-of-type {\n",
       "        vertical-align: middle;\n",
       "    }\n",
       "\n",
       "    .dataframe tbody tr th {\n",
       "        vertical-align: top;\n",
       "    }\n",
       "\n",
       "    .dataframe thead th {\n",
       "        text-align: right;\n",
       "    }\n",
       "</style>\n",
       "<table border=\"1\" class=\"dataframe\">\n",
       "  <thead>\n",
       "    <tr style=\"text-align: right;\">\n",
       "      <th></th>\n",
       "      <th>Aluno</th>\n",
       "      <th>Faltas</th>\n",
       "      <th>Prova</th>\n",
       "      <th>Seminário</th>\n",
       "    </tr>\n",
       "  </thead>\n",
       "  <tbody>\n",
       "    <tr>\n",
       "      <th>2</th>\n",
       "      <td>Harry</td>\n",
       "      <td>2</td>\n",
       "      <td>5</td>\n",
       "      <td>9.0</td>\n",
       "    </tr>\n",
       "    <tr>\n",
       "      <th>3</th>\n",
       "      <td>Julia</td>\n",
       "      <td>1</td>\n",
       "      <td>10</td>\n",
       "      <td>7.5</td>\n",
       "    </tr>\n",
       "  </tbody>\n",
       "</table>\n",
       "</div>"
      ],
      "text/plain": [
       "   Aluno  Faltas  Prova  Seminário\n",
       "2  Harry       2      5        9.0\n",
       "3  Julia       1     10        7.5"
      ]
     },
     "execution_count": 240,
     "metadata": {},
     "output_type": "execute_result"
    }
   ],
   "source": [
    "df[2:4]#segunda linha até 4"
   ]
  },
  {
   "cell_type": "code",
   "execution_count": 245,
   "metadata": {
    "ExecuteTime": {
     "end_time": "2019-11-09T22:45:28.105092Z",
     "start_time": "2019-11-09T22:45:28.094740Z"
    }
   },
   "outputs": [
    {
     "data": {
      "text/html": [
       "<div>\n",
       "<style scoped>\n",
       "    .dataframe tbody tr th:only-of-type {\n",
       "        vertical-align: middle;\n",
       "    }\n",
       "\n",
       "    .dataframe tbody tr th {\n",
       "        vertical-align: top;\n",
       "    }\n",
       "\n",
       "    .dataframe thead th {\n",
       "        text-align: right;\n",
       "    }\n",
       "</style>\n",
       "<table border=\"1\" class=\"dataframe\">\n",
       "  <thead>\n",
       "    <tr style=\"text-align: right;\">\n",
       "      <th></th>\n",
       "      <th>Faltas</th>\n",
       "      <th>Prova</th>\n",
       "    </tr>\n",
       "  </thead>\n",
       "  <tbody>\n",
       "    <tr>\n",
       "      <th>0</th>\n",
       "      <td>3</td>\n",
       "      <td>2</td>\n",
       "    </tr>\n",
       "    <tr>\n",
       "      <th>1</th>\n",
       "      <td>4</td>\n",
       "      <td>7</td>\n",
       "    </tr>\n",
       "    <tr>\n",
       "      <th>2</th>\n",
       "      <td>2</td>\n",
       "      <td>5</td>\n",
       "    </tr>\n",
       "  </tbody>\n",
       "</table>\n",
       "</div>"
      ],
      "text/plain": [
       "   Faltas  Prova\n",
       "0       3      2\n",
       "1       4      7\n",
       "2       2      5"
      ]
     },
     "execution_count": 245,
     "metadata": {},
     "output_type": "execute_result"
    }
   ],
   "source": [
    "      # row   x column\n",
    "df.iloc[0:3  ,  1:3]"
   ]
  },
  {
   "cell_type": "code",
   "execution_count": null,
   "metadata": {},
   "outputs": [],
   "source": []
  },
  {
   "cell_type": "code",
   "execution_count": 229,
   "metadata": {
    "ExecuteTime": {
     "end_time": "2019-11-09T19:52:24.042875Z",
     "start_time": "2019-11-09T19:52:24.000861Z"
    }
   },
   "outputs": [
    {
     "data": {
      "text/html": [
       "<div>\n",
       "<style scoped>\n",
       "    .dataframe tbody tr th:only-of-type {\n",
       "        vertical-align: middle;\n",
       "    }\n",
       "\n",
       "    .dataframe tbody tr th {\n",
       "        vertical-align: top;\n",
       "    }\n",
       "\n",
       "    .dataframe thead th {\n",
       "        text-align: right;\n",
       "    }\n",
       "</style>\n",
       "<table border=\"1\" class=\"dataframe\">\n",
       "  <thead>\n",
       "    <tr style=\"text-align: right;\">\n",
       "      <th></th>\n",
       "      <th>PassengerId</th>\n",
       "      <th>Survived</th>\n",
       "      <th>Pclass</th>\n",
       "      <th>Name</th>\n",
       "      <th>Sex</th>\n",
       "      <th>Age</th>\n",
       "      <th>SibSp</th>\n",
       "      <th>Parch</th>\n",
       "      <th>Ticket</th>\n",
       "      <th>Fare</th>\n",
       "      <th>Cabin</th>\n",
       "      <th>Embarked</th>\n",
       "    </tr>\n",
       "  </thead>\n",
       "  <tbody>\n",
       "    <tr>\n",
       "      <th>890</th>\n",
       "      <td>891</td>\n",
       "      <td>0</td>\n",
       "      <td>3</td>\n",
       "      <td>Dooley, Mr. Patrick</td>\n",
       "      <td>male</td>\n",
       "      <td>32.0</td>\n",
       "      <td>0</td>\n",
       "      <td>0</td>\n",
       "      <td>370376</td>\n",
       "      <td>7.75</td>\n",
       "      <td>NaN</td>\n",
       "      <td>Q</td>\n",
       "    </tr>\n",
       "  </tbody>\n",
       "</table>\n",
       "</div>"
      ],
      "text/plain": [
       "     PassengerId  Survived  Pclass                 Name   Sex   Age  SibSp  \\\n",
       "890          891         0       3  Dooley, Mr. Patrick  male  32.0      0   \n",
       "\n",
       "     Parch  Ticket  Fare Cabin Embarked  \n",
       "890      0  370376  7.75   NaN        Q  "
      ]
     },
     "metadata": {},
     "output_type": "display_data"
    }
   ],
   "source": [
    "df2 = pd.read_csv(\"train.csv\", sep = ',')\n",
    "# display(df2)\n",
    "# display(df2.head(n=10))\n",
    "display(df2.tail(n=1))"
   ]
  },
  {
   "cell_type": "code",
   "execution_count": null,
   "metadata": {},
   "outputs": [],
   "source": []
  },
  {
   "cell_type": "code",
   "execution_count": null,
   "metadata": {},
   "outputs": [],
   "source": []
  },
  {
   "cell_type": "code",
   "execution_count": null,
   "metadata": {},
   "outputs": [],
   "source": []
  },
  {
   "cell_type": "code",
   "execution_count": null,
   "metadata": {},
   "outputs": [],
   "source": []
  },
  {
   "cell_type": "code",
   "execution_count": null,
   "metadata": {},
   "outputs": [],
   "source": []
  },
  {
   "cell_type": "markdown",
   "metadata": {},
   "source": [
    "[Tutorial](http://felipegalvao.com.br/blog/2016/03/31/estatistica-descritiva-com-python/)"
   ]
  },
  {
   "cell_type": "markdown",
   "metadata": {},
   "source": [
    "# Medidas de estatística descritiva"
   ]
  },
  {
   "cell_type": "markdown",
   "metadata": {},
   "source": [
    "## Média"
   ]
  },
  {
   "cell_type": "markdown",
   "metadata": {},
   "source": [
    "$ \\bar{x}=\\sum \\frac{x_{i}}{n} $"
   ]
  },
  {
   "cell_type": "markdown",
   "metadata": {},
   "source": [
    "Medida de tendência central que indica onde estão concentrados os valores de um conjunto de dados. Vamos usar o dataset titanic para isso [datasetKaggle](https://www.kaggle.com/c/titanic/data)"
   ]
  },
  {
   "cell_type": "code",
   "execution_count": 144,
   "metadata": {
    "ExecuteTime": {
     "end_time": "2019-11-09T15:56:51.821079Z",
     "start_time": "2019-11-09T15:56:51.800575Z"
    }
   },
   "outputs": [
    {
     "name": "stdout",
     "output_type": "stream",
     "text": [
      "29.69911764705882\n",
      "28.0\n",
      "30.0\n",
      "29.5\n"
     ]
    }
   ],
   "source": [
    "# Libs científicas\n",
    "import pandas as pd\n",
    "import numpy as np\n",
    "\n",
    "# Leitura de dados\n",
    "train_df = pd.read_csv('train.csv')\n",
    "\n",
    "# print(train_df['Age'].values)\n",
    "print(train_df['Age'].mean())\n"
   ]
  },
  {
   "cell_type": "markdown",
   "metadata": {},
   "source": [
    "# Mediana"
   ]
  },
  {
   "cell_type": "code",
   "execution_count": 149,
   "metadata": {
    "ExecuteTime": {
     "end_time": "2019-11-09T16:01:06.088271Z",
     "start_time": "2019-11-09T16:01:06.079535Z"
    }
   },
   "outputs": [
    {
     "name": "stdout",
     "output_type": "stream",
     "text": [
      "28.0\n",
      "30.0\n",
      "29.5\n"
     ]
    }
   ],
   "source": [
    "print(train_df['Age'].median())\n",
    "\n",
    "# impar\n",
    "example_series =  pd.Series([1,5,10,15,30,32,40,45,50])\n",
    "print(example_series.median())\n",
    "\n",
    "# par\n",
    "example_series =  pd.Series([1,5,10,29,30,32,40,45])\n",
    "print(example_series.median())\n"
   ]
  },
  {
   "cell_type": "markdown",
   "metadata": {},
   "source": [
    "# Quantil"
   ]
  },
  {
   "cell_type": "markdown",
   "metadata": {
    "ExecuteTime": {
     "end_time": "2019-11-09T15:59:33.768699Z",
     "start_time": "2019-11-09T15:59:33.756213Z"
    }
   },
   "source": [
    "O quantil pode ser entendido como uma generalização da mediana. O quantil é o valor abaixo do qual está um certo percentual dos dados. No caso da mediana, esse percentual é de 50%. \n"
   ]
  },
  {
   "cell_type": "code",
   "execution_count": 153,
   "metadata": {
    "ExecuteTime": {
     "end_time": "2019-11-09T16:03:10.752269Z",
     "start_time": "2019-11-09T16:03:10.744809Z"
    }
   },
   "outputs": [
    {
     "name": "stdout",
     "output_type": "stream",
     "text": [
      "30.0\n",
      "10.0\n",
      "30.0\n"
     ]
    }
   ],
   "source": [
    "example_series =  pd.Series([1,5,10,15,30,32,40,45,50])\n",
    "\n",
    "# print(train_df['Age'].quantile())# o padrãoé 50%\n",
    "\n",
    "print(example_series.quantile())\n",
    "\n",
    "\n",
    "# print(train_df['Age'].quantile(q=0.25))\n",
    "\n",
    "print(example_series.quantile(q=0.25))\n",
    "print(example_series.quantile(q=0.50))\n",
    "\n"
   ]
  },
  {
   "cell_type": "markdown",
   "metadata": {},
   "source": [
    "# Moda"
   ]
  },
  {
   "cell_type": "markdown",
   "metadata": {},
   "source": [
    "O que é moda? Valor que mais se repete no conjunto de dados"
   ]
  },
  {
   "cell_type": "code",
   "execution_count": 156,
   "metadata": {
    "ExecuteTime": {
     "end_time": "2019-11-09T16:06:19.739873Z",
     "start_time": "2019-11-09T16:06:19.734237Z"
    }
   },
   "outputs": [
    {
     "name": "stdout",
     "output_type": "stream",
     "text": [
      "0    24.0\n",
      "dtype: float64\n",
      "0    30\n",
      "dtype: int64\n"
     ]
    }
   ],
   "source": [
    "print(train_df['Age'].mode())\n",
    "\n",
    "example_series =  pd.Series([1,5,10,15,30,30,40,45,50])\n",
    "\n",
    "print(example_series.mode())"
   ]
  },
  {
   "cell_type": "markdown",
   "metadata": {},
   "source": [
    "### Medidas de Dispersão"
   ]
  },
  {
   "cell_type": "markdown",
   "metadata": {},
   "source": [
    "#### Amplitude"
   ]
  },
  {
   "cell_type": "markdown",
   "metadata": {},
   "source": [
    "Máximo - Mínimo = $X$ "
   ]
  },
  {
   "cell_type": "code",
   "execution_count": 158,
   "metadata": {
    "ExecuteTime": {
     "end_time": "2019-11-09T16:12:41.413259Z",
     "start_time": "2019-11-09T16:12:41.408015Z"
    }
   },
   "outputs": [
    {
     "name": "stdout",
     "output_type": "stream",
     "text": [
      "79.58\n",
      "49\n"
     ]
    }
   ],
   "source": [
    "print(train_df['Age'].max() - train_df['Age'].min())\n",
    "print(example_series.max() - example_series.min())"
   ]
  },
  {
   "cell_type": "markdown",
   "metadata": {},
   "source": [
    "##### Variância"
   ]
  },
  {
   "cell_type": "markdown",
   "metadata": {},
   "source": [
    "A variância é uma medida que expressa quanto os dados de um conjunto estão afastados de seu valor esperado. Calculamos a variância no Pandas através da função $var()$:"
   ]
  },
  {
   "cell_type": "markdown",
   "metadata": {},
   "source": [
    "$var (x)=\\sum \\frac{(x_{i}-\\bar{x})^2}{n}$"
   ]
  },
  {
   "cell_type": "code",
   "execution_count": 163,
   "metadata": {
    "ExecuteTime": {
     "end_time": "2019-11-09T16:18:07.910539Z",
     "start_time": "2019-11-09T16:18:07.905745Z"
    }
   },
   "outputs": [
    {
     "name": "stdout",
     "output_type": "stream",
     "text": [
      "211.01912474630802\n",
      "325.1111111111111\n"
     ]
    }
   ],
   "source": [
    "print(train_df['Age'].var())\n",
    "print(example_series.var())"
   ]
  },
  {
   "cell_type": "markdown",
   "metadata": {},
   "source": [
    "# Desvio padrão"
   ]
  },
  {
   "cell_type": "markdown",
   "metadata": {},
   "source": [
    "A raiz quadrada da variância"
   ]
  },
  {
   "cell_type": "markdown",
   "metadata": {},
   "source": [
    "$ \\sigma =\\sqrt {\\sum \\frac{(x_{i}-\\bar{x})^2}{n}} $"
   ]
  },
  {
   "cell_type": "code",
   "execution_count": 166,
   "metadata": {
    "ExecuteTime": {
     "end_time": "2019-11-09T16:20:42.229552Z",
     "start_time": "2019-11-09T16:20:42.224232Z"
    }
   },
   "outputs": [
    {
     "name": "stdout",
     "output_type": "stream",
     "text": [
      "14.526497332334042\n",
      "18.03\n"
     ]
    }
   ],
   "source": [
    "print(train_df['Age'].std())\n",
    "print(round(example_series.std(), 2)) # round 1 figth! ;)   arredonda casas decimais"
   ]
  },
  {
   "cell_type": "markdown",
   "metadata": {},
   "source": [
    "# Desvio absoluto"
   ]
  },
  {
   "cell_type": "markdown",
   "metadata": {},
   "source": [
    " Desvio Absoluto é calculado da seguinte forma: primeiro, encontramos a média dos valores; depois, calculamos a distância de cada ponto desta média; somamos as distâncias e dividimos o resultado pela média destas distâncias."
   ]
  },
  {
   "cell_type": "markdown",
   "metadata": {},
   "source": [
    "\\begin{align}\n",
    "\\bar{x} &= \\sum \\frac{x_{i}}{n} \\\\\n",
    "dist &= \\sum \\bar{x} - x \\\\\n",
    "mad &= \\frac{dist}{\\bar{x}}\n",
    "\\end{align}"
   ]
  },
  {
   "cell_type": "code",
   "execution_count": 167,
   "metadata": {
    "ExecuteTime": {
     "end_time": "2019-11-09T16:26:23.546618Z",
     "start_time": "2019-11-09T16:26:23.518335Z"
    }
   },
   "outputs": [
    {
     "name": "stdout",
     "output_type": "stream",
     "text": [
      "11.322944471906409\n",
      "15.432098765432098\n"
     ]
    }
   ],
   "source": [
    "print(train_df['Age'].mad())\n",
    "print(example_series.mad())"
   ]
  },
  {
   "cell_type": "markdown",
   "metadata": {},
   "source": [
    "# Covariância e Correlação "
   ]
  },
  {
   "cell_type": "markdown",
   "metadata": {},
   "source": [
    "A covariância é uma medida numérica que indica a inter-dependência entre duas variáveis. A covariância indica como duas variáveis se comportam conjuntamente em relação às suas médias. Uma covariância igual a 0 indica que as duas variáveis são totalmente independentes, enquanto que uma covariância alta e positiva indica que uma variável é grande quando a outra é grande. Analogamente, uma covariância negativa e com valor absoluto alto indica que uma variável é pequena quando a outra é grande. A covariância pode ser calculada no Pandas através da função $cov()$.\n",
    "\n",
    "A covariância, entretanto, pode ser difícil de ser compreendida e comparada, pois ela nos dá valores em escalas que serão diferentes conforme as variáveis mudem. Para uma melhor comparação, normalizamos a covariância para ter um valor que sempre estará entre 1 e -1, que é a correlação"
   ]
  },
  {
   "cell_type": "code",
   "execution_count": 174,
   "metadata": {
    "ExecuteTime": {
     "end_time": "2019-11-09T19:30:23.385189Z",
     "start_time": "2019-11-09T19:30:23.354765Z"
    }
   },
   "outputs": [
    {
     "name": "stdout",
     "output_type": "stream",
     "text": [
      "             PassengerId  Survived    Pclass       Age     SibSp     Parch  \\\n",
      "PassengerId     1.000000 -0.005007 -0.035144  0.036847 -0.057527 -0.001652   \n",
      "Survived       -0.005007  1.000000 -0.338481 -0.077221 -0.035322  0.081629   \n",
      "Pclass         -0.035144 -0.338481  1.000000 -0.369226  0.083081  0.018443   \n",
      "Age             0.036847 -0.077221 -0.369226  1.000000 -0.308247 -0.189119   \n",
      "SibSp          -0.057527 -0.035322  0.083081 -0.308247  1.000000  0.414838   \n",
      "Parch          -0.001652  0.081629  0.018443 -0.189119  0.414838  1.000000   \n",
      "Fare            0.012658  0.257307 -0.549500  0.096067  0.159651  0.216225   \n",
      "\n",
      "                 Fare  \n",
      "PassengerId  0.012658  \n",
      "Survived     0.257307  \n",
      "Pclass      -0.549500  \n",
      "Age          0.096067  \n",
      "SibSp        0.159651  \n",
      "Parch        0.216225  \n",
      "Fare         1.000000  \n"
     ]
    }
   ],
   "source": [
    "print(train_df.corr())"
   ]
  },
  {
   "cell_type": "markdown",
   "metadata": {},
   "source": [
    "Por fim, também é importante atentar para o famoso conceito que diz que “correlação não implica causalidade”. O que isso quer dizer é, quando duas variáveis apresentam um alto valor de correlação, pode ser que a primeira variável cause este comportamento na segunda, que a segunda causa este comportamento na primeira, que ambas causam o comportamento na outra ou isso também pode não dizer nada, como nos casos que mencionamos acima. O segredo para não cair nesta armadilha é conhecer bem os dados, para que se possa fazer sempre uma avaliação criteriosa, caso a caso."
   ]
  },
  {
   "cell_type": "code",
   "execution_count": null,
   "metadata": {},
   "outputs": [],
   "source": []
  },
  {
   "cell_type": "markdown",
   "metadata": {},
   "source": [
    "# Exploratory Data Analysis (EDA)"
   ]
  },
  {
   "cell_type": "markdown",
   "metadata": {},
   "source": [
    "Preparação de dados do desafio do Porto Seguro [EDA](https://www.kaggle.com/bertcarremans/data-preparation-exploration) dados [Data](https://www.kaggle.com/kernels/scriptcontent/1676042/data)"
   ]
  },
  {
   "cell_type": "markdown",
   "metadata": {},
   "source": [
    "# Pacotes"
   ]
  },
  {
   "cell_type": "code",
   "execution_count": 246,
   "metadata": {
    "ExecuteTime": {
     "end_time": "2019-11-09T22:51:08.761426Z",
     "start_time": "2019-11-09T22:51:07.593174Z"
    }
   },
   "outputs": [],
   "source": [
    "import pandas as pd\n",
    "import numpy as np\n",
    "import matplotlib.pyplot as plt\n",
    "import seaborn as sns\n",
    "from sklearn.preprocessing import Imputer\n",
    "from sklearn.preprocessing import PolynomialFeatures\n",
    "from sklearn.preprocessing import StandardScaler\n",
    "from sklearn.feature_selection import VarianceThreshold\n",
    "from sklearn.feature_selection import SelectFromModel\n",
    "from sklearn.utils import shuffle\n",
    "from sklearn.ensemble import RandomForestClassifier\n",
    "\n",
    "pd.set_option('display.max_columns', 100)"
   ]
  },
  {
   "cell_type": "code",
   "execution_count": null,
   "metadata": {},
   "outputs": [],
   "source": []
  },
  {
   "cell_type": "markdown",
   "metadata": {},
   "source": [
    "# Dados"
   ]
  },
  {
   "cell_type": "code",
   "execution_count": 249,
   "metadata": {
    "ExecuteTime": {
     "end_time": "2019-11-09T22:52:31.433191Z",
     "start_time": "2019-11-09T22:52:20.467735Z"
    }
   },
   "outputs": [],
   "source": [
    "trainPortoSeguro = pd.read_csv('portoSeguro/train.csv')\n",
    "testPortoSeguro = pd.read_csv('portoSeguro/test.csv')\n"
   ]
  },
  {
   "cell_type": "markdown",
   "metadata": {},
   "source": [
    "# Primeira mirada"
   ]
  },
  {
   "cell_type": "markdown",
   "metadata": {},
   "source": [
    "Detalhes sobre os dados da competição:\n",
    "* Variáveis que pertencem ao mesmo grupo **são taggeadas** pelos nomes (e.g.  ind, reg, car, calc)\n",
    "* Variáveis com o sufixo **bin** são binárias e **cat** são categóricas\n",
    "* Outras features são continuas ou ordinais\n",
    "* -1 indica missing\n",
    "* Devemos predizer a coluna **target** que indica uma solicitação de pedido de seguro\n"
   ]
  },
  {
   "cell_type": "code",
   "execution_count": 253,
   "metadata": {
    "ExecuteTime": {
     "end_time": "2019-11-09T23:01:02.898519Z",
     "start_time": "2019-11-09T23:01:02.863951Z"
    }
   },
   "outputs": [
    {
     "data": {
      "text/html": [
       "<div>\n",
       "<style scoped>\n",
       "    .dataframe tbody tr th:only-of-type {\n",
       "        vertical-align: middle;\n",
       "    }\n",
       "\n",
       "    .dataframe tbody tr th {\n",
       "        vertical-align: top;\n",
       "    }\n",
       "\n",
       "    .dataframe thead th {\n",
       "        text-align: right;\n",
       "    }\n",
       "</style>\n",
       "<table border=\"1\" class=\"dataframe\">\n",
       "  <thead>\n",
       "    <tr style=\"text-align: right;\">\n",
       "      <th></th>\n",
       "      <th>id</th>\n",
       "      <th>target</th>\n",
       "      <th>ps_ind_01</th>\n",
       "      <th>ps_ind_02_cat</th>\n",
       "      <th>ps_ind_03</th>\n",
       "      <th>ps_ind_04_cat</th>\n",
       "      <th>ps_ind_05_cat</th>\n",
       "      <th>ps_ind_06_bin</th>\n",
       "      <th>ps_ind_07_bin</th>\n",
       "      <th>ps_ind_08_bin</th>\n",
       "      <th>ps_ind_09_bin</th>\n",
       "      <th>ps_ind_10_bin</th>\n",
       "      <th>ps_ind_11_bin</th>\n",
       "      <th>ps_ind_12_bin</th>\n",
       "      <th>ps_ind_13_bin</th>\n",
       "      <th>ps_ind_14</th>\n",
       "      <th>ps_ind_15</th>\n",
       "      <th>ps_ind_16_bin</th>\n",
       "      <th>ps_ind_17_bin</th>\n",
       "      <th>ps_ind_18_bin</th>\n",
       "      <th>ps_reg_01</th>\n",
       "      <th>ps_reg_02</th>\n",
       "      <th>ps_reg_03</th>\n",
       "      <th>ps_car_01_cat</th>\n",
       "      <th>ps_car_02_cat</th>\n",
       "      <th>ps_car_03_cat</th>\n",
       "      <th>ps_car_04_cat</th>\n",
       "      <th>ps_car_05_cat</th>\n",
       "      <th>ps_car_06_cat</th>\n",
       "      <th>ps_car_07_cat</th>\n",
       "      <th>ps_car_08_cat</th>\n",
       "      <th>ps_car_09_cat</th>\n",
       "      <th>ps_car_10_cat</th>\n",
       "      <th>ps_car_11_cat</th>\n",
       "      <th>ps_car_11</th>\n",
       "      <th>ps_car_12</th>\n",
       "      <th>ps_car_13</th>\n",
       "      <th>ps_car_14</th>\n",
       "      <th>ps_car_15</th>\n",
       "      <th>ps_calc_01</th>\n",
       "      <th>ps_calc_02</th>\n",
       "      <th>ps_calc_03</th>\n",
       "      <th>ps_calc_04</th>\n",
       "      <th>ps_calc_05</th>\n",
       "      <th>ps_calc_06</th>\n",
       "      <th>ps_calc_07</th>\n",
       "      <th>ps_calc_08</th>\n",
       "      <th>ps_calc_09</th>\n",
       "      <th>ps_calc_10</th>\n",
       "      <th>ps_calc_11</th>\n",
       "      <th>ps_calc_12</th>\n",
       "      <th>ps_calc_13</th>\n",
       "      <th>ps_calc_14</th>\n",
       "      <th>ps_calc_15_bin</th>\n",
       "      <th>ps_calc_16_bin</th>\n",
       "      <th>ps_calc_17_bin</th>\n",
       "      <th>ps_calc_18_bin</th>\n",
       "      <th>ps_calc_19_bin</th>\n",
       "      <th>ps_calc_20_bin</th>\n",
       "    </tr>\n",
       "  </thead>\n",
       "  <tbody>\n",
       "    <tr>\n",
       "      <th>0</th>\n",
       "      <td>7</td>\n",
       "      <td>0</td>\n",
       "      <td>2</td>\n",
       "      <td>2</td>\n",
       "      <td>5</td>\n",
       "      <td>1</td>\n",
       "      <td>0</td>\n",
       "      <td>0</td>\n",
       "      <td>1</td>\n",
       "      <td>0</td>\n",
       "      <td>0</td>\n",
       "      <td>0</td>\n",
       "      <td>0</td>\n",
       "      <td>0</td>\n",
       "      <td>0</td>\n",
       "      <td>0</td>\n",
       "      <td>11</td>\n",
       "      <td>0</td>\n",
       "      <td>1</td>\n",
       "      <td>0</td>\n",
       "      <td>0.7</td>\n",
       "      <td>0.2</td>\n",
       "      <td>0.718070</td>\n",
       "      <td>10</td>\n",
       "      <td>1</td>\n",
       "      <td>-1</td>\n",
       "      <td>0</td>\n",
       "      <td>1</td>\n",
       "      <td>4</td>\n",
       "      <td>1</td>\n",
       "      <td>0</td>\n",
       "      <td>0</td>\n",
       "      <td>1</td>\n",
       "      <td>12</td>\n",
       "      <td>2</td>\n",
       "      <td>0.400000</td>\n",
       "      <td>0.883679</td>\n",
       "      <td>0.370810</td>\n",
       "      <td>3.605551</td>\n",
       "      <td>0.6</td>\n",
       "      <td>0.5</td>\n",
       "      <td>0.2</td>\n",
       "      <td>3</td>\n",
       "      <td>1</td>\n",
       "      <td>10</td>\n",
       "      <td>1</td>\n",
       "      <td>10</td>\n",
       "      <td>1</td>\n",
       "      <td>5</td>\n",
       "      <td>9</td>\n",
       "      <td>1</td>\n",
       "      <td>5</td>\n",
       "      <td>8</td>\n",
       "      <td>0</td>\n",
       "      <td>1</td>\n",
       "      <td>1</td>\n",
       "      <td>0</td>\n",
       "      <td>0</td>\n",
       "      <td>1</td>\n",
       "    </tr>\n",
       "    <tr>\n",
       "      <th>1</th>\n",
       "      <td>9</td>\n",
       "      <td>0</td>\n",
       "      <td>1</td>\n",
       "      <td>1</td>\n",
       "      <td>7</td>\n",
       "      <td>0</td>\n",
       "      <td>0</td>\n",
       "      <td>0</td>\n",
       "      <td>0</td>\n",
       "      <td>1</td>\n",
       "      <td>0</td>\n",
       "      <td>0</td>\n",
       "      <td>0</td>\n",
       "      <td>0</td>\n",
       "      <td>0</td>\n",
       "      <td>0</td>\n",
       "      <td>3</td>\n",
       "      <td>0</td>\n",
       "      <td>0</td>\n",
       "      <td>1</td>\n",
       "      <td>0.8</td>\n",
       "      <td>0.4</td>\n",
       "      <td>0.766078</td>\n",
       "      <td>11</td>\n",
       "      <td>1</td>\n",
       "      <td>-1</td>\n",
       "      <td>0</td>\n",
       "      <td>-1</td>\n",
       "      <td>11</td>\n",
       "      <td>1</td>\n",
       "      <td>1</td>\n",
       "      <td>2</td>\n",
       "      <td>1</td>\n",
       "      <td>19</td>\n",
       "      <td>3</td>\n",
       "      <td>0.316228</td>\n",
       "      <td>0.618817</td>\n",
       "      <td>0.388716</td>\n",
       "      <td>2.449490</td>\n",
       "      <td>0.3</td>\n",
       "      <td>0.1</td>\n",
       "      <td>0.3</td>\n",
       "      <td>2</td>\n",
       "      <td>1</td>\n",
       "      <td>9</td>\n",
       "      <td>5</td>\n",
       "      <td>8</td>\n",
       "      <td>1</td>\n",
       "      <td>7</td>\n",
       "      <td>3</td>\n",
       "      <td>1</td>\n",
       "      <td>1</td>\n",
       "      <td>9</td>\n",
       "      <td>0</td>\n",
       "      <td>1</td>\n",
       "      <td>1</td>\n",
       "      <td>0</td>\n",
       "      <td>1</td>\n",
       "      <td>0</td>\n",
       "    </tr>\n",
       "    <tr>\n",
       "      <th>2</th>\n",
       "      <td>13</td>\n",
       "      <td>0</td>\n",
       "      <td>5</td>\n",
       "      <td>4</td>\n",
       "      <td>9</td>\n",
       "      <td>1</td>\n",
       "      <td>0</td>\n",
       "      <td>0</td>\n",
       "      <td>0</td>\n",
       "      <td>1</td>\n",
       "      <td>0</td>\n",
       "      <td>0</td>\n",
       "      <td>0</td>\n",
       "      <td>0</td>\n",
       "      <td>0</td>\n",
       "      <td>0</td>\n",
       "      <td>12</td>\n",
       "      <td>1</td>\n",
       "      <td>0</td>\n",
       "      <td>0</td>\n",
       "      <td>0.0</td>\n",
       "      <td>0.0</td>\n",
       "      <td>-1.000000</td>\n",
       "      <td>7</td>\n",
       "      <td>1</td>\n",
       "      <td>-1</td>\n",
       "      <td>0</td>\n",
       "      <td>-1</td>\n",
       "      <td>14</td>\n",
       "      <td>1</td>\n",
       "      <td>1</td>\n",
       "      <td>2</td>\n",
       "      <td>1</td>\n",
       "      <td>60</td>\n",
       "      <td>1</td>\n",
       "      <td>0.316228</td>\n",
       "      <td>0.641586</td>\n",
       "      <td>0.347275</td>\n",
       "      <td>3.316625</td>\n",
       "      <td>0.5</td>\n",
       "      <td>0.7</td>\n",
       "      <td>0.1</td>\n",
       "      <td>2</td>\n",
       "      <td>2</td>\n",
       "      <td>9</td>\n",
       "      <td>1</td>\n",
       "      <td>8</td>\n",
       "      <td>2</td>\n",
       "      <td>7</td>\n",
       "      <td>4</td>\n",
       "      <td>2</td>\n",
       "      <td>7</td>\n",
       "      <td>7</td>\n",
       "      <td>0</td>\n",
       "      <td>1</td>\n",
       "      <td>1</td>\n",
       "      <td>0</td>\n",
       "      <td>1</td>\n",
       "      <td>0</td>\n",
       "    </tr>\n",
       "    <tr>\n",
       "      <th>3</th>\n",
       "      <td>16</td>\n",
       "      <td>0</td>\n",
       "      <td>0</td>\n",
       "      <td>1</td>\n",
       "      <td>2</td>\n",
       "      <td>0</td>\n",
       "      <td>0</td>\n",
       "      <td>1</td>\n",
       "      <td>0</td>\n",
       "      <td>0</td>\n",
       "      <td>0</td>\n",
       "      <td>0</td>\n",
       "      <td>0</td>\n",
       "      <td>0</td>\n",
       "      <td>0</td>\n",
       "      <td>0</td>\n",
       "      <td>8</td>\n",
       "      <td>1</td>\n",
       "      <td>0</td>\n",
       "      <td>0</td>\n",
       "      <td>0.9</td>\n",
       "      <td>0.2</td>\n",
       "      <td>0.580948</td>\n",
       "      <td>7</td>\n",
       "      <td>1</td>\n",
       "      <td>0</td>\n",
       "      <td>0</td>\n",
       "      <td>1</td>\n",
       "      <td>11</td>\n",
       "      <td>1</td>\n",
       "      <td>1</td>\n",
       "      <td>3</td>\n",
       "      <td>1</td>\n",
       "      <td>104</td>\n",
       "      <td>1</td>\n",
       "      <td>0.374166</td>\n",
       "      <td>0.542949</td>\n",
       "      <td>0.294958</td>\n",
       "      <td>2.000000</td>\n",
       "      <td>0.6</td>\n",
       "      <td>0.9</td>\n",
       "      <td>0.1</td>\n",
       "      <td>2</td>\n",
       "      <td>4</td>\n",
       "      <td>7</td>\n",
       "      <td>1</td>\n",
       "      <td>8</td>\n",
       "      <td>4</td>\n",
       "      <td>2</td>\n",
       "      <td>2</td>\n",
       "      <td>2</td>\n",
       "      <td>4</td>\n",
       "      <td>9</td>\n",
       "      <td>0</td>\n",
       "      <td>0</td>\n",
       "      <td>0</td>\n",
       "      <td>0</td>\n",
       "      <td>0</td>\n",
       "      <td>0</td>\n",
       "    </tr>\n",
       "    <tr>\n",
       "      <th>4</th>\n",
       "      <td>17</td>\n",
       "      <td>0</td>\n",
       "      <td>0</td>\n",
       "      <td>2</td>\n",
       "      <td>0</td>\n",
       "      <td>1</td>\n",
       "      <td>0</td>\n",
       "      <td>1</td>\n",
       "      <td>0</td>\n",
       "      <td>0</td>\n",
       "      <td>0</td>\n",
       "      <td>0</td>\n",
       "      <td>0</td>\n",
       "      <td>0</td>\n",
       "      <td>0</td>\n",
       "      <td>0</td>\n",
       "      <td>9</td>\n",
       "      <td>1</td>\n",
       "      <td>0</td>\n",
       "      <td>0</td>\n",
       "      <td>0.7</td>\n",
       "      <td>0.6</td>\n",
       "      <td>0.840759</td>\n",
       "      <td>11</td>\n",
       "      <td>1</td>\n",
       "      <td>-1</td>\n",
       "      <td>0</td>\n",
       "      <td>-1</td>\n",
       "      <td>14</td>\n",
       "      <td>1</td>\n",
       "      <td>1</td>\n",
       "      <td>2</td>\n",
       "      <td>1</td>\n",
       "      <td>82</td>\n",
       "      <td>3</td>\n",
       "      <td>0.316070</td>\n",
       "      <td>0.565832</td>\n",
       "      <td>0.365103</td>\n",
       "      <td>2.000000</td>\n",
       "      <td>0.4</td>\n",
       "      <td>0.6</td>\n",
       "      <td>0.0</td>\n",
       "      <td>2</td>\n",
       "      <td>2</td>\n",
       "      <td>6</td>\n",
       "      <td>3</td>\n",
       "      <td>10</td>\n",
       "      <td>2</td>\n",
       "      <td>12</td>\n",
       "      <td>3</td>\n",
       "      <td>1</td>\n",
       "      <td>1</td>\n",
       "      <td>3</td>\n",
       "      <td>0</td>\n",
       "      <td>0</td>\n",
       "      <td>0</td>\n",
       "      <td>1</td>\n",
       "      <td>1</td>\n",
       "      <td>0</td>\n",
       "    </tr>\n",
       "  </tbody>\n",
       "</table>\n",
       "</div>"
      ],
      "text/plain": [
       "   id  target  ps_ind_01  ps_ind_02_cat  ps_ind_03  ps_ind_04_cat  \\\n",
       "0   7       0          2              2          5              1   \n",
       "1   9       0          1              1          7              0   \n",
       "2  13       0          5              4          9              1   \n",
       "3  16       0          0              1          2              0   \n",
       "4  17       0          0              2          0              1   \n",
       "\n",
       "   ps_ind_05_cat  ps_ind_06_bin  ps_ind_07_bin  ps_ind_08_bin  ps_ind_09_bin  \\\n",
       "0              0              0              1              0              0   \n",
       "1              0              0              0              1              0   \n",
       "2              0              0              0              1              0   \n",
       "3              0              1              0              0              0   \n",
       "4              0              1              0              0              0   \n",
       "\n",
       "   ps_ind_10_bin  ps_ind_11_bin  ps_ind_12_bin  ps_ind_13_bin  ps_ind_14  \\\n",
       "0              0              0              0              0          0   \n",
       "1              0              0              0              0          0   \n",
       "2              0              0              0              0          0   \n",
       "3              0              0              0              0          0   \n",
       "4              0              0              0              0          0   \n",
       "\n",
       "   ps_ind_15  ps_ind_16_bin  ps_ind_17_bin  ps_ind_18_bin  ps_reg_01  \\\n",
       "0         11              0              1              0        0.7   \n",
       "1          3              0              0              1        0.8   \n",
       "2         12              1              0              0        0.0   \n",
       "3          8              1              0              0        0.9   \n",
       "4          9              1              0              0        0.7   \n",
       "\n",
       "   ps_reg_02  ps_reg_03  ps_car_01_cat  ps_car_02_cat  ps_car_03_cat  \\\n",
       "0        0.2   0.718070             10              1             -1   \n",
       "1        0.4   0.766078             11              1             -1   \n",
       "2        0.0  -1.000000              7              1             -1   \n",
       "3        0.2   0.580948              7              1              0   \n",
       "4        0.6   0.840759             11              1             -1   \n",
       "\n",
       "   ps_car_04_cat  ps_car_05_cat  ps_car_06_cat  ps_car_07_cat  ps_car_08_cat  \\\n",
       "0              0              1              4              1              0   \n",
       "1              0             -1             11              1              1   \n",
       "2              0             -1             14              1              1   \n",
       "3              0              1             11              1              1   \n",
       "4              0             -1             14              1              1   \n",
       "\n",
       "   ps_car_09_cat  ps_car_10_cat  ps_car_11_cat  ps_car_11  ps_car_12  \\\n",
       "0              0              1             12          2   0.400000   \n",
       "1              2              1             19          3   0.316228   \n",
       "2              2              1             60          1   0.316228   \n",
       "3              3              1            104          1   0.374166   \n",
       "4              2              1             82          3   0.316070   \n",
       "\n",
       "   ps_car_13  ps_car_14  ps_car_15  ps_calc_01  ps_calc_02  ps_calc_03  \\\n",
       "0   0.883679   0.370810   3.605551         0.6         0.5         0.2   \n",
       "1   0.618817   0.388716   2.449490         0.3         0.1         0.3   \n",
       "2   0.641586   0.347275   3.316625         0.5         0.7         0.1   \n",
       "3   0.542949   0.294958   2.000000         0.6         0.9         0.1   \n",
       "4   0.565832   0.365103   2.000000         0.4         0.6         0.0   \n",
       "\n",
       "   ps_calc_04  ps_calc_05  ps_calc_06  ps_calc_07  ps_calc_08  ps_calc_09  \\\n",
       "0           3           1          10           1          10           1   \n",
       "1           2           1           9           5           8           1   \n",
       "2           2           2           9           1           8           2   \n",
       "3           2           4           7           1           8           4   \n",
       "4           2           2           6           3          10           2   \n",
       "\n",
       "   ps_calc_10  ps_calc_11  ps_calc_12  ps_calc_13  ps_calc_14  ps_calc_15_bin  \\\n",
       "0           5           9           1           5           8               0   \n",
       "1           7           3           1           1           9               0   \n",
       "2           7           4           2           7           7               0   \n",
       "3           2           2           2           4           9               0   \n",
       "4          12           3           1           1           3               0   \n",
       "\n",
       "   ps_calc_16_bin  ps_calc_17_bin  ps_calc_18_bin  ps_calc_19_bin  \\\n",
       "0               1               1               0               0   \n",
       "1               1               1               0               1   \n",
       "2               1               1               0               1   \n",
       "3               0               0               0               0   \n",
       "4               0               0               1               1   \n",
       "\n",
       "   ps_calc_20_bin  \n",
       "0               1  \n",
       "1               0  \n",
       "2               0  \n",
       "3               0  \n",
       "4               0  "
      ]
     },
     "metadata": {},
     "output_type": "display_data"
    }
   ],
   "source": [
    "display(trainPortoSeguro.head())"
   ]
  },
  {
   "cell_type": "code",
   "execution_count": 254,
   "metadata": {
    "ExecuteTime": {
     "end_time": "2019-11-09T23:01:07.901176Z",
     "start_time": "2019-11-09T23:01:07.851131Z"
    }
   },
   "outputs": [
    {
     "data": {
      "text/html": [
       "<div>\n",
       "<style scoped>\n",
       "    .dataframe tbody tr th:only-of-type {\n",
       "        vertical-align: middle;\n",
       "    }\n",
       "\n",
       "    .dataframe tbody tr th {\n",
       "        vertical-align: top;\n",
       "    }\n",
       "\n",
       "    .dataframe thead th {\n",
       "        text-align: right;\n",
       "    }\n",
       "</style>\n",
       "<table border=\"1\" class=\"dataframe\">\n",
       "  <thead>\n",
       "    <tr style=\"text-align: right;\">\n",
       "      <th></th>\n",
       "      <th>id</th>\n",
       "      <th>target</th>\n",
       "      <th>ps_ind_01</th>\n",
       "      <th>ps_ind_02_cat</th>\n",
       "      <th>ps_ind_03</th>\n",
       "      <th>ps_ind_04_cat</th>\n",
       "      <th>ps_ind_05_cat</th>\n",
       "      <th>ps_ind_06_bin</th>\n",
       "      <th>ps_ind_07_bin</th>\n",
       "      <th>ps_ind_08_bin</th>\n",
       "      <th>ps_ind_09_bin</th>\n",
       "      <th>ps_ind_10_bin</th>\n",
       "      <th>ps_ind_11_bin</th>\n",
       "      <th>ps_ind_12_bin</th>\n",
       "      <th>ps_ind_13_bin</th>\n",
       "      <th>ps_ind_14</th>\n",
       "      <th>ps_ind_15</th>\n",
       "      <th>ps_ind_16_bin</th>\n",
       "      <th>ps_ind_17_bin</th>\n",
       "      <th>ps_ind_18_bin</th>\n",
       "      <th>ps_reg_01</th>\n",
       "      <th>ps_reg_02</th>\n",
       "      <th>ps_reg_03</th>\n",
       "      <th>ps_car_01_cat</th>\n",
       "      <th>ps_car_02_cat</th>\n",
       "      <th>ps_car_03_cat</th>\n",
       "      <th>ps_car_04_cat</th>\n",
       "      <th>ps_car_05_cat</th>\n",
       "      <th>ps_car_06_cat</th>\n",
       "      <th>ps_car_07_cat</th>\n",
       "      <th>ps_car_08_cat</th>\n",
       "      <th>ps_car_09_cat</th>\n",
       "      <th>ps_car_10_cat</th>\n",
       "      <th>ps_car_11_cat</th>\n",
       "      <th>ps_car_11</th>\n",
       "      <th>ps_car_12</th>\n",
       "      <th>ps_car_13</th>\n",
       "      <th>ps_car_14</th>\n",
       "      <th>ps_car_15</th>\n",
       "      <th>ps_calc_01</th>\n",
       "      <th>ps_calc_02</th>\n",
       "      <th>ps_calc_03</th>\n",
       "      <th>ps_calc_04</th>\n",
       "      <th>ps_calc_05</th>\n",
       "      <th>ps_calc_06</th>\n",
       "      <th>ps_calc_07</th>\n",
       "      <th>ps_calc_08</th>\n",
       "      <th>ps_calc_09</th>\n",
       "      <th>ps_calc_10</th>\n",
       "      <th>ps_calc_11</th>\n",
       "      <th>ps_calc_12</th>\n",
       "      <th>ps_calc_13</th>\n",
       "      <th>ps_calc_14</th>\n",
       "      <th>ps_calc_15_bin</th>\n",
       "      <th>ps_calc_16_bin</th>\n",
       "      <th>ps_calc_17_bin</th>\n",
       "      <th>ps_calc_18_bin</th>\n",
       "      <th>ps_calc_19_bin</th>\n",
       "      <th>ps_calc_20_bin</th>\n",
       "    </tr>\n",
       "  </thead>\n",
       "  <tbody>\n",
       "    <tr>\n",
       "      <th>595207</th>\n",
       "      <td>1488013</td>\n",
       "      <td>0</td>\n",
       "      <td>3</td>\n",
       "      <td>1</td>\n",
       "      <td>10</td>\n",
       "      <td>0</td>\n",
       "      <td>0</td>\n",
       "      <td>0</td>\n",
       "      <td>0</td>\n",
       "      <td>0</td>\n",
       "      <td>1</td>\n",
       "      <td>0</td>\n",
       "      <td>0</td>\n",
       "      <td>0</td>\n",
       "      <td>0</td>\n",
       "      <td>0</td>\n",
       "      <td>13</td>\n",
       "      <td>1</td>\n",
       "      <td>0</td>\n",
       "      <td>0</td>\n",
       "      <td>0.5</td>\n",
       "      <td>0.3</td>\n",
       "      <td>0.692820</td>\n",
       "      <td>10</td>\n",
       "      <td>1</td>\n",
       "      <td>-1</td>\n",
       "      <td>0</td>\n",
       "      <td>1</td>\n",
       "      <td>1</td>\n",
       "      <td>1</td>\n",
       "      <td>1</td>\n",
       "      <td>0</td>\n",
       "      <td>1</td>\n",
       "      <td>31</td>\n",
       "      <td>3</td>\n",
       "      <td>0.374166</td>\n",
       "      <td>0.684631</td>\n",
       "      <td>0.385487</td>\n",
       "      <td>2.645751</td>\n",
       "      <td>0.4</td>\n",
       "      <td>0.5</td>\n",
       "      <td>0.3</td>\n",
       "      <td>3</td>\n",
       "      <td>0</td>\n",
       "      <td>9</td>\n",
       "      <td>0</td>\n",
       "      <td>9</td>\n",
       "      <td>1</td>\n",
       "      <td>12</td>\n",
       "      <td>4</td>\n",
       "      <td>1</td>\n",
       "      <td>9</td>\n",
       "      <td>6</td>\n",
       "      <td>0</td>\n",
       "      <td>1</td>\n",
       "      <td>1</td>\n",
       "      <td>0</td>\n",
       "      <td>1</td>\n",
       "      <td>1</td>\n",
       "    </tr>\n",
       "    <tr>\n",
       "      <th>595208</th>\n",
       "      <td>1488016</td>\n",
       "      <td>0</td>\n",
       "      <td>5</td>\n",
       "      <td>1</td>\n",
       "      <td>3</td>\n",
       "      <td>0</td>\n",
       "      <td>0</td>\n",
       "      <td>0</td>\n",
       "      <td>0</td>\n",
       "      <td>0</td>\n",
       "      <td>1</td>\n",
       "      <td>0</td>\n",
       "      <td>0</td>\n",
       "      <td>0</td>\n",
       "      <td>0</td>\n",
       "      <td>0</td>\n",
       "      <td>6</td>\n",
       "      <td>1</td>\n",
       "      <td>0</td>\n",
       "      <td>0</td>\n",
       "      <td>0.9</td>\n",
       "      <td>0.7</td>\n",
       "      <td>1.382027</td>\n",
       "      <td>9</td>\n",
       "      <td>1</td>\n",
       "      <td>-1</td>\n",
       "      <td>0</td>\n",
       "      <td>-1</td>\n",
       "      <td>15</td>\n",
       "      <td>0</td>\n",
       "      <td>0</td>\n",
       "      <td>2</td>\n",
       "      <td>1</td>\n",
       "      <td>63</td>\n",
       "      <td>2</td>\n",
       "      <td>0.387298</td>\n",
       "      <td>0.972145</td>\n",
       "      <td>-1.000000</td>\n",
       "      <td>3.605551</td>\n",
       "      <td>0.2</td>\n",
       "      <td>0.2</td>\n",
       "      <td>0.0</td>\n",
       "      <td>2</td>\n",
       "      <td>4</td>\n",
       "      <td>8</td>\n",
       "      <td>6</td>\n",
       "      <td>8</td>\n",
       "      <td>2</td>\n",
       "      <td>12</td>\n",
       "      <td>4</td>\n",
       "      <td>1</td>\n",
       "      <td>3</td>\n",
       "      <td>8</td>\n",
       "      <td>1</td>\n",
       "      <td>0</td>\n",
       "      <td>1</td>\n",
       "      <td>0</td>\n",
       "      <td>1</td>\n",
       "      <td>1</td>\n",
       "    </tr>\n",
       "    <tr>\n",
       "      <th>595209</th>\n",
       "      <td>1488017</td>\n",
       "      <td>0</td>\n",
       "      <td>1</td>\n",
       "      <td>1</td>\n",
       "      <td>10</td>\n",
       "      <td>0</td>\n",
       "      <td>0</td>\n",
       "      <td>1</td>\n",
       "      <td>0</td>\n",
       "      <td>0</td>\n",
       "      <td>0</td>\n",
       "      <td>0</td>\n",
       "      <td>0</td>\n",
       "      <td>0</td>\n",
       "      <td>0</td>\n",
       "      <td>0</td>\n",
       "      <td>12</td>\n",
       "      <td>1</td>\n",
       "      <td>0</td>\n",
       "      <td>0</td>\n",
       "      <td>0.9</td>\n",
       "      <td>0.2</td>\n",
       "      <td>0.659071</td>\n",
       "      <td>7</td>\n",
       "      <td>1</td>\n",
       "      <td>-1</td>\n",
       "      <td>0</td>\n",
       "      <td>-1</td>\n",
       "      <td>1</td>\n",
       "      <td>1</td>\n",
       "      <td>1</td>\n",
       "      <td>2</td>\n",
       "      <td>1</td>\n",
       "      <td>31</td>\n",
       "      <td>3</td>\n",
       "      <td>0.397492</td>\n",
       "      <td>0.596373</td>\n",
       "      <td>0.398748</td>\n",
       "      <td>1.732051</td>\n",
       "      <td>0.4</td>\n",
       "      <td>0.0</td>\n",
       "      <td>0.3</td>\n",
       "      <td>3</td>\n",
       "      <td>2</td>\n",
       "      <td>7</td>\n",
       "      <td>4</td>\n",
       "      <td>8</td>\n",
       "      <td>0</td>\n",
       "      <td>10</td>\n",
       "      <td>3</td>\n",
       "      <td>2</td>\n",
       "      <td>2</td>\n",
       "      <td>6</td>\n",
       "      <td>0</td>\n",
       "      <td>0</td>\n",
       "      <td>1</td>\n",
       "      <td>0</td>\n",
       "      <td>0</td>\n",
       "      <td>0</td>\n",
       "    </tr>\n",
       "    <tr>\n",
       "      <th>595210</th>\n",
       "      <td>1488021</td>\n",
       "      <td>0</td>\n",
       "      <td>5</td>\n",
       "      <td>2</td>\n",
       "      <td>3</td>\n",
       "      <td>1</td>\n",
       "      <td>0</td>\n",
       "      <td>0</td>\n",
       "      <td>0</td>\n",
       "      <td>1</td>\n",
       "      <td>0</td>\n",
       "      <td>0</td>\n",
       "      <td>0</td>\n",
       "      <td>0</td>\n",
       "      <td>0</td>\n",
       "      <td>0</td>\n",
       "      <td>12</td>\n",
       "      <td>1</td>\n",
       "      <td>0</td>\n",
       "      <td>0</td>\n",
       "      <td>0.9</td>\n",
       "      <td>0.4</td>\n",
       "      <td>0.698212</td>\n",
       "      <td>11</td>\n",
       "      <td>1</td>\n",
       "      <td>-1</td>\n",
       "      <td>0</td>\n",
       "      <td>-1</td>\n",
       "      <td>11</td>\n",
       "      <td>1</td>\n",
       "      <td>1</td>\n",
       "      <td>2</td>\n",
       "      <td>1</td>\n",
       "      <td>101</td>\n",
       "      <td>3</td>\n",
       "      <td>0.374166</td>\n",
       "      <td>0.764434</td>\n",
       "      <td>0.384968</td>\n",
       "      <td>3.162278</td>\n",
       "      <td>0.0</td>\n",
       "      <td>0.7</td>\n",
       "      <td>0.0</td>\n",
       "      <td>4</td>\n",
       "      <td>0</td>\n",
       "      <td>9</td>\n",
       "      <td>4</td>\n",
       "      <td>9</td>\n",
       "      <td>2</td>\n",
       "      <td>11</td>\n",
       "      <td>4</td>\n",
       "      <td>1</td>\n",
       "      <td>4</td>\n",
       "      <td>2</td>\n",
       "      <td>0</td>\n",
       "      <td>1</td>\n",
       "      <td>1</td>\n",
       "      <td>1</td>\n",
       "      <td>0</td>\n",
       "      <td>0</td>\n",
       "    </tr>\n",
       "    <tr>\n",
       "      <th>595211</th>\n",
       "      <td>1488027</td>\n",
       "      <td>0</td>\n",
       "      <td>0</td>\n",
       "      <td>1</td>\n",
       "      <td>8</td>\n",
       "      <td>0</td>\n",
       "      <td>0</td>\n",
       "      <td>1</td>\n",
       "      <td>0</td>\n",
       "      <td>0</td>\n",
       "      <td>0</td>\n",
       "      <td>0</td>\n",
       "      <td>0</td>\n",
       "      <td>0</td>\n",
       "      <td>0</td>\n",
       "      <td>0</td>\n",
       "      <td>7</td>\n",
       "      <td>1</td>\n",
       "      <td>0</td>\n",
       "      <td>0</td>\n",
       "      <td>0.1</td>\n",
       "      <td>0.2</td>\n",
       "      <td>-1.000000</td>\n",
       "      <td>7</td>\n",
       "      <td>0</td>\n",
       "      <td>-1</td>\n",
       "      <td>0</td>\n",
       "      <td>-1</td>\n",
       "      <td>0</td>\n",
       "      <td>1</td>\n",
       "      <td>0</td>\n",
       "      <td>2</td>\n",
       "      <td>1</td>\n",
       "      <td>34</td>\n",
       "      <td>2</td>\n",
       "      <td>0.400000</td>\n",
       "      <td>0.932649</td>\n",
       "      <td>0.378021</td>\n",
       "      <td>3.741657</td>\n",
       "      <td>0.4</td>\n",
       "      <td>0.0</td>\n",
       "      <td>0.5</td>\n",
       "      <td>2</td>\n",
       "      <td>3</td>\n",
       "      <td>10</td>\n",
       "      <td>4</td>\n",
       "      <td>10</td>\n",
       "      <td>2</td>\n",
       "      <td>5</td>\n",
       "      <td>4</td>\n",
       "      <td>4</td>\n",
       "      <td>3</td>\n",
       "      <td>8</td>\n",
       "      <td>0</td>\n",
       "      <td>1</td>\n",
       "      <td>0</td>\n",
       "      <td>0</td>\n",
       "      <td>0</td>\n",
       "      <td>0</td>\n",
       "    </tr>\n",
       "  </tbody>\n",
       "</table>\n",
       "</div>"
      ],
      "text/plain": [
       "             id  target  ps_ind_01  ps_ind_02_cat  ps_ind_03  ps_ind_04_cat  \\\n",
       "595207  1488013       0          3              1         10              0   \n",
       "595208  1488016       0          5              1          3              0   \n",
       "595209  1488017       0          1              1         10              0   \n",
       "595210  1488021       0          5              2          3              1   \n",
       "595211  1488027       0          0              1          8              0   \n",
       "\n",
       "        ps_ind_05_cat  ps_ind_06_bin  ps_ind_07_bin  ps_ind_08_bin  \\\n",
       "595207              0              0              0              0   \n",
       "595208              0              0              0              0   \n",
       "595209              0              1              0              0   \n",
       "595210              0              0              0              1   \n",
       "595211              0              1              0              0   \n",
       "\n",
       "        ps_ind_09_bin  ps_ind_10_bin  ps_ind_11_bin  ps_ind_12_bin  \\\n",
       "595207              1              0              0              0   \n",
       "595208              1              0              0              0   \n",
       "595209              0              0              0              0   \n",
       "595210              0              0              0              0   \n",
       "595211              0              0              0              0   \n",
       "\n",
       "        ps_ind_13_bin  ps_ind_14  ps_ind_15  ps_ind_16_bin  ps_ind_17_bin  \\\n",
       "595207              0          0         13              1              0   \n",
       "595208              0          0          6              1              0   \n",
       "595209              0          0         12              1              0   \n",
       "595210              0          0         12              1              0   \n",
       "595211              0          0          7              1              0   \n",
       "\n",
       "        ps_ind_18_bin  ps_reg_01  ps_reg_02  ps_reg_03  ps_car_01_cat  \\\n",
       "595207              0        0.5        0.3   0.692820             10   \n",
       "595208              0        0.9        0.7   1.382027              9   \n",
       "595209              0        0.9        0.2   0.659071              7   \n",
       "595210              0        0.9        0.4   0.698212             11   \n",
       "595211              0        0.1        0.2  -1.000000              7   \n",
       "\n",
       "        ps_car_02_cat  ps_car_03_cat  ps_car_04_cat  ps_car_05_cat  \\\n",
       "595207              1             -1              0              1   \n",
       "595208              1             -1              0             -1   \n",
       "595209              1             -1              0             -1   \n",
       "595210              1             -1              0             -1   \n",
       "595211              0             -1              0             -1   \n",
       "\n",
       "        ps_car_06_cat  ps_car_07_cat  ps_car_08_cat  ps_car_09_cat  \\\n",
       "595207              1              1              1              0   \n",
       "595208             15              0              0              2   \n",
       "595209              1              1              1              2   \n",
       "595210             11              1              1              2   \n",
       "595211              0              1              0              2   \n",
       "\n",
       "        ps_car_10_cat  ps_car_11_cat  ps_car_11  ps_car_12  ps_car_13  \\\n",
       "595207              1             31          3   0.374166   0.684631   \n",
       "595208              1             63          2   0.387298   0.972145   \n",
       "595209              1             31          3   0.397492   0.596373   \n",
       "595210              1            101          3   0.374166   0.764434   \n",
       "595211              1             34          2   0.400000   0.932649   \n",
       "\n",
       "        ps_car_14  ps_car_15  ps_calc_01  ps_calc_02  ps_calc_03  ps_calc_04  \\\n",
       "595207   0.385487   2.645751         0.4         0.5         0.3           3   \n",
       "595208  -1.000000   3.605551         0.2         0.2         0.0           2   \n",
       "595209   0.398748   1.732051         0.4         0.0         0.3           3   \n",
       "595210   0.384968   3.162278         0.0         0.7         0.0           4   \n",
       "595211   0.378021   3.741657         0.4         0.0         0.5           2   \n",
       "\n",
       "        ps_calc_05  ps_calc_06  ps_calc_07  ps_calc_08  ps_calc_09  \\\n",
       "595207           0           9           0           9           1   \n",
       "595208           4           8           6           8           2   \n",
       "595209           2           7           4           8           0   \n",
       "595210           0           9           4           9           2   \n",
       "595211           3          10           4          10           2   \n",
       "\n",
       "        ps_calc_10  ps_calc_11  ps_calc_12  ps_calc_13  ps_calc_14  \\\n",
       "595207          12           4           1           9           6   \n",
       "595208          12           4           1           3           8   \n",
       "595209          10           3           2           2           6   \n",
       "595210          11           4           1           4           2   \n",
       "595211           5           4           4           3           8   \n",
       "\n",
       "        ps_calc_15_bin  ps_calc_16_bin  ps_calc_17_bin  ps_calc_18_bin  \\\n",
       "595207               0               1               1               0   \n",
       "595208               1               0               1               0   \n",
       "595209               0               0               1               0   \n",
       "595210               0               1               1               1   \n",
       "595211               0               1               0               0   \n",
       "\n",
       "        ps_calc_19_bin  ps_calc_20_bin  \n",
       "595207               1               1  \n",
       "595208               1               1  \n",
       "595209               0               0  \n",
       "595210               0               0  \n",
       "595211               0               0  "
      ]
     },
     "metadata": {},
     "output_type": "display_data"
    }
   ],
   "source": [
    "display(trainPortoSeguro.tail())"
   ]
  },
  {
   "cell_type": "markdown",
   "metadata": {},
   "source": [
    "Linhas e colunas "
   ]
  },
  {
   "cell_type": "code",
   "execution_count": 255,
   "metadata": {
    "ExecuteTime": {
     "end_time": "2019-11-09T23:01:52.809146Z",
     "start_time": "2019-11-09T23:01:52.803582Z"
    }
   },
   "outputs": [
    {
     "data": {
      "text/plain": [
       "(595212, 59)"
      ]
     },
     "execution_count": 255,
     "metadata": {},
     "output_type": "execute_result"
    }
   ],
   "source": [
    "trainPortoSeguro.shape"
   ]
  },
  {
   "cell_type": "code",
   "execution_count": 257,
   "metadata": {
    "ExecuteTime": {
     "end_time": "2019-11-09T23:02:21.659588Z",
     "start_time": "2019-11-09T23:02:20.565010Z"
    }
   },
   "outputs": [
    {
     "data": {
      "text/plain": [
       "(595212, 59)"
      ]
     },
     "execution_count": 257,
     "metadata": {},
     "output_type": "execute_result"
    }
   ],
   "source": [
    "trainPortoSeguro.drop_duplicates() # tem algum problema aqui senhores?\n",
    "trainPortoSeguro.shape"
   ]
  },
  {
   "cell_type": "code",
   "execution_count": 259,
   "metadata": {
    "ExecuteTime": {
     "end_time": "2019-11-09T23:02:58.171493Z",
     "start_time": "2019-11-09T23:02:58.166414Z"
    }
   },
   "outputs": [
    {
     "data": {
      "text/plain": [
       "(892816, 58)"
      ]
     },
     "execution_count": 259,
     "metadata": {},
     "output_type": "execute_result"
    }
   ],
   "source": [
    "testPortoSeguro.shape # pq tem 1 a menos?"
   ]
  },
  {
   "cell_type": "code",
   "execution_count": 261,
   "metadata": {
    "ExecuteTime": {
     "end_time": "2019-11-09T23:03:47.256998Z",
     "start_time": "2019-11-09T23:03:46.782148Z"
    }
   },
   "outputs": [
    {
     "name": "stdout",
     "output_type": "stream",
     "text": [
      "<class 'pandas.core.frame.DataFrame'>\n",
      "RangeIndex: 595212 entries, 0 to 595211\n",
      "Data columns (total 59 columns):\n",
      "id                595212 non-null int64\n",
      "target            595212 non-null int64\n",
      "ps_ind_01         595212 non-null int64\n",
      "ps_ind_02_cat     595212 non-null int64\n",
      "ps_ind_03         595212 non-null int64\n",
      "ps_ind_04_cat     595212 non-null int64\n",
      "ps_ind_05_cat     595212 non-null int64\n",
      "ps_ind_06_bin     595212 non-null int64\n",
      "ps_ind_07_bin     595212 non-null int64\n",
      "ps_ind_08_bin     595212 non-null int64\n",
      "ps_ind_09_bin     595212 non-null int64\n",
      "ps_ind_10_bin     595212 non-null int64\n",
      "ps_ind_11_bin     595212 non-null int64\n",
      "ps_ind_12_bin     595212 non-null int64\n",
      "ps_ind_13_bin     595212 non-null int64\n",
      "ps_ind_14         595212 non-null int64\n",
      "ps_ind_15         595212 non-null int64\n",
      "ps_ind_16_bin     595212 non-null int64\n",
      "ps_ind_17_bin     595212 non-null int64\n",
      "ps_ind_18_bin     595212 non-null int64\n",
      "ps_reg_01         595212 non-null float64\n",
      "ps_reg_02         595212 non-null float64\n",
      "ps_reg_03         595212 non-null float64\n",
      "ps_car_01_cat     595212 non-null int64\n",
      "ps_car_02_cat     595212 non-null int64\n",
      "ps_car_03_cat     595212 non-null int64\n",
      "ps_car_04_cat     595212 non-null int64\n",
      "ps_car_05_cat     595212 non-null int64\n",
      "ps_car_06_cat     595212 non-null int64\n",
      "ps_car_07_cat     595212 non-null int64\n",
      "ps_car_08_cat     595212 non-null int64\n",
      "ps_car_09_cat     595212 non-null int64\n",
      "ps_car_10_cat     595212 non-null int64\n",
      "ps_car_11_cat     595212 non-null int64\n",
      "ps_car_11         595212 non-null int64\n",
      "ps_car_12         595212 non-null float64\n",
      "ps_car_13         595212 non-null float64\n",
      "ps_car_14         595212 non-null float64\n",
      "ps_car_15         595212 non-null float64\n",
      "ps_calc_01        595212 non-null float64\n",
      "ps_calc_02        595212 non-null float64\n",
      "ps_calc_03        595212 non-null float64\n",
      "ps_calc_04        595212 non-null int64\n",
      "ps_calc_05        595212 non-null int64\n",
      "ps_calc_06        595212 non-null int64\n",
      "ps_calc_07        595212 non-null int64\n",
      "ps_calc_08        595212 non-null int64\n",
      "ps_calc_09        595212 non-null int64\n",
      "ps_calc_10        595212 non-null int64\n",
      "ps_calc_11        595212 non-null int64\n",
      "ps_calc_12        595212 non-null int64\n",
      "ps_calc_13        595212 non-null int64\n",
      "ps_calc_14        595212 non-null int64\n",
      "ps_calc_15_bin    595212 non-null int64\n",
      "ps_calc_16_bin    595212 non-null int64\n",
      "ps_calc_17_bin    595212 non-null int64\n",
      "ps_calc_18_bin    595212 non-null int64\n",
      "ps_calc_19_bin    595212 non-null int64\n",
      "ps_calc_20_bin    595212 non-null int64\n",
      "dtypes: float64(10), int64(49)\n",
      "memory usage: 267.9 MB\n"
     ]
    }
   ],
   "source": [
    "trainPortoSeguro.info() #olha não tem nullos! .... pera!"
   ]
  },
  {
   "cell_type": "markdown",
   "metadata": {},
   "source": [
    "o método *info* mostra None ou Na, nesse problema missing foi representado pelo valor $-1$"
   ]
  },
  {
   "cell_type": "markdown",
   "metadata": {},
   "source": [
    "# Gerando metadados..."
   ]
  },
  {
   "cell_type": "markdown",
   "metadata": {},
   "source": [
    "Para facilitar o nosso EDA vamos criar metadados desse conjunto. Cada tipo de análise é apropriada para um tipo de dado.\n",
    "\n",
    "Mapeamento:\n",
    "- **role**: input, ID, target\n",
    "- **level**: nominal, interval, ordinal, binary\n",
    "- **keep**: True or False\n",
    "- **dtype**: int, float, str"
   ]
  },
  {
   "cell_type": "code",
   "execution_count": 264,
   "metadata": {
    "ExecuteTime": {
     "end_time": "2019-11-09T23:10:21.860428Z",
     "start_time": "2019-11-09T23:10:21.843050Z"
    }
   },
   "outputs": [
    {
     "name": "stdout",
     "output_type": "stream",
     "text": [
      "                  role     level   keep    dtype\n",
      "varname                                         \n",
      "id                  id   nominal  False    int64\n",
      "target          target    binary   True    int64\n",
      "ps_ind_01        input   ordinal   True    int64\n",
      "ps_ind_02_cat    input   nominal   True    int64\n",
      "ps_ind_03        input   ordinal   True    int64\n",
      "ps_ind_04_cat    input   nominal   True    int64\n",
      "ps_ind_05_cat    input   nominal   True    int64\n",
      "ps_ind_06_bin    input    binary   True    int64\n",
      "ps_ind_07_bin    input    binary   True    int64\n",
      "ps_ind_08_bin    input    binary   True    int64\n",
      "ps_ind_09_bin    input    binary   True    int64\n",
      "ps_ind_10_bin    input    binary   True    int64\n",
      "ps_ind_11_bin    input    binary   True    int64\n",
      "ps_ind_12_bin    input    binary   True    int64\n",
      "ps_ind_13_bin    input    binary   True    int64\n",
      "ps_ind_14        input   ordinal   True    int64\n",
      "ps_ind_15        input   ordinal   True    int64\n",
      "ps_ind_16_bin    input    binary   True    int64\n",
      "ps_ind_17_bin    input    binary   True    int64\n",
      "ps_ind_18_bin    input    binary   True    int64\n",
      "ps_reg_01        input  interval   True  float64\n",
      "ps_reg_02        input  interval   True  float64\n",
      "ps_reg_03        input  interval   True  float64\n",
      "ps_car_01_cat    input   nominal   True    int64\n",
      "ps_car_02_cat    input   nominal   True    int64\n",
      "ps_car_03_cat    input   nominal   True    int64\n",
      "ps_car_04_cat    input   nominal   True    int64\n",
      "ps_car_05_cat    input   nominal   True    int64\n",
      "ps_car_06_cat    input   nominal   True    int64\n",
      "ps_car_07_cat    input   nominal   True    int64\n",
      "ps_car_08_cat    input   nominal   True    int64\n",
      "ps_car_09_cat    input   nominal   True    int64\n",
      "ps_car_10_cat    input   nominal   True    int64\n",
      "ps_car_11_cat    input   nominal   True    int64\n",
      "ps_car_11        input   ordinal   True    int64\n",
      "ps_car_12        input  interval   True  float64\n",
      "ps_car_13        input  interval   True  float64\n",
      "ps_car_14        input  interval   True  float64\n",
      "ps_car_15        input  interval   True  float64\n",
      "ps_calc_01       input  interval   True  float64\n",
      "ps_calc_02       input  interval   True  float64\n",
      "ps_calc_03       input  interval   True  float64\n",
      "ps_calc_04       input   ordinal   True    int64\n",
      "ps_calc_05       input   ordinal   True    int64\n",
      "ps_calc_06       input   ordinal   True    int64\n",
      "ps_calc_07       input   ordinal   True    int64\n",
      "ps_calc_08       input   ordinal   True    int64\n",
      "ps_calc_09       input   ordinal   True    int64\n",
      "ps_calc_10       input   ordinal   True    int64\n",
      "ps_calc_11       input   ordinal   True    int64\n",
      "ps_calc_12       input   ordinal   True    int64\n",
      "ps_calc_13       input   ordinal   True    int64\n",
      "ps_calc_14       input   ordinal   True    int64\n",
      "ps_calc_15_bin   input    binary   True    int64\n",
      "ps_calc_16_bin   input    binary   True    int64\n",
      "ps_calc_17_bin   input    binary   True    int64\n",
      "ps_calc_18_bin   input    binary   True    int64\n",
      "ps_calc_19_bin   input    binary   True    int64\n",
      "ps_calc_20_bin   input    binary   True    int64\n"
     ]
    }
   ],
   "source": [
    "data = []\n",
    "for f in trainPortoSeguro.columns:\n",
    "    # Defining the role\n",
    "    if f == 'target':\n",
    "        role = 'target'\n",
    "    elif f == 'id':\n",
    "        role = 'id'\n",
    "    else:\n",
    "        role = 'input'\n",
    "         \n",
    "    # Defining the level\n",
    "    if 'bin' in f or f == 'target':\n",
    "        level = 'binary'\n",
    "    elif 'cat' in f or f == 'id':\n",
    "        level = 'nominal'\n",
    "    elif trainPortoSeguro[f].dtype == float:\n",
    "        level = 'interval'\n",
    "    elif trainPortoSeguro[f].dtype == int:\n",
    "        level = 'ordinal'\n",
    "        \n",
    "    # Initialize keep to True for all variables except for id\n",
    "    keep = True\n",
    "    if f == 'id':\n",
    "        keep = False\n",
    "    \n",
    "    # Defining the data type \n",
    "    dtype = trainPortoSeguro[f].dtype\n",
    "    \n",
    "    # Creating a Dict that contains all the metadata for the variable\n",
    "    f_dict = {\n",
    "        'varname': f,\n",
    "        'role': role,\n",
    "        'level': level,\n",
    "        'keep': keep,\n",
    "        'dtype': dtype\n",
    "    }\n",
    "    data.append(f_dict)\n",
    "    \n",
    "meta = pd.DataFrame(data, columns=['varname', 'role', 'level', 'keep', 'dtype'])\n",
    "meta.set_index('varname', inplace=True)\n",
    "print(meta)"
   ]
  },
  {
   "cell_type": "markdown",
   "metadata": {},
   "source": [
    "Como selecionar todas as variáveis nominais?"
   ]
  },
  {
   "cell_type": "code",
   "execution_count": 265,
   "metadata": {
    "ExecuteTime": {
     "end_time": "2019-11-09T23:14:32.313709Z",
     "start_time": "2019-11-09T23:14:32.288546Z"
    }
   },
   "outputs": [
    {
     "data": {
      "text/plain": [
       "Index(['ps_ind_02_cat', 'ps_ind_04_cat', 'ps_ind_05_cat', 'ps_car_01_cat',\n",
       "       'ps_car_02_cat', 'ps_car_03_cat', 'ps_car_04_cat', 'ps_car_05_cat',\n",
       "       'ps_car_06_cat', 'ps_car_07_cat', 'ps_car_08_cat', 'ps_car_09_cat',\n",
       "       'ps_car_10_cat', 'ps_car_11_cat'],\n",
       "      dtype='object', name='varname')"
      ]
     },
     "execution_count": 265,
     "metadata": {},
     "output_type": "execute_result"
    }
   ],
   "source": [
    "meta[(meta.level == 'nominal') & (meta.keep)].index"
   ]
  },
  {
   "cell_type": "markdown",
   "metadata": {},
   "source": [
    "Número de variáveis por tipo e por papel no nosso problema"
   ]
  },
  {
   "cell_type": "markdown",
   "metadata": {},
   "source": [
    "# O que seria: *papel* ? por que a palavras papel está escrita estranha?"
   ]
  },
  {
   "cell_type": "code",
   "execution_count": 266,
   "metadata": {
    "ExecuteTime": {
     "end_time": "2019-11-09T23:15:00.707333Z",
     "start_time": "2019-11-09T23:15:00.680276Z"
    }
   },
   "outputs": [
    {
     "data": {
      "text/html": [
       "<div>\n",
       "<style scoped>\n",
       "    .dataframe tbody tr th:only-of-type {\n",
       "        vertical-align: middle;\n",
       "    }\n",
       "\n",
       "    .dataframe tbody tr th {\n",
       "        vertical-align: top;\n",
       "    }\n",
       "\n",
       "    .dataframe thead th {\n",
       "        text-align: right;\n",
       "    }\n",
       "</style>\n",
       "<table border=\"1\" class=\"dataframe\">\n",
       "  <thead>\n",
       "    <tr style=\"text-align: right;\">\n",
       "      <th></th>\n",
       "      <th>role</th>\n",
       "      <th>level</th>\n",
       "      <th>count</th>\n",
       "    </tr>\n",
       "  </thead>\n",
       "  <tbody>\n",
       "    <tr>\n",
       "      <th>0</th>\n",
       "      <td>id</td>\n",
       "      <td>nominal</td>\n",
       "      <td>1</td>\n",
       "    </tr>\n",
       "    <tr>\n",
       "      <th>1</th>\n",
       "      <td>input</td>\n",
       "      <td>binary</td>\n",
       "      <td>17</td>\n",
       "    </tr>\n",
       "    <tr>\n",
       "      <th>2</th>\n",
       "      <td>input</td>\n",
       "      <td>interval</td>\n",
       "      <td>10</td>\n",
       "    </tr>\n",
       "    <tr>\n",
       "      <th>3</th>\n",
       "      <td>input</td>\n",
       "      <td>nominal</td>\n",
       "      <td>14</td>\n",
       "    </tr>\n",
       "    <tr>\n",
       "      <th>4</th>\n",
       "      <td>input</td>\n",
       "      <td>ordinal</td>\n",
       "      <td>16</td>\n",
       "    </tr>\n",
       "    <tr>\n",
       "      <th>5</th>\n",
       "      <td>target</td>\n",
       "      <td>binary</td>\n",
       "      <td>1</td>\n",
       "    </tr>\n",
       "  </tbody>\n",
       "</table>\n",
       "</div>"
      ],
      "text/plain": [
       "     role     level  count\n",
       "0      id   nominal      1\n",
       "1   input    binary     17\n",
       "2   input  interval     10\n",
       "3   input   nominal     14\n",
       "4   input   ordinal     16\n",
       "5  target    binary      1"
      ]
     },
     "execution_count": 266,
     "metadata": {},
     "output_type": "execute_result"
    }
   ],
   "source": [
    "pd.DataFrame({'count' : meta.groupby(['role', 'level'])['role'].size()}).reset_index()"
   ]
  },
  {
   "cell_type": "markdown",
   "metadata": {},
   "source": [
    "# Estatística descritiva"
   ]
  },
  {
   "cell_type": "markdown",
   "metadata": {},
   "source": [
    "Poderíamos usar o método *describe* sobre o dataset. Infelizmente não faz sentido aplicar desvio padrão sobre variáveis não numéricas... Vamos analisar as variáveis categóricas depois. Usando os metadados podemos facilmente selecionar as variáveis por tipo :)\n"
   ]
  },
  {
   "cell_type": "markdown",
   "metadata": {},
   "source": [
    "### Intervalos"
   ]
  },
  {
   "cell_type": "code",
   "execution_count": 268,
   "metadata": {
    "ExecuteTime": {
     "end_time": "2019-11-09T23:23:29.252944Z",
     "start_time": "2019-11-09T23:23:28.755309Z"
    }
   },
   "outputs": [
    {
     "data": {
      "text/html": [
       "<div>\n",
       "<style scoped>\n",
       "    .dataframe tbody tr th:only-of-type {\n",
       "        vertical-align: middle;\n",
       "    }\n",
       "\n",
       "    .dataframe tbody tr th {\n",
       "        vertical-align: top;\n",
       "    }\n",
       "\n",
       "    .dataframe thead th {\n",
       "        text-align: right;\n",
       "    }\n",
       "</style>\n",
       "<table border=\"1\" class=\"dataframe\">\n",
       "  <thead>\n",
       "    <tr style=\"text-align: right;\">\n",
       "      <th></th>\n",
       "      <th>ps_reg_01</th>\n",
       "      <th>ps_reg_02</th>\n",
       "      <th>ps_reg_03</th>\n",
       "      <th>ps_car_12</th>\n",
       "      <th>ps_car_13</th>\n",
       "      <th>ps_car_14</th>\n",
       "      <th>ps_car_15</th>\n",
       "      <th>ps_calc_01</th>\n",
       "      <th>ps_calc_02</th>\n",
       "      <th>ps_calc_03</th>\n",
       "    </tr>\n",
       "  </thead>\n",
       "  <tbody>\n",
       "    <tr>\n",
       "      <th>count</th>\n",
       "      <td>595212.000000</td>\n",
       "      <td>595212.000000</td>\n",
       "      <td>595212.000000</td>\n",
       "      <td>595212.000000</td>\n",
       "      <td>595212.000000</td>\n",
       "      <td>595212.000000</td>\n",
       "      <td>595212.000000</td>\n",
       "      <td>595212.000000</td>\n",
       "      <td>595212.000000</td>\n",
       "      <td>595212.000000</td>\n",
       "    </tr>\n",
       "    <tr>\n",
       "      <th>mean</th>\n",
       "      <td>0.610991</td>\n",
       "      <td>0.439184</td>\n",
       "      <td>0.551102</td>\n",
       "      <td>0.379945</td>\n",
       "      <td>0.813265</td>\n",
       "      <td>0.276256</td>\n",
       "      <td>3.065899</td>\n",
       "      <td>0.449756</td>\n",
       "      <td>0.449589</td>\n",
       "      <td>0.449849</td>\n",
       "    </tr>\n",
       "    <tr>\n",
       "      <th>std</th>\n",
       "      <td>0.287643</td>\n",
       "      <td>0.404264</td>\n",
       "      <td>0.793506</td>\n",
       "      <td>0.058327</td>\n",
       "      <td>0.224588</td>\n",
       "      <td>0.357154</td>\n",
       "      <td>0.731366</td>\n",
       "      <td>0.287198</td>\n",
       "      <td>0.286893</td>\n",
       "      <td>0.287153</td>\n",
       "    </tr>\n",
       "    <tr>\n",
       "      <th>min</th>\n",
       "      <td>0.000000</td>\n",
       "      <td>0.000000</td>\n",
       "      <td>-1.000000</td>\n",
       "      <td>-1.000000</td>\n",
       "      <td>0.250619</td>\n",
       "      <td>-1.000000</td>\n",
       "      <td>0.000000</td>\n",
       "      <td>0.000000</td>\n",
       "      <td>0.000000</td>\n",
       "      <td>0.000000</td>\n",
       "    </tr>\n",
       "    <tr>\n",
       "      <th>25%</th>\n",
       "      <td>0.400000</td>\n",
       "      <td>0.200000</td>\n",
       "      <td>0.525000</td>\n",
       "      <td>0.316228</td>\n",
       "      <td>0.670867</td>\n",
       "      <td>0.333167</td>\n",
       "      <td>2.828427</td>\n",
       "      <td>0.200000</td>\n",
       "      <td>0.200000</td>\n",
       "      <td>0.200000</td>\n",
       "    </tr>\n",
       "    <tr>\n",
       "      <th>50%</th>\n",
       "      <td>0.700000</td>\n",
       "      <td>0.300000</td>\n",
       "      <td>0.720677</td>\n",
       "      <td>0.374166</td>\n",
       "      <td>0.765811</td>\n",
       "      <td>0.368782</td>\n",
       "      <td>3.316625</td>\n",
       "      <td>0.500000</td>\n",
       "      <td>0.400000</td>\n",
       "      <td>0.500000</td>\n",
       "    </tr>\n",
       "    <tr>\n",
       "      <th>75%</th>\n",
       "      <td>0.900000</td>\n",
       "      <td>0.600000</td>\n",
       "      <td>1.000000</td>\n",
       "      <td>0.400000</td>\n",
       "      <td>0.906190</td>\n",
       "      <td>0.396485</td>\n",
       "      <td>3.605551</td>\n",
       "      <td>0.700000</td>\n",
       "      <td>0.700000</td>\n",
       "      <td>0.700000</td>\n",
       "    </tr>\n",
       "    <tr>\n",
       "      <th>max</th>\n",
       "      <td>0.900000</td>\n",
       "      <td>1.800000</td>\n",
       "      <td>4.037945</td>\n",
       "      <td>1.264911</td>\n",
       "      <td>3.720626</td>\n",
       "      <td>0.636396</td>\n",
       "      <td>3.741657</td>\n",
       "      <td>0.900000</td>\n",
       "      <td>0.900000</td>\n",
       "      <td>0.900000</td>\n",
       "    </tr>\n",
       "  </tbody>\n",
       "</table>\n",
       "</div>"
      ],
      "text/plain": [
       "           ps_reg_01      ps_reg_02      ps_reg_03      ps_car_12  \\\n",
       "count  595212.000000  595212.000000  595212.000000  595212.000000   \n",
       "mean        0.610991       0.439184       0.551102       0.379945   \n",
       "std         0.287643       0.404264       0.793506       0.058327   \n",
       "min         0.000000       0.000000      -1.000000      -1.000000   \n",
       "25%         0.400000       0.200000       0.525000       0.316228   \n",
       "50%         0.700000       0.300000       0.720677       0.374166   \n",
       "75%         0.900000       0.600000       1.000000       0.400000   \n",
       "max         0.900000       1.800000       4.037945       1.264911   \n",
       "\n",
       "           ps_car_13      ps_car_14      ps_car_15     ps_calc_01  \\\n",
       "count  595212.000000  595212.000000  595212.000000  595212.000000   \n",
       "mean        0.813265       0.276256       3.065899       0.449756   \n",
       "std         0.224588       0.357154       0.731366       0.287198   \n",
       "min         0.250619      -1.000000       0.000000       0.000000   \n",
       "25%         0.670867       0.333167       2.828427       0.200000   \n",
       "50%         0.765811       0.368782       3.316625       0.500000   \n",
       "75%         0.906190       0.396485       3.605551       0.700000   \n",
       "max         3.720626       0.636396       3.741657       0.900000   \n",
       "\n",
       "          ps_calc_02     ps_calc_03  \n",
       "count  595212.000000  595212.000000  \n",
       "mean        0.449589       0.449849  \n",
       "std         0.286893       0.287153  \n",
       "min         0.000000       0.000000  \n",
       "25%         0.200000       0.200000  \n",
       "50%         0.400000       0.500000  \n",
       "75%         0.700000       0.700000  \n",
       "max         0.900000       0.900000  "
      ]
     },
     "execution_count": 268,
     "metadata": {},
     "output_type": "execute_result"
    }
   ],
   "source": [
    "v = meta[(meta.level == 'interval') & (meta.keep)].index\n",
    "trainPortoSeguro[v].describe()"
   ]
  },
  {
   "cell_type": "markdown",
   "metadata": {},
   "source": [
    "#### reg \n",
    "- only ps_reg_03 tem null\n",
    "- o range (min e max) difere, possívelmente podemos escalar\n",
    "\n",
    "#### car \n",
    "- ps_car_12 and ps_car_15 tem null\n",
    "- o range (min e max) difere, possívelmente podemos escalar\n",
    "\n",
    "#### calc \n",
    "- Sem null\n",
    "- parece um ratio onde o máximo é 0.9\n",
    "- essas variáveis *_calc* tem distribuição similar  \n",
    "\n",
    "**Overall**, o range é pequeno talvez uma transformação log tenha sido aplicada nos dados"
   ]
  },
  {
   "cell_type": "markdown",
   "metadata": {},
   "source": [
    "### Variáveis ordinais"
   ]
  },
  {
   "cell_type": "code",
   "execution_count": 270,
   "metadata": {
    "ExecuteTime": {
     "end_time": "2019-11-09T23:26:58.033607Z",
     "start_time": "2019-11-09T23:26:57.228531Z"
    }
   },
   "outputs": [
    {
     "data": {
      "text/html": [
       "<div>\n",
       "<style scoped>\n",
       "    .dataframe tbody tr th:only-of-type {\n",
       "        vertical-align: middle;\n",
       "    }\n",
       "\n",
       "    .dataframe tbody tr th {\n",
       "        vertical-align: top;\n",
       "    }\n",
       "\n",
       "    .dataframe thead th {\n",
       "        text-align: right;\n",
       "    }\n",
       "</style>\n",
       "<table border=\"1\" class=\"dataframe\">\n",
       "  <thead>\n",
       "    <tr style=\"text-align: right;\">\n",
       "      <th></th>\n",
       "      <th>ps_ind_01</th>\n",
       "      <th>ps_ind_03</th>\n",
       "      <th>ps_ind_14</th>\n",
       "      <th>ps_ind_15</th>\n",
       "      <th>ps_car_11</th>\n",
       "      <th>ps_calc_04</th>\n",
       "      <th>ps_calc_05</th>\n",
       "      <th>ps_calc_06</th>\n",
       "      <th>ps_calc_07</th>\n",
       "      <th>ps_calc_08</th>\n",
       "      <th>ps_calc_09</th>\n",
       "      <th>ps_calc_10</th>\n",
       "      <th>ps_calc_11</th>\n",
       "      <th>ps_calc_12</th>\n",
       "      <th>ps_calc_13</th>\n",
       "      <th>ps_calc_14</th>\n",
       "    </tr>\n",
       "  </thead>\n",
       "  <tbody>\n",
       "    <tr>\n",
       "      <th>count</th>\n",
       "      <td>595212.000000</td>\n",
       "      <td>595212.000000</td>\n",
       "      <td>595212.000000</td>\n",
       "      <td>595212.000000</td>\n",
       "      <td>595212.000000</td>\n",
       "      <td>595212.000000</td>\n",
       "      <td>595212.000000</td>\n",
       "      <td>595212.000000</td>\n",
       "      <td>595212.000000</td>\n",
       "      <td>595212.000000</td>\n",
       "      <td>595212.000000</td>\n",
       "      <td>595212.000000</td>\n",
       "      <td>595212.000000</td>\n",
       "      <td>595212.000000</td>\n",
       "      <td>595212.000000</td>\n",
       "      <td>595212.000000</td>\n",
       "    </tr>\n",
       "    <tr>\n",
       "      <th>mean</th>\n",
       "      <td>1.900378</td>\n",
       "      <td>4.423318</td>\n",
       "      <td>0.012451</td>\n",
       "      <td>7.299922</td>\n",
       "      <td>2.346072</td>\n",
       "      <td>2.372081</td>\n",
       "      <td>1.885886</td>\n",
       "      <td>7.689445</td>\n",
       "      <td>3.005823</td>\n",
       "      <td>9.225904</td>\n",
       "      <td>2.339034</td>\n",
       "      <td>8.433590</td>\n",
       "      <td>5.441382</td>\n",
       "      <td>1.441918</td>\n",
       "      <td>2.872288</td>\n",
       "      <td>7.539026</td>\n",
       "    </tr>\n",
       "    <tr>\n",
       "      <th>std</th>\n",
       "      <td>1.983789</td>\n",
       "      <td>2.699902</td>\n",
       "      <td>0.127545</td>\n",
       "      <td>3.546042</td>\n",
       "      <td>0.832548</td>\n",
       "      <td>1.117219</td>\n",
       "      <td>1.134927</td>\n",
       "      <td>1.334312</td>\n",
       "      <td>1.414564</td>\n",
       "      <td>1.459672</td>\n",
       "      <td>1.246949</td>\n",
       "      <td>2.904597</td>\n",
       "      <td>2.332871</td>\n",
       "      <td>1.202963</td>\n",
       "      <td>1.694887</td>\n",
       "      <td>2.746652</td>\n",
       "    </tr>\n",
       "    <tr>\n",
       "      <th>min</th>\n",
       "      <td>0.000000</td>\n",
       "      <td>0.000000</td>\n",
       "      <td>0.000000</td>\n",
       "      <td>0.000000</td>\n",
       "      <td>-1.000000</td>\n",
       "      <td>0.000000</td>\n",
       "      <td>0.000000</td>\n",
       "      <td>0.000000</td>\n",
       "      <td>0.000000</td>\n",
       "      <td>2.000000</td>\n",
       "      <td>0.000000</td>\n",
       "      <td>0.000000</td>\n",
       "      <td>0.000000</td>\n",
       "      <td>0.000000</td>\n",
       "      <td>0.000000</td>\n",
       "      <td>0.000000</td>\n",
       "    </tr>\n",
       "    <tr>\n",
       "      <th>25%</th>\n",
       "      <td>0.000000</td>\n",
       "      <td>2.000000</td>\n",
       "      <td>0.000000</td>\n",
       "      <td>5.000000</td>\n",
       "      <td>2.000000</td>\n",
       "      <td>2.000000</td>\n",
       "      <td>1.000000</td>\n",
       "      <td>7.000000</td>\n",
       "      <td>2.000000</td>\n",
       "      <td>8.000000</td>\n",
       "      <td>1.000000</td>\n",
       "      <td>6.000000</td>\n",
       "      <td>4.000000</td>\n",
       "      <td>1.000000</td>\n",
       "      <td>2.000000</td>\n",
       "      <td>6.000000</td>\n",
       "    </tr>\n",
       "    <tr>\n",
       "      <th>50%</th>\n",
       "      <td>1.000000</td>\n",
       "      <td>4.000000</td>\n",
       "      <td>0.000000</td>\n",
       "      <td>7.000000</td>\n",
       "      <td>3.000000</td>\n",
       "      <td>2.000000</td>\n",
       "      <td>2.000000</td>\n",
       "      <td>8.000000</td>\n",
       "      <td>3.000000</td>\n",
       "      <td>9.000000</td>\n",
       "      <td>2.000000</td>\n",
       "      <td>8.000000</td>\n",
       "      <td>5.000000</td>\n",
       "      <td>1.000000</td>\n",
       "      <td>3.000000</td>\n",
       "      <td>7.000000</td>\n",
       "    </tr>\n",
       "    <tr>\n",
       "      <th>75%</th>\n",
       "      <td>3.000000</td>\n",
       "      <td>6.000000</td>\n",
       "      <td>0.000000</td>\n",
       "      <td>10.000000</td>\n",
       "      <td>3.000000</td>\n",
       "      <td>3.000000</td>\n",
       "      <td>3.000000</td>\n",
       "      <td>9.000000</td>\n",
       "      <td>4.000000</td>\n",
       "      <td>10.000000</td>\n",
       "      <td>3.000000</td>\n",
       "      <td>10.000000</td>\n",
       "      <td>7.000000</td>\n",
       "      <td>2.000000</td>\n",
       "      <td>4.000000</td>\n",
       "      <td>9.000000</td>\n",
       "    </tr>\n",
       "    <tr>\n",
       "      <th>max</th>\n",
       "      <td>7.000000</td>\n",
       "      <td>11.000000</td>\n",
       "      <td>4.000000</td>\n",
       "      <td>13.000000</td>\n",
       "      <td>3.000000</td>\n",
       "      <td>5.000000</td>\n",
       "      <td>6.000000</td>\n",
       "      <td>10.000000</td>\n",
       "      <td>9.000000</td>\n",
       "      <td>12.000000</td>\n",
       "      <td>7.000000</td>\n",
       "      <td>25.000000</td>\n",
       "      <td>19.000000</td>\n",
       "      <td>10.000000</td>\n",
       "      <td>13.000000</td>\n",
       "      <td>23.000000</td>\n",
       "    </tr>\n",
       "  </tbody>\n",
       "</table>\n",
       "</div>"
      ],
      "text/plain": [
       "           ps_ind_01      ps_ind_03      ps_ind_14      ps_ind_15  \\\n",
       "count  595212.000000  595212.000000  595212.000000  595212.000000   \n",
       "mean        1.900378       4.423318       0.012451       7.299922   \n",
       "std         1.983789       2.699902       0.127545       3.546042   \n",
       "min         0.000000       0.000000       0.000000       0.000000   \n",
       "25%         0.000000       2.000000       0.000000       5.000000   \n",
       "50%         1.000000       4.000000       0.000000       7.000000   \n",
       "75%         3.000000       6.000000       0.000000      10.000000   \n",
       "max         7.000000      11.000000       4.000000      13.000000   \n",
       "\n",
       "           ps_car_11     ps_calc_04     ps_calc_05     ps_calc_06  \\\n",
       "count  595212.000000  595212.000000  595212.000000  595212.000000   \n",
       "mean        2.346072       2.372081       1.885886       7.689445   \n",
       "std         0.832548       1.117219       1.134927       1.334312   \n",
       "min        -1.000000       0.000000       0.000000       0.000000   \n",
       "25%         2.000000       2.000000       1.000000       7.000000   \n",
       "50%         3.000000       2.000000       2.000000       8.000000   \n",
       "75%         3.000000       3.000000       3.000000       9.000000   \n",
       "max         3.000000       5.000000       6.000000      10.000000   \n",
       "\n",
       "          ps_calc_07     ps_calc_08     ps_calc_09     ps_calc_10  \\\n",
       "count  595212.000000  595212.000000  595212.000000  595212.000000   \n",
       "mean        3.005823       9.225904       2.339034       8.433590   \n",
       "std         1.414564       1.459672       1.246949       2.904597   \n",
       "min         0.000000       2.000000       0.000000       0.000000   \n",
       "25%         2.000000       8.000000       1.000000       6.000000   \n",
       "50%         3.000000       9.000000       2.000000       8.000000   \n",
       "75%         4.000000      10.000000       3.000000      10.000000   \n",
       "max         9.000000      12.000000       7.000000      25.000000   \n",
       "\n",
       "          ps_calc_11     ps_calc_12     ps_calc_13     ps_calc_14  \n",
       "count  595212.000000  595212.000000  595212.000000  595212.000000  \n",
       "mean        5.441382       1.441918       2.872288       7.539026  \n",
       "std         2.332871       1.202963       1.694887       2.746652  \n",
       "min         0.000000       0.000000       0.000000       0.000000  \n",
       "25%         4.000000       1.000000       2.000000       6.000000  \n",
       "50%         5.000000       1.000000       3.000000       7.000000  \n",
       "75%         7.000000       2.000000       4.000000       9.000000  \n",
       "max        19.000000      10.000000      13.000000      23.000000  "
      ]
     },
     "execution_count": 270,
     "metadata": {},
     "output_type": "execute_result"
    }
   ],
   "source": [
    "v = meta[(meta.level == 'ordinal') & (meta.keep)].index\n",
    "trainPortoSeguro[v].describe()"
   ]
  },
  {
   "cell_type": "markdown",
   "metadata": {},
   "source": [
    "- uma variável com null: ps_car_11\n",
    "- podemos escalar para lidar com os ranges distintos"
   ]
  },
  {
   "cell_type": "markdown",
   "metadata": {},
   "source": [
    "# Binary variables"
   ]
  },
  {
   "cell_type": "code",
   "execution_count": 271,
   "metadata": {
    "ExecuteTime": {
     "end_time": "2019-11-09T23:33:44.939367Z",
     "start_time": "2019-11-09T23:33:43.932619Z"
    }
   },
   "outputs": [
    {
     "data": {
      "text/html": [
       "<div>\n",
       "<style scoped>\n",
       "    .dataframe tbody tr th:only-of-type {\n",
       "        vertical-align: middle;\n",
       "    }\n",
       "\n",
       "    .dataframe tbody tr th {\n",
       "        vertical-align: top;\n",
       "    }\n",
       "\n",
       "    .dataframe thead th {\n",
       "        text-align: right;\n",
       "    }\n",
       "</style>\n",
       "<table border=\"1\" class=\"dataframe\">\n",
       "  <thead>\n",
       "    <tr style=\"text-align: right;\">\n",
       "      <th></th>\n",
       "      <th>target</th>\n",
       "      <th>ps_ind_06_bin</th>\n",
       "      <th>ps_ind_07_bin</th>\n",
       "      <th>ps_ind_08_bin</th>\n",
       "      <th>ps_ind_09_bin</th>\n",
       "      <th>ps_ind_10_bin</th>\n",
       "      <th>ps_ind_11_bin</th>\n",
       "      <th>ps_ind_12_bin</th>\n",
       "      <th>ps_ind_13_bin</th>\n",
       "      <th>ps_ind_16_bin</th>\n",
       "      <th>ps_ind_17_bin</th>\n",
       "      <th>ps_ind_18_bin</th>\n",
       "      <th>ps_calc_15_bin</th>\n",
       "      <th>ps_calc_16_bin</th>\n",
       "      <th>ps_calc_17_bin</th>\n",
       "      <th>ps_calc_18_bin</th>\n",
       "      <th>ps_calc_19_bin</th>\n",
       "      <th>ps_calc_20_bin</th>\n",
       "    </tr>\n",
       "  </thead>\n",
       "  <tbody>\n",
       "    <tr>\n",
       "      <th>count</th>\n",
       "      <td>595212.000000</td>\n",
       "      <td>595212.000000</td>\n",
       "      <td>595212.000000</td>\n",
       "      <td>595212.000000</td>\n",
       "      <td>595212.000000</td>\n",
       "      <td>595212.000000</td>\n",
       "      <td>595212.000000</td>\n",
       "      <td>595212.000000</td>\n",
       "      <td>595212.000000</td>\n",
       "      <td>595212.000000</td>\n",
       "      <td>595212.000000</td>\n",
       "      <td>595212.000000</td>\n",
       "      <td>595212.000000</td>\n",
       "      <td>595212.000000</td>\n",
       "      <td>595212.000000</td>\n",
       "      <td>595212.000000</td>\n",
       "      <td>595212.000000</td>\n",
       "      <td>595212.000000</td>\n",
       "    </tr>\n",
       "    <tr>\n",
       "      <th>mean</th>\n",
       "      <td>0.036448</td>\n",
       "      <td>0.393742</td>\n",
       "      <td>0.257033</td>\n",
       "      <td>0.163921</td>\n",
       "      <td>0.185304</td>\n",
       "      <td>0.000373</td>\n",
       "      <td>0.001692</td>\n",
       "      <td>0.009439</td>\n",
       "      <td>0.000948</td>\n",
       "      <td>0.660823</td>\n",
       "      <td>0.121081</td>\n",
       "      <td>0.153446</td>\n",
       "      <td>0.122427</td>\n",
       "      <td>0.627840</td>\n",
       "      <td>0.554182</td>\n",
       "      <td>0.287182</td>\n",
       "      <td>0.349024</td>\n",
       "      <td>0.153318</td>\n",
       "    </tr>\n",
       "    <tr>\n",
       "      <th>std</th>\n",
       "      <td>0.187401</td>\n",
       "      <td>0.488579</td>\n",
       "      <td>0.436998</td>\n",
       "      <td>0.370205</td>\n",
       "      <td>0.388544</td>\n",
       "      <td>0.019309</td>\n",
       "      <td>0.041097</td>\n",
       "      <td>0.096693</td>\n",
       "      <td>0.030768</td>\n",
       "      <td>0.473430</td>\n",
       "      <td>0.326222</td>\n",
       "      <td>0.360417</td>\n",
       "      <td>0.327779</td>\n",
       "      <td>0.483381</td>\n",
       "      <td>0.497056</td>\n",
       "      <td>0.452447</td>\n",
       "      <td>0.476662</td>\n",
       "      <td>0.360295</td>\n",
       "    </tr>\n",
       "    <tr>\n",
       "      <th>min</th>\n",
       "      <td>0.000000</td>\n",
       "      <td>0.000000</td>\n",
       "      <td>0.000000</td>\n",
       "      <td>0.000000</td>\n",
       "      <td>0.000000</td>\n",
       "      <td>0.000000</td>\n",
       "      <td>0.000000</td>\n",
       "      <td>0.000000</td>\n",
       "      <td>0.000000</td>\n",
       "      <td>0.000000</td>\n",
       "      <td>0.000000</td>\n",
       "      <td>0.000000</td>\n",
       "      <td>0.000000</td>\n",
       "      <td>0.000000</td>\n",
       "      <td>0.000000</td>\n",
       "      <td>0.000000</td>\n",
       "      <td>0.000000</td>\n",
       "      <td>0.000000</td>\n",
       "    </tr>\n",
       "    <tr>\n",
       "      <th>25%</th>\n",
       "      <td>0.000000</td>\n",
       "      <td>0.000000</td>\n",
       "      <td>0.000000</td>\n",
       "      <td>0.000000</td>\n",
       "      <td>0.000000</td>\n",
       "      <td>0.000000</td>\n",
       "      <td>0.000000</td>\n",
       "      <td>0.000000</td>\n",
       "      <td>0.000000</td>\n",
       "      <td>0.000000</td>\n",
       "      <td>0.000000</td>\n",
       "      <td>0.000000</td>\n",
       "      <td>0.000000</td>\n",
       "      <td>0.000000</td>\n",
       "      <td>0.000000</td>\n",
       "      <td>0.000000</td>\n",
       "      <td>0.000000</td>\n",
       "      <td>0.000000</td>\n",
       "    </tr>\n",
       "    <tr>\n",
       "      <th>50%</th>\n",
       "      <td>0.000000</td>\n",
       "      <td>0.000000</td>\n",
       "      <td>0.000000</td>\n",
       "      <td>0.000000</td>\n",
       "      <td>0.000000</td>\n",
       "      <td>0.000000</td>\n",
       "      <td>0.000000</td>\n",
       "      <td>0.000000</td>\n",
       "      <td>0.000000</td>\n",
       "      <td>1.000000</td>\n",
       "      <td>0.000000</td>\n",
       "      <td>0.000000</td>\n",
       "      <td>0.000000</td>\n",
       "      <td>1.000000</td>\n",
       "      <td>1.000000</td>\n",
       "      <td>0.000000</td>\n",
       "      <td>0.000000</td>\n",
       "      <td>0.000000</td>\n",
       "    </tr>\n",
       "    <tr>\n",
       "      <th>75%</th>\n",
       "      <td>0.000000</td>\n",
       "      <td>1.000000</td>\n",
       "      <td>1.000000</td>\n",
       "      <td>0.000000</td>\n",
       "      <td>0.000000</td>\n",
       "      <td>0.000000</td>\n",
       "      <td>0.000000</td>\n",
       "      <td>0.000000</td>\n",
       "      <td>0.000000</td>\n",
       "      <td>1.000000</td>\n",
       "      <td>0.000000</td>\n",
       "      <td>0.000000</td>\n",
       "      <td>0.000000</td>\n",
       "      <td>1.000000</td>\n",
       "      <td>1.000000</td>\n",
       "      <td>1.000000</td>\n",
       "      <td>1.000000</td>\n",
       "      <td>0.000000</td>\n",
       "    </tr>\n",
       "    <tr>\n",
       "      <th>max</th>\n",
       "      <td>1.000000</td>\n",
       "      <td>1.000000</td>\n",
       "      <td>1.000000</td>\n",
       "      <td>1.000000</td>\n",
       "      <td>1.000000</td>\n",
       "      <td>1.000000</td>\n",
       "      <td>1.000000</td>\n",
       "      <td>1.000000</td>\n",
       "      <td>1.000000</td>\n",
       "      <td>1.000000</td>\n",
       "      <td>1.000000</td>\n",
       "      <td>1.000000</td>\n",
       "      <td>1.000000</td>\n",
       "      <td>1.000000</td>\n",
       "      <td>1.000000</td>\n",
       "      <td>1.000000</td>\n",
       "      <td>1.000000</td>\n",
       "      <td>1.000000</td>\n",
       "    </tr>\n",
       "  </tbody>\n",
       "</table>\n",
       "</div>"
      ],
      "text/plain": [
       "              target  ps_ind_06_bin  ps_ind_07_bin  ps_ind_08_bin  \\\n",
       "count  595212.000000  595212.000000  595212.000000  595212.000000   \n",
       "mean        0.036448       0.393742       0.257033       0.163921   \n",
       "std         0.187401       0.488579       0.436998       0.370205   \n",
       "min         0.000000       0.000000       0.000000       0.000000   \n",
       "25%         0.000000       0.000000       0.000000       0.000000   \n",
       "50%         0.000000       0.000000       0.000000       0.000000   \n",
       "75%         0.000000       1.000000       1.000000       0.000000   \n",
       "max         1.000000       1.000000       1.000000       1.000000   \n",
       "\n",
       "       ps_ind_09_bin  ps_ind_10_bin  ps_ind_11_bin  ps_ind_12_bin  \\\n",
       "count  595212.000000  595212.000000  595212.000000  595212.000000   \n",
       "mean        0.185304       0.000373       0.001692       0.009439   \n",
       "std         0.388544       0.019309       0.041097       0.096693   \n",
       "min         0.000000       0.000000       0.000000       0.000000   \n",
       "25%         0.000000       0.000000       0.000000       0.000000   \n",
       "50%         0.000000       0.000000       0.000000       0.000000   \n",
       "75%         0.000000       0.000000       0.000000       0.000000   \n",
       "max         1.000000       1.000000       1.000000       1.000000   \n",
       "\n",
       "       ps_ind_13_bin  ps_ind_16_bin  ps_ind_17_bin  ps_ind_18_bin  \\\n",
       "count  595212.000000  595212.000000  595212.000000  595212.000000   \n",
       "mean        0.000948       0.660823       0.121081       0.153446   \n",
       "std         0.030768       0.473430       0.326222       0.360417   \n",
       "min         0.000000       0.000000       0.000000       0.000000   \n",
       "25%         0.000000       0.000000       0.000000       0.000000   \n",
       "50%         0.000000       1.000000       0.000000       0.000000   \n",
       "75%         0.000000       1.000000       0.000000       0.000000   \n",
       "max         1.000000       1.000000       1.000000       1.000000   \n",
       "\n",
       "       ps_calc_15_bin  ps_calc_16_bin  ps_calc_17_bin  ps_calc_18_bin  \\\n",
       "count   595212.000000   595212.000000   595212.000000   595212.000000   \n",
       "mean         0.122427        0.627840        0.554182        0.287182   \n",
       "std          0.327779        0.483381        0.497056        0.452447   \n",
       "min          0.000000        0.000000        0.000000        0.000000   \n",
       "25%          0.000000        0.000000        0.000000        0.000000   \n",
       "50%          0.000000        1.000000        1.000000        0.000000   \n",
       "75%          0.000000        1.000000        1.000000        1.000000   \n",
       "max          1.000000        1.000000        1.000000        1.000000   \n",
       "\n",
       "       ps_calc_19_bin  ps_calc_20_bin  \n",
       "count   595212.000000   595212.000000  \n",
       "mean         0.349024        0.153318  \n",
       "std          0.476662        0.360295  \n",
       "min          0.000000        0.000000  \n",
       "25%          0.000000        0.000000  \n",
       "50%          0.000000        0.000000  \n",
       "75%          1.000000        0.000000  \n",
       "max          1.000000        1.000000  "
      ]
     },
     "execution_count": 271,
     "metadata": {},
     "output_type": "execute_result"
    }
   ],
   "source": [
    "v = meta[(meta.level == 'binary') & (meta.keep)].index\n",
    "trainPortoSeguro[v].describe()"
   ]
  },
  {
   "cell_type": "markdown",
   "metadata": {},
   "source": [
    "- Target está altamente desbalanceada\n",
    "- pela média vemos que $0$ é a maioria dos dados\n"
   ]
  },
  {
   "cell_type": "markdown",
   "metadata": {},
   "source": [
    "# Como lidar com dados desbalanceados"
   ]
  },
  {
   "cell_type": "markdown",
   "metadata": {},
   "source": [
    "## Handling imbalanced classes\n",
    "Tem muito 1 e pouco 0, modelos assim tem grande acurácia mas não agregam valor na prática, duas possíveis estratégias:\n",
    "* oversampling target=1 \n",
    "* undersampling target=0\n",
    "\n",
    "Tem mais estratégias descritas aqui: [nice overview]((https://machinelearningmastery.com/tactics-to-combat-imbalanced-classes-in-your-machine-learning-dataset/). Como tem muito dado de treino vou tentar usar um **undersampling**. "
   ]
  },
  {
   "cell_type": "code",
   "execution_count": 273,
   "metadata": {
    "ExecuteTime": {
     "end_time": "2019-11-09T23:44:24.444435Z",
     "start_time": "2019-11-09T23:44:23.080346Z"
    }
   },
   "outputs": [
    {
     "name": "stdout",
     "output_type": "stream",
     "text": [
      "Rate to undersample records with target=0: 0.34043569687437886\n",
      "Number of records with target=0 after undersampling: 195246\n"
     ]
    }
   ],
   "source": [
    "desired_apriori=0.10\n",
    "\n",
    "# indice por valor\n",
    "idx_0 = trainPortoSeguro[trainPortoSeguro.target == 0].index\n",
    "idx_1 = trainPortoSeguro[trainPortoSeguro.target == 1].index\n",
    "\n",
    "# quantidade total por valor\n",
    "nb_0 = len(trainPortoSeguro.loc[idx_0])\n",
    "nb_1 = len(trainPortoSeguro.loc[idx_1])\n",
    "\n",
    "# Calculate the undersampling rate and resulting number of records with target=0\n",
    "undersampling_rate = ((1-desired_apriori)*nb_1)/(nb_0*desired_apriori)\n",
    "undersampled_nb_0 = int(undersampling_rate*nb_0)\n",
    "print('Rate to undersample records with target=0: {}'.format(undersampling_rate))\n",
    "print('Number of records with target=0 after undersampling: {}'.format(undersampled_nb_0))\n",
    "\n",
    "# Randomly select records with target=0 to get at the desired a priori\n",
    "undersampled_idx = shuffle(idx_0, random_state=37, n_samples=undersampled_nb_0)\n",
    "\n",
    "# Construct list with remaining indices\n",
    "idx_list = list(undersampled_idx) + list(idx_1)\n",
    "\n",
    "# Return undersample data frame\n",
    "trainPortoSeguro = trainPortoSeguro.loc[idx_list].reset_index(drop=True)"
   ]
  },
  {
   "cell_type": "markdown",
   "metadata": {},
   "source": [
    "### Checking missing values"
   ]
  },
  {
   "cell_type": "code",
   "execution_count": 274,
   "metadata": {
    "ExecuteTime": {
     "end_time": "2019-11-09T23:51:51.682945Z",
     "start_time": "2019-11-09T23:51:51.194302Z"
    }
   },
   "outputs": [
    {
     "name": "stdout",
     "output_type": "stream",
     "text": [
      "Variable ps_ind_02_cat has 103 records (0.05%) with missing values\n",
      "Variable ps_ind_04_cat has 51 records (0.02%) with missing values\n",
      "Variable ps_ind_05_cat has 2256 records (1.04%) with missing values\n",
      "Variable ps_reg_03 has 38580 records (17.78%) with missing values\n",
      "Variable ps_car_01_cat has 62 records (0.03%) with missing values\n",
      "Variable ps_car_02_cat has 2 records (0.00%) with missing values\n",
      "Variable ps_car_03_cat has 148367 records (68.39%) with missing values\n",
      "Variable ps_car_05_cat has 96026 records (44.26%) with missing values\n",
      "Variable ps_car_07_cat has 4431 records (2.04%) with missing values\n",
      "Variable ps_car_09_cat has 230 records (0.11%) with missing values\n",
      "Variable ps_car_11 has 1 records (0.00%) with missing values\n",
      "Variable ps_car_14 has 15726 records (7.25%) with missing values\n",
      "In total, there are 12 variables with missing values\n"
     ]
    }
   ],
   "source": [
    "vars_with_missing = []\n",
    "\n",
    "for f in train.columns:\n",
    "    missings = train[train[f] == -1][f].count()\n",
    "    if missings > 0:\n",
    "        vars_with_missing.append(f)\n",
    "        missings_perc = missings/train.shape[0]\n",
    "        \n",
    "        print('Variable {} has {} records ({:.2%}) with missing values'.format(f, missings, missings_perc))\n",
    "        \n",
    "print('In total, there are {} variables with missing values'.format(len(vars_with_missing)))"
   ]
  },
  {
   "cell_type": "code",
   "execution_count": 278,
   "metadata": {
    "ExecuteTime": {
     "end_time": "2019-11-09T23:56:20.646741Z",
     "start_time": "2019-11-09T23:56:20.298885Z"
    }
   },
   "outputs": [],
   "source": [
    "from sklearn.impute import SimpleImputer\n",
    "\n",
    "# Dropping the variables with too many missing values\n",
    "vars_to_drop = ['ps_car_03_cat', 'ps_car_05_cat']\n",
    "trainPortoSeguro.drop(vars_to_drop, inplace=True, axis=1)\n",
    "meta.loc[(vars_to_drop),'keep'] = False  # Updating the meta\n",
    "\n",
    "# Fita com a média\n",
    "imp_mean = SimpleImputer(missing_values=-1, strategy='mean')\n",
    "imp_mode = SimpleImputer(missing_values=-1, strategy='most_frequent')\n",
    "\n",
    "# mean_imp = Imputer(missing_values=-1, strategy='mean', axis=0)\n",
    "# mode_imp = Imputer(missing_values=-1, strategy='most_frequent', axis=0)\n",
    "trainPortoSeguro['ps_reg_03'] = imp_mean.fit_transform(trainPortoSeguro[['ps_reg_03']]).ravel()\n",
    "trainPortoSeguro['ps_car_12'] = imp_mean.fit_transform(trainPortoSeguro[['ps_car_12']]).ravel()\n",
    "trainPortoSeguro['ps_car_14'] = imp_mean.fit_transform(trainPortoSeguro[['ps_car_14']]).ravel()\n",
    "trainPortoSeguro['ps_car_11'] = imp_mean.fit_transform(trainPortoSeguro[['ps_car_11']]).ravel()"
   ]
  },
  {
   "cell_type": "markdown",
   "metadata": {},
   "source": [
    "# Cardinalidade das categóricas"
   ]
  },
  {
   "cell_type": "markdown",
   "metadata": {},
   "source": [
    "Cardinalidade é a quantidade de valores distintos, no futuro vamos converter elas em dummies"
   ]
  },
  {
   "cell_type": "code",
   "execution_count": 281,
   "metadata": {
    "ExecuteTime": {
     "end_time": "2019-11-10T00:07:48.265456Z",
     "start_time": "2019-11-10T00:07:48.201336Z"
    }
   },
   "outputs": [
    {
     "name": "stdout",
     "output_type": "stream",
     "text": [
      "Variable ps_ind_02_cat has 5 distinct values\n",
      "Variable ps_ind_04_cat has 3 distinct values\n",
      "Variable ps_ind_05_cat has 8 distinct values\n",
      "Variable ps_car_01_cat has 13 distinct values\n",
      "Variable ps_car_02_cat has 3 distinct values\n",
      "Variable ps_car_04_cat has 10 distinct values\n",
      "Variable ps_car_06_cat has 18 distinct values\n",
      "Variable ps_car_07_cat has 3 distinct values\n",
      "Variable ps_car_08_cat has 2 distinct values\n",
      "Variable ps_car_09_cat has 6 distinct values\n",
      "Variable ps_car_10_cat has 3 distinct values\n",
      "Variable ps_car_11_cat has 104 distinct values\n"
     ]
    }
   ],
   "source": [
    "v = meta[(meta.level == 'nominal') & (meta.keep)].index\n",
    "\n",
    "for f in v:\n",
    "    dist_values = trainPortoSeguro[f].value_counts().shape[0]\n",
    "    print('Variable {} has {} distinct values'.format(f, dist_values))"
   ]
  },
  {
   "cell_type": "markdown",
   "metadata": {},
   "source": [
    "# Visualizações"
   ]
  },
  {
   "cell_type": "code",
   "execution_count": 284,
   "metadata": {
    "ExecuteTime": {
     "end_time": "2019-11-10T00:09:52.480245Z",
     "start_time": "2019-11-10T00:09:48.852348Z"
    }
   },
   "outputs": [
    {
     "data": {
      "text/plain": [
       "<Figure size 432x288 with 0 Axes>"
      ]
     },
     "metadata": {},
     "output_type": "display_data"
    },
    {
     "data": {
      "image/png": "[encoded data removed]",
      "text/plain": [
       "<Figure size 864x504 with 1 Axes>"
      ]
     },
     "metadata": {},
     "output_type": "display_data"
    },
    {
     "data": {
      "text/plain": [
       "<Figure size 432x288 with 0 Axes>"
      ]
     },
     "metadata": {},
     "output_type": "display_data"
    },
    {
     "data": {
      "image/png": "[encoded data removed]",
      "text/plain": [
       "<Figure size 864x504 with 1 Axes>"
      ]
     },
     "metadata": {},
     "output_type": "display_data"
    },
    {
     "data": {
      "text/plain": [
       "<Figure size 432x288 with 0 Axes>"
      ]
     },
     "metadata": {},
     "output_type": "display_data"
    },
    {
     "data": {
      "image/png": "[encoded data removed]",
      "text/plain": [
       "<Figure size 864x504 with 1 Axes>"
      ]
     },
     "metadata": {},
     "output_type": "display_data"
    },
    {
     "data": {
      "text/plain": [
       "<Figure size 432x288 with 0 Axes>"
      ]
     },
     "metadata": {},
     "output_type": "display_data"
    },
    {
     "data": {
      "image/png": "[encoded data removed]",
      "text/plain": [
       "<Figure size 864x504 with 1 Axes>"
      ]
     },
     "metadata": {},
     "output_type": "display_data"
    },
    {
     "data": {
      "text/plain": [
       "<Figure size 432x288 with 0 Axes>"
      ]
     },
     "metadata": {},
     "output_type": "display_data"
    },
    {
     "data": {
      "image/png": "[encoded data removed]",
      "text/plain": [
       "<Figure size 864x504 with 1 Axes>"
      ]
     },
     "metadata": {},
     "output_type": "display_data"
    },
    {
     "data": {
      "text/plain": [
       "<Figure size 432x288 with 0 Axes>"
      ]
     },
     "metadata": {},
     "output_type": "display_data"
    },
    {
     "data": {
      "image/png": "[encoded data removed]",
      "text/plain": [
       "<Figure size 864x504 with 1 Axes>"
      ]
     },
     "metadata": {},
     "output_type": "display_data"
    },
    {
     "data": {
      "text/plain": [
       "<Figure size 432x288 with 0 Axes>"
      ]
     },
     "metadata": {},
     "output_type": "display_data"
    },
    {
     "data": {
      "image/png": "[encoded data removed]",
      "text/plain": [
       "<Figure size 864x504 with 1 Axes>"
      ]
     },
     "metadata": {},
     "output_type": "display_data"
    },
    {
     "data": {
      "text/plain": [
       "<Figure size 432x288 with 0 Axes>"
      ]
     },
     "metadata": {},
     "output_type": "display_data"
    },
    {
     "data": {
      "image/png": "[encoded data removed]",
      "text/plain": [
       "<Figure size 864x504 with 1 Axes>"
      ]
     },
     "metadata": {},
     "output_type": "display_data"
    },
    {
     "data": {
      "text/plain": [
       "<Figure size 432x288 with 0 Axes>"
      ]
     },
     "metadata": {},
     "output_type": "display_data"
    },
    {
     "data": {
      "image/png": "[encoded data removed]",
      "text/plain": [
       "<Figure size 864x504 with 1 Axes>"
      ]
     },
     "metadata": {},
     "output_type": "display_data"
    },
    {
     "data": {
      "text/plain": [
       "<Figure size 432x288 with 0 Axes>"
      ]
     },
     "metadata": {},
     "output_type": "display_data"
    },
    {
     "data": {
      "image/png": "[encoded data removed]",
      "text/plain": [
       "<Figure size 864x504 with 1 Axes>"
      ]
     },
     "metadata": {},
     "output_type": "display_data"
    },
    {
     "data": {
      "text/plain": [
       "<Figure size 432x288 with 0 Axes>"
      ]
     },
     "metadata": {},
     "output_type": "display_data"
    },
    {
     "data": {
      "image/png": "[encoded data removed]",
      "text/plain": [
       "<Figure size 864x504 with 1 Axes>"
      ]
     },
     "metadata": {},
     "output_type": "display_data"
    },
    {
     "data": {
      "text/plain": [
       "<Figure size 432x288 with 0 Axes>"
      ]
     },
     "metadata": {},
     "output_type": "display_data"
    },
    {
     "data": {
      "image/png": "[encoded data removed]",
      "text/plain": [
       "<Figure size 864x504 with 1 Axes>"
      ]
     },
     "metadata": {},
     "output_type": "display_data"
    }
   ],
   "source": [
    "v = meta[(meta.level == 'nominal') & (meta.keep)].index\n",
    "\n",
    "for f in v:\n",
    "    plt.figure()\n",
    "    fig, ax = plt.subplots(figsize=(12,7))\n",
    "    # Calculate the percentage of target=1 per category value\n",
    "    cat_perc = trainPortoSeguro[[f, 'target']].groupby([f],as_index=False).mean()\n",
    "    cat_perc.sort_values(by='target', ascending=False, inplace=True)\n",
    "    # Bar plot\n",
    "    # Order the bars descending on target mean\n",
    "    sns.barplot(ax=ax, x=f, y='target', data=cat_perc, order=cat_perc[f])\n",
    "    plt.ylabel('% target', fontsize=18)\n",
    "    plt.xlabel(f, fontsize=18)\n",
    "    plt.tick_params(axis='both', which='major', labelsize=18)\n",
    "    plt.show();"
   ]
  },
  {
   "cell_type": "markdown",
   "metadata": {},
   "source": [
    "As variáveis com missing parecem ter maior probabilidade de pedir por seguro é melhor manter missing como uma categoria separada\n"
   ]
  },
  {
   "cell_type": "markdown",
   "metadata": {},
   "source": [
    "### Variáveis com intervalo\n",
    "Heatmap é uma excelente solução de visualização para mirarmos a correlação dos dados [an example by Michael Waskom](http://seaborn.pydata.org/examples/many_pairwise_correlations.html)"
   ]
  },
  {
   "cell_type": "code",
   "execution_count": 286,
   "metadata": {
    "ExecuteTime": {
     "end_time": "2019-11-10T00:16:15.476736Z",
     "start_time": "2019-11-10T00:16:14.749422Z"
    }
   },
   "outputs": [
    {
     "data": {
      "image/png": "[encoded data removed]",
      "text/plain": [
       "<Figure size 720x720 with 2 Axes>"
      ]
     },
     "metadata": {},
     "output_type": "display_data"
    }
   ],
   "source": [
    "def corr_heatmap(v):\n",
    "    correlations = trainPortoSeguro[v].corr()\n",
    "\n",
    "    # Create color map ranging between two colors\n",
    "    cmap = sns.diverging_palette(220, 10, as_cmap=True)\n",
    "\n",
    "    fig, ax = plt.subplots(figsize=(10,10))\n",
    "    sns.heatmap(correlations, cmap=cmap, vmax=1.0, center=0, fmt='.2f',\n",
    "                square=True, linewidths=.5, annot=True, cbar_kws={\"shrink\": .75})\n",
    "    plt.show();\n",
    "    \n",
    "v = meta[(meta.level == 'interval') & (meta.keep)].index\n",
    "corr_heatmap(v)"
   ]
  },
  {
   "cell_type": "markdown",
   "metadata": {},
   "source": [
    "Variáveis com correl forte:\n",
    "- ps_reg_02 and ps_reg_03 (0.7)\n",
    "- ps_car_12 and ps_car13 (0.67)\n",
    "- ps_car_12 and ps_car14 (0.58)\n",
    "- ps_car_13 and ps_car15 (0.67)"
   ]
  },
  {
   "cell_type": "code",
   "execution_count": null,
   "metadata": {},
   "outputs": [],
   "source": []
  },
  {
   "cell_type": "code",
   "execution_count": 288,
   "metadata": {
    "ExecuteTime": {
     "end_time": "2019-11-10T00:21:38.863556Z",
     "start_time": "2019-11-10T00:21:38.750018Z"
    }
   },
   "outputs": [],
   "source": [
    "s = trainPortoSeguro.sample(frac=0.1)"
   ]
  },
  {
   "cell_type": "code",
   "execution_count": 289,
   "metadata": {
    "ExecuteTime": {
     "end_time": "2019-11-10T00:21:50.589649Z",
     "start_time": "2019-11-10T00:21:48.638442Z"
    }
   },
   "outputs": [
    {
     "data": {
      "image/png": "[encoded data removed]",
      "text/plain": [
       "<Figure size 402.375x360 with 1 Axes>"
      ]
     },
     "metadata": {},
     "output_type": "display_data"
    }
   ],
   "source": [
    "sns.lmplot(x='ps_reg_02', y='ps_reg_03', data=s, hue='target', palette='Set1', scatter_kws={'alpha':0.3})\n",
    "plt.show()"
   ]
  },
  {
   "cell_type": "code",
   "execution_count": null,
   "metadata": {},
   "outputs": [],
   "source": []
  },
  {
   "cell_type": "code",
   "execution_count": 290,
   "metadata": {
    "ExecuteTime": {
     "end_time": "2019-11-10T00:24:51.396073Z",
     "start_time": "2019-11-10T00:24:49.569033Z"
    }
   },
   "outputs": [
    {
     "data": {
      "image/png": "[encoded data removed]",
      "text/plain": [
       "<Figure size 402.375x360 with 1 Axes>"
      ]
     },
     "metadata": {},
     "output_type": "display_data"
    }
   ],
   "source": [
    "sns.lmplot(x='ps_car_12', y='ps_car_13', data=s, hue='target', palette='Set1', scatter_kws={'alpha':0.3})\n",
    "plt.show()"
   ]
  },
  {
   "cell_type": "code",
   "execution_count": 291,
   "metadata": {
    "ExecuteTime": {
     "end_time": "2019-11-10T00:24:59.593425Z",
     "start_time": "2019-11-10T00:24:57.879539Z"
    }
   },
   "outputs": [
    {
     "data": {
      "image/png": "[encoded data removed]",
      "text/plain": [
       "<Figure size 402.375x360 with 1 Axes>"
      ]
     },
     "metadata": {},
     "output_type": "display_data"
    }
   ],
   "source": [
    "sns.lmplot(x='ps_car_12', y='ps_car_14', data=s, hue='target', palette='Set1', scatter_kws={'alpha':0.3})\n",
    "plt.show()"
   ]
  },
  {
   "cell_type": "code",
   "execution_count": 292,
   "metadata": {
    "ExecuteTime": {
     "end_time": "2019-11-10T00:25:12.434431Z",
     "start_time": "2019-11-10T00:25:10.748376Z"
    }
   },
   "outputs": [
    {
     "data": {
      "image/png": "[encoded data removed]",
      "text/plain": [
       "<Figure size 402.375x360 with 1 Axes>"
      ]
     },
     "metadata": {},
     "output_type": "display_data"
    }
   ],
   "source": [
    "sns.lmplot(x='ps_car_15', y='ps_car_13', data=s, hue='target', palette='Set1', scatter_kws={'alpha':0.3})\n",
    "plt.show()"
   ]
  },
  {
   "cell_type": "markdown",
   "metadata": {},
   "source": [
    "Todas as variáveis tem correl alta, podemos remover do conjunto de dados"
   ]
  },
  {
   "cell_type": "markdown",
   "metadata": {},
   "source": [
    "# Corrrel entre variáveis odinárias"
   ]
  },
  {
   "cell_type": "code",
   "execution_count": 293,
   "metadata": {
    "ExecuteTime": {
     "end_time": "2019-11-10T00:26:01.536223Z",
     "start_time": "2019-11-10T00:26:00.536473Z"
    }
   },
   "outputs": [
    {
     "data": {
      "image/png": "[encoded data removed]",
      "text/plain": [
       "<Figure size 720x720 with 2 Axes>"
      ]
     },
     "metadata": {},
     "output_type": "display_data"
    }
   ],
   "source": [
    "v = meta[(meta.level == 'ordinal') & (meta.keep)].index\n",
    "corr_heatmap(v)"
   ]
  },
  {
   "cell_type": "markdown",
   "metadata": {},
   "source": [
    "Muitos modelos não conseguem aprender usando variáveis categoricas, por isso usamos técnicas de dumificação. As quais convertem as variáveis em inteiros\n",
    "\n"
   ]
  },
  {
   "cell_type": "code",
   "execution_count": 295,
   "metadata": {
    "ExecuteTime": {
     "end_time": "2019-11-10T00:34:03.594710Z",
     "start_time": "2019-11-10T00:34:02.994036Z"
    }
   },
   "outputs": [
    {
     "name": "stdout",
     "output_type": "stream",
     "text": [
      "Before dummification we have 57 variables in train\n",
      "After dummification we have 211 variables in train\n"
     ]
    }
   ],
   "source": [
    "v = meta[(meta.level == 'nominal') & (meta.keep)].index\n",
    "print('Before dummification we have {} variables in train'.format(trainPortoSeguro.shape[1]))\n",
    "trainPortoSeguro = pd.get_dummies(trainPortoSeguro, columns=v, drop_first=True)\n",
    "print('After dummification we have {} variables in train'.format(trainPortoSeguro.shape[1]))"
   ]
  },
  {
   "cell_type": "code",
   "execution_count": 297,
   "metadata": {
    "ExecuteTime": {
     "end_time": "2019-11-10T00:34:20.168122Z",
     "start_time": "2019-11-10T00:34:19.340090Z"
    }
   },
   "outputs": [
    {
     "name": "stdout",
     "output_type": "stream",
     "text": [
      "Before creating interactions we have 211 variables in train\n",
      "After creating interactions we have 266 variables in train\n"
     ]
    }
   ],
   "source": [
    "v = meta[(meta.level == 'interval') & (meta.keep)].index\n",
    "poly = PolynomialFeatures(degree=2, interaction_only=False, include_bias=False)\n",
    "interactions = pd.DataFrame(data=poly.fit_transform(trainPortoSeguro[v]), columns=poly.get_feature_names(v))\n",
    "interactions.drop(v, axis=1, inplace=True)  # Remove the original columns\n",
    "# Concat the interaction variables to the train data\n",
    "print('Before creating interactions we have {} variables in train'.format(trainPortoSeguro.shape[1]))\n",
    "trainPortoSeguro = pd.concat([trainPortoSeguro, interactions], axis=1)\n",
    "print('After creating interactions we have {} variables in train'.format(trainPortoSeguro.shape[1]))"
   ]
  },
  {
   "cell_type": "code",
   "execution_count": null,
   "metadata": {},
   "outputs": [],
   "source": []
  },
  {
   "cell_type": "markdown",
   "metadata": {},
   "source": [
    "### Removing features with low or zero variance"
   ]
  },
  {
   "cell_type": "code",
   "execution_count": 299,
   "metadata": {
    "ExecuteTime": {
     "end_time": "2019-11-10T01:19:57.137776Z",
     "start_time": "2019-11-10T01:19:54.952750Z"
    }
   },
   "outputs": [
    {
     "name": "stdout",
     "output_type": "stream",
     "text": [
      "102 variables have too low variance.\n",
      "These variables are ['ps_ind_10_bin', 'ps_ind_11_bin', 'ps_ind_12_bin', 'ps_ind_13_bin', 'ps_car_12', 'ps_car_14', 'ps_ind_05_cat_2', 'ps_ind_05_cat_5', 'ps_car_01_cat_1', 'ps_car_01_cat_2', 'ps_car_04_cat_3', 'ps_car_04_cat_4', 'ps_car_04_cat_5', 'ps_car_04_cat_6', 'ps_car_04_cat_7', 'ps_car_06_cat_2', 'ps_car_06_cat_5', 'ps_car_06_cat_8', 'ps_car_06_cat_12', 'ps_car_06_cat_16', 'ps_car_06_cat_17', 'ps_car_09_cat_4', 'ps_car_10_cat_1', 'ps_car_10_cat_2', 'ps_car_11_cat_2', 'ps_car_11_cat_3', 'ps_car_11_cat_4', 'ps_car_11_cat_6', 'ps_car_11_cat_7', 'ps_car_11_cat_8', 'ps_car_11_cat_9', 'ps_car_11_cat_13', 'ps_car_11_cat_14', 'ps_car_11_cat_15', 'ps_car_11_cat_17', 'ps_car_11_cat_18', 'ps_car_11_cat_19', 'ps_car_11_cat_20', 'ps_car_11_cat_21', 'ps_car_11_cat_23', 'ps_car_11_cat_24', 'ps_car_11_cat_25', 'ps_car_11_cat_26', 'ps_car_11_cat_29', 'ps_car_11_cat_30', 'ps_car_11_cat_31', 'ps_car_11_cat_33', 'ps_car_11_cat_34', 'ps_car_11_cat_35', 'ps_car_11_cat_36', 'ps_car_11_cat_37', 'ps_car_11_cat_40', 'ps_car_11_cat_41', 'ps_car_11_cat_42', 'ps_car_11_cat_43', 'ps_car_11_cat_44', 'ps_car_11_cat_45', 'ps_car_11_cat_46', 'ps_car_11_cat_47', 'ps_car_11_cat_48', 'ps_car_11_cat_49', 'ps_car_11_cat_50', 'ps_car_11_cat_52', 'ps_car_11_cat_53', 'ps_car_11_cat_54', 'ps_car_11_cat_55', 'ps_car_11_cat_56', 'ps_car_11_cat_57', 'ps_car_11_cat_58', 'ps_car_11_cat_59', 'ps_car_11_cat_61', 'ps_car_11_cat_62', 'ps_car_11_cat_63', 'ps_car_11_cat_66', 'ps_car_11_cat_69', 'ps_car_11_cat_71', 'ps_car_11_cat_72', 'ps_car_11_cat_73', 'ps_car_11_cat_74', 'ps_car_11_cat_75', 'ps_car_11_cat_76', 'ps_car_11_cat_77', 'ps_car_11_cat_79', 'ps_car_11_cat_80', 'ps_car_11_cat_81', 'ps_car_11_cat_84', 'ps_car_11_cat_86', 'ps_car_11_cat_88', 'ps_car_11_cat_89', 'ps_car_11_cat_90', 'ps_car_11_cat_91', 'ps_car_11_cat_93', 'ps_car_11_cat_94', 'ps_car_11_cat_95', 'ps_car_11_cat_96', 'ps_car_11_cat_97', 'ps_car_11_cat_98', 'ps_car_11_cat_100', 'ps_car_11_cat_102', 'ps_car_12^2', 'ps_car_12 ps_car_14', 'ps_car_14^2']\n"
     ]
    }
   ],
   "source": [
    "selector = VarianceThreshold(threshold=.01)\n",
    "selector.fit(trainPortoSeguro.drop(['id', 'target'], axis=1)) # Fit to train without id and target variables\n",
    "\n",
    "f = np.vectorize(lambda x : not x) # Function to toggle boolean array elements\n",
    "\n",
    "v = trainPortoSeguro.drop(['id', 'target'], axis=1).columns[f(selector.get_support())]\n",
    "print('{} variables have too low variance.'.format(len(v)))\n",
    "print('These variables are {}'.format(list(v)))"
   ]
  },
  {
   "cell_type": "code",
   "execution_count": null,
   "metadata": {},
   "outputs": [],
   "source": []
  },
  {
   "cell_type": "markdown",
   "metadata": {},
   "source": [
    "### Selecting features with a Random Forest and SelectFromModel"
   ]
  },
  {
   "cell_type": "code",
   "execution_count": 300,
   "metadata": {
    "ExecuteTime": {
     "end_time": "2019-11-10T01:31:30.305468Z",
     "start_time": "2019-11-10T01:21:03.780504Z"
    }
   },
   "outputs": [
    {
     "name": "stdout",
     "output_type": "stream",
     "text": [
      " 1) ps_car_13^2                    0.016869\n",
      " 2) ps_car_13                      0.016867\n",
      " 3) ps_reg_03 ps_car_13            0.016614\n",
      " 4) ps_car_12 ps_car_13            0.016585\n",
      " 5) ps_car_13 ps_car_14            0.016560\n",
      " 6) ps_reg_01 ps_car_13            0.016319\n",
      " 7) ps_car_13 ps_car_15            0.016216\n",
      " 8) ps_reg_03 ps_car_14            0.015710\n",
      " 9) ps_reg_03 ps_car_12            0.015121\n",
      "10) ps_reg_03 ps_car_15            0.014794\n",
      "11) ps_car_13 ps_calc_01           0.014404\n",
      "12) ps_car_13 ps_calc_02           0.014388\n",
      "13) ps_car_14 ps_car_15            0.014366\n",
      "14) ps_car_13 ps_calc_03           0.014364\n",
      "15) ps_reg_02 ps_car_13            0.014304\n",
      "16) ps_reg_01 ps_reg_03            0.014259\n",
      "17) ps_reg_03                      0.013992\n",
      "18) ps_reg_03^2                    0.013959\n",
      "19) ps_reg_01 ps_car_14            0.013875\n",
      "20) ps_reg_03 ps_calc_03           0.013504\n",
      "21) ps_reg_03 ps_calc_02           0.013448\n",
      "22) ps_reg_03 ps_calc_01           0.013433\n",
      "23) ps_car_14 ps_calc_02           0.013305\n",
      "24) ps_car_14 ps_calc_01           0.013233\n",
      "25) ps_car_14 ps_calc_03           0.013225\n",
      "26) ps_calc_10                     0.012976\n",
      "27) ps_calc_14                     0.012713\n",
      "28) ps_car_12 ps_car_14            0.012536\n",
      "29) ps_ind_03                      0.012453\n",
      "30) ps_car_14                      0.012387\n",
      "31) ps_reg_02 ps_car_14            0.012380\n",
      "32) ps_reg_02 ps_reg_03            0.012296\n",
      "33) ps_car_14^2                    0.012279\n",
      "34) ps_calc_11                     0.012103\n",
      "35) ps_ind_15                      0.011675\n",
      "36) ps_car_15 ps_calc_02           0.010738\n",
      "37) ps_car_15 ps_calc_03           0.010729\n",
      "38) ps_car_15 ps_calc_01           0.010713\n",
      "39) ps_car_12 ps_car_15            0.010590\n",
      "40) ps_car_12 ps_calc_01           0.010274\n",
      "41) ps_car_12 ps_calc_03           0.010271\n",
      "42) ps_car_12 ps_calc_02           0.010131\n",
      "43) ps_reg_02 ps_car_15            0.010114\n",
      "44) ps_calc_13                     0.010019\n",
      "45) ps_reg_01 ps_car_15            0.010000\n",
      "46) ps_calc_02 ps_calc_03          0.009978\n",
      "47) ps_calc_01 ps_calc_03          0.009936\n",
      "48) ps_calc_01 ps_calc_02          0.009919\n",
      "49) ps_calc_07                     0.009464\n",
      "50) ps_calc_08                     0.009444\n",
      "51) ps_reg_01 ps_car_12            0.009257\n",
      "52) ps_reg_02 ps_calc_01           0.009189\n",
      "53) ps_reg_02 ps_calc_03           0.009189\n",
      "54) ps_reg_02 ps_car_12            0.009137\n",
      "55) ps_reg_02 ps_calc_02           0.009112\n",
      "56) ps_reg_01 ps_calc_02           0.009087\n",
      "57) ps_reg_01 ps_calc_03           0.009077\n",
      "58) ps_reg_01 ps_calc_01           0.009003\n",
      "59) ps_calc_06                     0.008766\n",
      "60) ps_calc_09                     0.008479\n",
      "61) ps_ind_01                      0.008362\n",
      "62) ps_calc_05                     0.008057\n",
      "63) ps_reg_01 ps_reg_02            0.008025\n",
      "64) ps_calc_04                     0.007916\n",
      "65) ps_calc_12                     0.007777\n",
      "66) ps_calc_03                     0.006247\n",
      "67) ps_calc_03^2                   0.006229\n",
      "68) ps_calc_01^2                   0.006194\n",
      "69) ps_calc_02                     0.006180\n",
      "70) ps_calc_01                     0.006177\n",
      "71) ps_car_15                      0.006170\n",
      "72) ps_calc_02^2                   0.006168\n",
      "73) ps_car_15^2                    0.006155\n",
      "74) ps_car_12^2                    0.005297\n",
      "75) ps_car_12                      0.005273\n",
      "76) ps_reg_02^2                    0.005177\n",
      "77) ps_reg_02                      0.005174\n",
      "78) ps_reg_01^2                    0.004304\n",
      "79) ps_reg_01                      0.004296\n",
      "80) ps_car_11                      0.003762\n",
      "81) ps_ind_05_cat_0                0.003496\n",
      "82) ps_ind_17_bin                  0.002810\n",
      "83) ps_calc_17_bin                 0.002724\n",
      "84) ps_calc_16_bin                 0.002644\n",
      "85) ps_calc_19_bin                 0.002583\n",
      "86) ps_calc_18_bin                 0.002518\n",
      "87) ps_ind_16_bin                  0.002444\n",
      "88) ps_ind_04_cat_1                0.002435\n",
      "89) ps_ind_04_cat_0                0.002419\n",
      "90) ps_car_01_cat_11               0.002410\n",
      "91) ps_car_09_cat_2                0.002349\n",
      "92) ps_ind_07_bin                  0.002307\n",
      "93) ps_ind_02_cat_1                0.002284\n",
      "94) ps_car_09_cat_0                0.002148\n",
      "95) ps_car_01_cat_7                0.002116\n",
      "96) ps_calc_20_bin                 0.002084\n",
      "97) ps_ind_02_cat_2                0.002079\n",
      "98) ps_ind_06_bin                  0.002052\n",
      "99) ps_car_07_cat_1                0.001955\n",
      "100) ps_calc_15_bin                 0.001952\n",
      "101) ps_ind_08_bin                  0.001912\n",
      "102) ps_car_06_cat_1                0.001850\n",
      "103) ps_car_09_cat_1                0.001722\n",
      "104) ps_car_06_cat_11               0.001722\n",
      "105) ps_ind_18_bin                  0.001717\n",
      "106) ps_ind_09_bin                  0.001716\n",
      "107) ps_car_11_cat_104              0.001583\n",
      "108) ps_ind_05_cat_6                0.001546\n",
      "109) ps_car_01_cat_10               0.001539\n",
      "110) ps_car_01_cat_9                0.001504\n",
      "111) ps_car_01_cat_6                0.001491\n",
      "112) ps_car_01_cat_4                0.001440\n",
      "113) ps_car_06_cat_14               0.001424\n",
      "114) ps_ind_02_cat_3                0.001367\n",
      "115) ps_car_02_cat_0                0.001349\n",
      "116) ps_car_07_cat_0                0.001347\n",
      "117) ps_car_08_cat_1                0.001344\n",
      "118) ps_car_02_cat_1                0.001331\n",
      "119) ps_car_01_cat_8                0.001243\n",
      "120) ps_ind_05_cat_4                0.001216\n",
      "121) ps_car_06_cat_4                0.001117\n",
      "122) ps_ind_02_cat_4                0.001075\n",
      "123) ps_car_01_cat_5                0.001075\n",
      "124) ps_car_04_cat_2                0.001058\n",
      "125) ps_car_04_cat_1                0.001038\n",
      "126) ps_car_06_cat_10               0.001027\n",
      "127) ps_ind_05_cat_2                0.001024\n",
      "128) ps_car_06_cat_6                0.001015\n",
      "129) ps_car_06_cat_7                0.000912\n",
      "130) ps_car_06_cat_9                0.000901\n",
      "131) ps_car_06_cat_15               0.000873\n",
      "132) ps_car_01_cat_3                0.000835\n",
      "133) ps_car_09_cat_3                0.000832\n",
      "134) ps_ind_14                      0.000803\n",
      "135) ps_car_01_cat_0                0.000797\n",
      "136) ps_ind_05_cat_1                0.000754\n",
      "137) ps_car_11_cat_28               0.000725\n",
      "138) ps_car_11_cat_87               0.000724\n",
      "139) ps_car_11_cat_64               0.000720\n",
      "140) ps_car_11_cat_70               0.000700\n",
      "141) ps_car_11_cat_31               0.000692\n",
      "142) ps_ind_12_bin                  0.000653\n",
      "143) ps_car_10_cat_1                0.000650\n",
      "144) ps_ind_05_cat_3                0.000649\n",
      "145) ps_car_06_cat_3                0.000646\n",
      "146) ps_car_11_cat_46               0.000644\n",
      "147) ps_car_11_cat_12               0.000644\n",
      "148) ps_car_11_cat_101              0.000639\n",
      "149) ps_car_11_cat_40               0.000623\n",
      "150) ps_car_11_cat_103              0.000608\n",
      "151) ps_car_11_cat_68               0.000595\n",
      "152) ps_car_11_cat_78               0.000594\n",
      "153) ps_car_11_cat_5                0.000588\n",
      "154) ps_car_11_cat_92               0.000582\n",
      "155) ps_car_09_cat_4                0.000566\n",
      "156) ps_car_11_cat_85               0.000563\n",
      "157) ps_car_11_cat_83               0.000552\n",
      "158) ps_car_11_cat_74               0.000551\n",
      "159) ps_car_06_cat_17               0.000548\n",
      "160) ps_car_11_cat_90               0.000548\n",
      "161) ps_car_11_cat_82               0.000545\n",
      "162) ps_car_11_cat_34               0.000543\n",
      "163) ps_car_04_cat_8                0.000538\n",
      "164) ps_car_11_cat_25               0.000518\n",
      "165) ps_car_11_cat_32               0.000515\n",
      "166) ps_car_01_cat_2                0.000505\n",
      "167) ps_car_11_cat_27               0.000504\n",
      "168) ps_car_11_cat_80               0.000503\n",
      "169) ps_car_11_cat_17               0.000501\n",
      "170) ps_car_06_cat_16               0.000496\n",
      "171) ps_car_11_cat_49               0.000492\n",
      "172) ps_car_11_cat_65               0.000490\n",
      "173) ps_car_11_cat_10               0.000485\n",
      "174) ps_car_11_cat_29               0.000481\n",
      "175) ps_car_11_cat_22               0.000478\n",
      "176) ps_car_11_cat_100              0.000470\n",
      "177) ps_car_11_cat_37               0.000464\n",
      "178) ps_car_11_cat_99               0.000463\n",
      "179) ps_car_04_cat_9                0.000462\n",
      "180) ps_car_11_cat_38               0.000459\n",
      "181) ps_car_11_cat_88               0.000458\n",
      "182) ps_car_06_cat_12               0.000455\n",
      "183) ps_car_11_cat_42               0.000443\n",
      "184) ps_car_11_cat_51               0.000440\n",
      "185) ps_car_11_cat_16               0.000432\n",
      "186) ps_car_11_cat_93               0.000423\n",
      "187) ps_car_11_cat_86               0.000415\n",
      "188) ps_car_11_cat_84               0.000407\n",
      "189) ps_car_11_cat_67               0.000400\n",
      "190) ps_car_11_cat_48               0.000396\n",
      "191) ps_car_11_cat_98               0.000392\n",
      "192) ps_car_11_cat_89               0.000390\n",
      "193) ps_car_11_cat_50               0.000390\n",
      "194) ps_car_11_cat_11               0.000389\n",
      "195) ps_car_11_cat_95               0.000387\n",
      "196) ps_car_06_cat_13               0.000372\n",
      "197) ps_car_11_cat_62               0.000364\n",
      "198) ps_car_11_cat_94               0.000364\n",
      "199) ps_car_11_cat_60               0.000364\n",
      "200) ps_car_01_cat_1                0.000361\n",
      "201) ps_car_11_cat_21               0.000359\n",
      "202) ps_car_11_cat_7                0.000356\n",
      "203) ps_car_11_cat_77               0.000338\n",
      "204) ps_car_11_cat_72               0.000326\n",
      "205) ps_car_11_cat_36               0.000323\n",
      "206) ps_car_11_cat_52               0.000323\n",
      "207) ps_car_11_cat_55               0.000318\n",
      "208) ps_ind_05_cat_5                0.000308\n",
      "209) ps_car_11_cat_97               0.000307\n",
      "210) ps_car_11_cat_14               0.000305\n",
      "211) ps_car_11_cat_57               0.000302\n",
      "212) ps_car_11_cat_53               0.000299\n",
      "213) ps_car_11_cat_13               0.000298\n",
      "214) ps_car_11_cat_23               0.000298\n",
      "215) ps_car_11_cat_26               0.000294\n",
      "216) ps_car_11_cat_39               0.000291\n",
      "217) ps_car_11_cat_44               0.000290\n",
      "218) ps_car_11_cat_91               0.000289\n",
      "219) ps_car_11_cat_73               0.000288\n",
      "220) ps_car_11_cat_3                0.000288\n",
      "221) ps_car_11_cat_19               0.000288\n",
      "222) ps_car_06_cat_5                0.000281\n",
      "223) ps_car_11_cat_33               0.000280\n",
      "224) ps_car_11_cat_66               0.000279\n",
      "225) ps_car_11_cat_63               0.000276\n",
      "226) ps_car_11_cat_8                0.000268\n",
      "227) ps_car_11_cat_15               0.000263\n",
      "228) ps_car_11_cat_54               0.000263\n",
      "229) ps_car_11_cat_43               0.000261\n",
      "230) ps_car_11_cat_75               0.000260\n",
      "231) ps_car_11_cat_79               0.000260\n",
      "232) ps_car_11_cat_9                0.000250\n",
      "233) ps_car_11_cat_102              0.000247\n",
      "234) ps_car_11_cat_96               0.000242\n",
      "235) ps_car_11_cat_45               0.000241\n",
      "236) ps_car_11_cat_61               0.000238\n",
      "237) ps_car_11_cat_76               0.000232\n",
      "238) ps_car_11_cat_2                0.000227\n",
      "239) ps_car_11_cat_69               0.000215\n",
      "240) ps_car_11_cat_47               0.000214\n",
      "241) ps_car_11_cat_20               0.000210\n",
      "242) ps_car_11_cat_6                0.000208\n",
      "243) ps_car_11_cat_41               0.000204\n",
      "244) ps_car_04_cat_6                0.000203\n",
      "245) ps_ind_11_bin                  0.000199\n",
      "246) ps_car_11_cat_59               0.000197\n",
      "247) ps_car_11_cat_30               0.000186\n",
      "248) ps_car_11_cat_24               0.000180\n",
      "249) ps_car_11_cat_4                0.000168\n",
      "250) ps_car_11_cat_35               0.000155\n",
      "251) ps_ind_13_bin                  0.000147\n",
      "252) ps_car_04_cat_3                0.000146\n",
      "253) ps_car_11_cat_71               0.000144\n",
      "254) ps_car_06_cat_2                0.000137\n",
      "255) ps_car_11_cat_81               0.000128\n",
      "256) ps_car_11_cat_56               0.000127\n",
      "257) ps_car_11_cat_18               0.000123\n",
      "258) ps_car_04_cat_5                0.000096\n",
      "259) ps_car_06_cat_8                0.000094\n",
      "260) ps_car_11_cat_58               0.000092\n",
      "261) ps_car_04_cat_7                0.000075\n",
      "262) ps_ind_10_bin                  0.000068\n",
      "263) ps_car_10_cat_2                0.000060\n",
      "264) ps_car_04_cat_4                0.000038\n"
     ]
    }
   ],
   "source": [
    "X_train = trainPortoSeguro.drop(['id', 'target'], axis=1)\n",
    "y_train = trainPortoSeguro['target']\n",
    "\n",
    "feat_labels = X_train.columns\n",
    "\n",
    "rf = RandomForestClassifier(n_estimators=1000, random_state=0, n_jobs=-1)\n",
    "\n",
    "rf.fit(X_train, y_train)\n",
    "importances = rf.feature_importances_\n",
    "\n",
    "indices = np.argsort(rf.feature_importances_)[::-1]\n",
    "\n",
    "for f in range(X_train.shape[1]):\n",
    "    print(\"%2d) %-*s %f\" % (f + 1, 30,feat_labels[indices[f]], importances[indices[f]]))\n"
   ]
  },
  {
   "cell_type": "markdown",
   "metadata": {},
   "source": [
    "With SelectFromModel we can specify which prefit classifier to use and what the threshold is for the feature importances. With the *get_support* method we can then limit the number of variables in the train data."
   ]
  },
  {
   "cell_type": "code",
   "execution_count": 302,
   "metadata": {
    "ExecuteTime": {
     "end_time": "2019-11-10T02:01:16.444529Z",
     "start_time": "2019-11-10T02:01:11.521228Z"
    }
   },
   "outputs": [
    {
     "name": "stdout",
     "output_type": "stream",
     "text": [
      "Number of features before selection: 264\n",
      "Number of features after selection: 132\n"
     ]
    }
   ],
   "source": [
    "sfm = SelectFromModel(rf, threshold='median', prefit=True)\n",
    "print('Number of features before selection: {}'.format(X_train.shape[1]))\n",
    "n_features = sfm.transform(X_train).shape[1]\n",
    "print('Number of features after selection: {}'.format(n_features))\n",
    "selected_vars = list(feat_labels[sfm.get_support()])\n"
   ]
  },
  {
   "cell_type": "code",
   "execution_count": 303,
   "metadata": {
    "ExecuteTime": {
     "end_time": "2019-11-10T02:01:17.338672Z",
     "start_time": "2019-11-10T02:01:16.450447Z"
    }
   },
   "outputs": [],
   "source": [
    "trainPortoSeguro = trainPortoSeguro[selected_vars + ['target']]"
   ]
  },
  {
   "cell_type": "code",
   "execution_count": null,
   "metadata": {},
   "outputs": [],
   "source": []
  },
  {
   "cell_type": "markdown",
   "metadata": {},
   "source": [
    "## Feature scaling\n",
    "O standard scaling citado anteriormente pode serr visualizado como:"
   ]
  },
  {
   "cell_type": "markdown",
   "metadata": {},
   "source": [
    "\\begin{align}\n",
    "z = \\frac{ (x - u)} { s}\n",
    "\\end{align}\n",
    "\n",
    "onde $z$ é o resultado da transformação, $u$ é a média dos dados, $s$ é o desvio padrão"
   ]
  },
  {
   "cell_type": "code",
   "execution_count": 309,
   "metadata": {
    "ExecuteTime": {
     "end_time": "2019-11-10T02:29:39.264846Z",
     "start_time": "2019-11-10T02:29:37.992446Z"
    }
   },
   "outputs": [
    {
     "name": "stderr",
     "output_type": "stream",
     "text": [
      "/Library/Frameworks/Python.framework/Versions/3.6/lib/python3.6/site-packages/sklearn/preprocessing/data.py:625: DataConversionWarning: Data with input dtype uint8, int64, float64 were all converted to float64 by StandardScaler.\n",
      "  return self.partial_fit(X, y)\n"
     ]
    },
    {
     "name": "stdout",
     "output_type": "stream",
     "text": [
      "ps_ind_01                  int64\n",
      "ps_ind_03                  int64\n",
      "ps_ind_06_bin              int64\n",
      "ps_ind_07_bin              int64\n",
      "ps_ind_08_bin              int64\n",
      "ps_ind_09_bin              int64\n",
      "ps_ind_15                  int64\n",
      "ps_ind_16_bin              int64\n",
      "ps_ind_17_bin              int64\n",
      "ps_ind_18_bin              int64\n",
      "ps_reg_01                float64\n",
      "ps_reg_02                float64\n",
      "ps_reg_03                float64\n",
      "ps_car_11                float64\n",
      "ps_car_12                float64\n",
      "ps_car_13                float64\n",
      "ps_car_14                float64\n",
      "ps_car_15                float64\n",
      "ps_calc_01               float64\n",
      "ps_calc_02               float64\n",
      "ps_calc_03               float64\n",
      "ps_calc_04                 int64\n",
      "ps_calc_05                 int64\n",
      "ps_calc_06                 int64\n",
      "ps_calc_07                 int64\n",
      "ps_calc_08                 int64\n",
      "ps_calc_09                 int64\n",
      "ps_calc_10                 int64\n",
      "ps_calc_11                 int64\n",
      "ps_calc_12                 int64\n",
      "                          ...   \n",
      "ps_reg_03 ps_calc_03     float64\n",
      "ps_car_12^2              float64\n",
      "ps_car_12 ps_car_13      float64\n",
      "ps_car_12 ps_car_14      float64\n",
      "ps_car_12 ps_car_15      float64\n",
      "ps_car_12 ps_calc_01     float64\n",
      "ps_car_12 ps_calc_02     float64\n",
      "ps_car_12 ps_calc_03     float64\n",
      "ps_car_13^2              float64\n",
      "ps_car_13 ps_car_14      float64\n",
      "ps_car_13 ps_car_15      float64\n",
      "ps_car_13 ps_calc_01     float64\n",
      "ps_car_13 ps_calc_02     float64\n",
      "ps_car_13 ps_calc_03     float64\n",
      "ps_car_14^2              float64\n",
      "ps_car_14 ps_car_15      float64\n",
      "ps_car_14 ps_calc_01     float64\n",
      "ps_car_14 ps_calc_02     float64\n",
      "ps_car_14 ps_calc_03     float64\n",
      "ps_car_15^2              float64\n",
      "ps_car_15 ps_calc_01     float64\n",
      "ps_car_15 ps_calc_02     float64\n",
      "ps_car_15 ps_calc_03     float64\n",
      "ps_calc_01^2             float64\n",
      "ps_calc_01 ps_calc_02    float64\n",
      "ps_calc_01 ps_calc_03    float64\n",
      "ps_calc_02^2             float64\n",
      "ps_calc_02 ps_calc_03    float64\n",
      "ps_calc_03^2             float64\n",
      "target                     int64\n",
      "Length: 133, dtype: object\n"
     ]
    },
    {
     "name": "stderr",
     "output_type": "stream",
     "text": [
      "/Library/Frameworks/Python.framework/Versions/3.6/lib/python3.6/site-packages/sklearn/base.py:462: DataConversionWarning: Data with input dtype uint8, int64, float64 were all converted to float64 by StandardScaler.\n",
      "  return self.fit(X, **fit_params).transform(X)\n"
     ]
    }
   ],
   "source": [
    "scaler = StandardScaler()\n",
    "scaler.fit_transform(trainPortoSeguro.drop(['target'], axis=1))\n",
    "\n",
    "\n",
    "print(trainPortoSeguro.dtypes)\n",
    "\n",
    "#Agora eu chamo o xgboost\n"
   ]
  },
  {
   "cell_type": "code",
   "execution_count": null,
   "metadata": {},
   "outputs": [],
   "source": []
  },
  {
   "cell_type": "code",
   "execution_count": null,
   "metadata": {},
   "outputs": [],
   "source": []
  },
  {
   "cell_type": "code",
   "execution_count": null,
   "metadata": {},
   "outputs": [],
   "source": []
  }
 ],
 "metadata": {
  "kernelspec": {
   "display_name": "Python 3",
   "language": "python",
   "name": "python3"
  },
  "language_info": {
   "codemirror_mode": {
    "name": "ipython",
    "version": 3
   },
   "file_extension": ".py",
   "mimetype": "text/x-python",
   "name": "python",
   "nbconvert_exporter": "python",
   "pygments_lexer": "ipython3",
   "version": "3.6.5"
  }
 },
 "nbformat": 4,
 "nbformat_minor": 2
}
